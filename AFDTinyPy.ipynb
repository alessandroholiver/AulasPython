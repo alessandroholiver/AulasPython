{
  "nbformat": 4,
  "nbformat_minor": 0,
  "metadata": {
    "colab": {
      "name": "AFDTinyPy.ipynb",
      "provenance": [],
      "collapsed_sections": [],
      "include_colab_link": true
    },
    "kernelspec": {
      "name": "python3",
      "display_name": "Python 3"
    }
  },
  "cells": [
    {
      "cell_type": "markdown",
      "metadata": {
        "id": "view-in-github",
        "colab_type": "text"
      },
      "source": [
        "<a href=\"https://colab.research.google.com/github/alessandroholiver/AulasPython/blob/main/AFDTinyPy.ipynb\" target=\"_parent\"><img src=\"https://colab.research.google.com/assets/colab-badge.svg\" alt=\"Open In Colab\"/></a>"
      ]
    },
    {
      "cell_type": "code",
      "metadata": {
        "id": "KJ-3w4tAaeUo"
      },
      "source": [
        "from graphviz import Digraph"
      ],
      "execution_count": 1,
      "outputs": []
    },
    {
      "cell_type": "code",
      "metadata": {
        "id": "ud_s30EDdVWA"
      },
      "source": [
        "class AFD:\n",
        "\n",
        "  # construtor\n",
        "  def __init__(self, _alfabetos,_estado_inicial,_estados_finais,_transicao):\n",
        "\n",
        "    self._alfabeto = _alfabetos\n",
        "    self._estado_inicial = _estado_inicial\n",
        "    self._estados_finais = _estados_finais\n",
        "    self._transicao = _transicao\n",
        "\n",
        "\n",
        "  def reconhecer(self, palavra):\n",
        "\n",
        "    estado_atual = self._estado_inicial\n",
        "    print(f\"Estado inicial {estado_atual}\" )\n",
        "\n",
        "    for c in palavra:\n",
        "      if c not in self._alfabeto:\n",
        "        print(f\"Caracter {c} nao pertence ao alfabeto!!!\")\n",
        "        break\n",
        "      else:\n",
        "        estado_atual = self._transicao[estado_atual][c]\n",
        "        print(f\"Foi para o estado  {estado_atual} ao receber o caracter {c}\" ) \n",
        "    \n",
        "    return estado_atual in self._estados_finais \n",
        "\n",
        "  \n",
        "  def desenhar(self):\n",
        "    # passo 00: criar o digrafo\n",
        "    g = Digraph('G')\n",
        "    g.node('start', shape='plaintext')\n",
        "\n",
        "    # passo 01: para cada estado do autômato -> desenhar uma bolinha\n",
        "    for k in self._transicao:\n",
        "      # passo 02: separar os estados finais dos estados comuns\n",
        "      if k in self._estados_finais:\n",
        "        g.node(k, shape='doublecircle')\n",
        "      else:\n",
        "        g.node(k)\n",
        "\n",
        "    # passo 03: ligar o estado inicial\n",
        "    g.edge('start', self._estado_inicial)\n",
        "\n",
        "    # passo 04: fazer as transições\n",
        "    for k in self._transicao: #Origem\n",
        "      estadoOrigem = self._transicao[k]\n",
        "      for t in estadoOrigem.keys(): # transição\n",
        "        estadoDestino = estadoOrigem[t] #destino\n",
        "        g.edge(k, estadoDestino, label=t)\n",
        "            \n",
        "\n",
        "\n",
        "    return g \n"
      ],
      "execution_count": 2,
      "outputs": []
    },
    {
      "cell_type": "code",
      "metadata": {
        "id": "cO7AJm_deEfo",
        "colab": {
          "base_uri": "https://localhost:8080/",
          "height": 905
        },
        "outputId": "678610a6-0290-40d9-f5b1-727d55240f24"
      },
      "source": [
        "#AFD write e while\n",
        "alfabeto = ['w','r','i','t','e','h','l','lista_fim_token']\n",
        "estado_inicial = 'S0'\n",
        "estados_finais = ['S6','S55']\n",
        "transicao = {\n",
        "               'S0':{\n",
        "                    'w':'S1'\n",
        "                   },\n",
        "               'S1':{\n",
        "                    'r':'S2',\n",
        "                     'h':'S51'\n",
        "                   },\n",
        "              'S2':{\n",
        "                    'i':'S3'\n",
        "                   },\n",
        "              'S3':{\n",
        "                    't':'S4'\n",
        "                   },\n",
        "              'S4':{\n",
        "                    'e':'S5'\n",
        "                   },\n",
        "              'S5':{\n",
        "                    'lista_fim_token':'S6',\n",
        "                    \n",
        "                   },\n",
        "             'S51':{\n",
        "                    'i':'S52'\n",
        "                   },\n",
        "              'S52':{\n",
        "                    'l':'S53'\n",
        "                   },\n",
        "              'S53':{\n",
        "                    'e':'S54'\n",
        "                   },\n",
        "              'S54':{\n",
        "                    'lista_fim_token':'S55',\n",
        "                    \n",
        "                   },\n",
        "             'S55':{},\n",
        "              'S6':{}\n",
        "             \n",
        "            }\n",
        "M1 = AFD(alfabeto,estado_inicial,estados_finais,transicao)\n",
        "M1.desenhar()\n",
        "\n"
      ],
      "execution_count": 3,
      "outputs": [
        {
          "output_type": "execute_result",
          "data": {
            "text/plain": [
              "<graphviz.dot.Digraph at 0x7fb592dbaad0>"
            ],
            "image/svg+xml": "<?xml version=\"1.0\" encoding=\"UTF-8\" standalone=\"no\"?>\n<!DOCTYPE svg PUBLIC \"-//W3C//DTD SVG 1.1//EN\"\n \"http://www.w3.org/Graphics/SVG/1.1/DTD/svg11.dtd\">\n<!-- Generated by graphviz version 2.40.1 (20161225.0304)\n -->\n<!-- Title: G Pages: 1 -->\n<svg width=\"231pt\" height=\"663pt\"\n viewBox=\"0.00 0.00 230.80 663.00\" xmlns=\"http://www.w3.org/2000/svg\" xmlns:xlink=\"http://www.w3.org/1999/xlink\">\n<g id=\"graph0\" class=\"graph\" transform=\"scale(1 1) rotate(0) translate(4 658.9954)\">\n<title>G</title>\n<polygon fill=\"#ffffff\" stroke=\"transparent\" points=\"-4,4 -4,-658.9954 226.7982,-658.9954 226.7982,4 -4,4\"/>\n<!-- start -->\n<g id=\"node1\" class=\"node\">\n<title>start</title>\n<text text-anchor=\"middle\" x=\"80.7982\" y=\"-633.2954\" font-family=\"Times,serif\" font-size=\"14.00\" fill=\"#000000\">start</text>\n</g>\n<!-- S0 -->\n<g id=\"node2\" class=\"node\">\n<title>S0</title>\n<ellipse fill=\"none\" stroke=\"#000000\" cx=\"80.7982\" cy=\"-563.9954\" rx=\"27\" ry=\"18\"/>\n<text text-anchor=\"middle\" x=\"80.7982\" y=\"-560.2954\" font-family=\"Times,serif\" font-size=\"14.00\" fill=\"#000000\">S0</text>\n</g>\n<!-- start&#45;&gt;S0 -->\n<g id=\"edge1\" class=\"edge\">\n<title>start&#45;&gt;S0</title>\n<path fill=\"none\" stroke=\"#000000\" d=\"M80.7982,-618.9504C80.7982,-610.8782 80.7982,-601.1718 80.7982,-592.1771\"/>\n<polygon fill=\"#000000\" stroke=\"#000000\" points=\"84.2983,-592.0857 80.7982,-582.0857 77.2983,-592.0858 84.2983,-592.0857\"/>\n</g>\n<!-- S1 -->\n<g id=\"node3\" class=\"node\">\n<title>S1</title>\n<ellipse fill=\"none\" stroke=\"#000000\" cx=\"80.7982\" cy=\"-476.9954\" rx=\"27\" ry=\"18\"/>\n<text text-anchor=\"middle\" x=\"80.7982\" y=\"-473.2954\" font-family=\"Times,serif\" font-size=\"14.00\" fill=\"#000000\">S1</text>\n</g>\n<!-- S0&#45;&gt;S1 -->\n<g id=\"edge2\" class=\"edge\">\n<title>S0&#45;&gt;S1</title>\n<path fill=\"none\" stroke=\"#000000\" d=\"M80.7982,-545.9689C80.7982,-534.1872 80.7982,-518.556 80.7982,-505.1535\"/>\n<polygon fill=\"#000000\" stroke=\"#000000\" points=\"84.2983,-504.9987 80.7982,-494.9987 77.2983,-504.9988 84.2983,-504.9987\"/>\n<text text-anchor=\"middle\" x=\"86.2982\" y=\"-516.7954\" font-family=\"Times,serif\" font-size=\"14.00\" fill=\"#000000\">w</text>\n</g>\n<!-- S2 -->\n<g id=\"node4\" class=\"node\">\n<title>S2</title>\n<ellipse fill=\"none\" stroke=\"#000000\" cx=\"44.7982\" cy=\"-389.9954\" rx=\"27\" ry=\"18\"/>\n<text text-anchor=\"middle\" x=\"44.7982\" y=\"-386.2954\" font-family=\"Times,serif\" font-size=\"14.00\" fill=\"#000000\">S2</text>\n</g>\n<!-- S1&#45;&gt;S2 -->\n<g id=\"edge3\" class=\"edge\">\n<title>S1&#45;&gt;S2</title>\n<path fill=\"none\" stroke=\"#000000\" d=\"M73.513,-459.3896C68.4871,-447.2436 61.7088,-430.8628 56,-417.0665\"/>\n<polygon fill=\"#000000\" stroke=\"#000000\" points=\"59.1301,-415.4769 52.0725,-407.575 52.662,-418.1534 59.1301,-415.4769\"/>\n<text text-anchor=\"middle\" x=\"68.2982\" y=\"-429.7954\" font-family=\"Times,serif\" font-size=\"14.00\" fill=\"#000000\">r</text>\n</g>\n<!-- S51 -->\n<g id=\"node8\" class=\"node\">\n<title>S51</title>\n<ellipse fill=\"none\" stroke=\"#000000\" cx=\"116.7982\" cy=\"-389.9954\" rx=\"27\" ry=\"18\"/>\n<text text-anchor=\"middle\" x=\"116.7982\" y=\"-386.2954\" font-family=\"Times,serif\" font-size=\"14.00\" fill=\"#000000\">S51</text>\n</g>\n<!-- S1&#45;&gt;S51 -->\n<g id=\"edge4\" class=\"edge\">\n<title>S1&#45;&gt;S51</title>\n<path fill=\"none\" stroke=\"#000000\" d=\"M88.0833,-459.3896C93.1092,-447.2436 99.8875,-430.8628 105.5963,-417.0665\"/>\n<polygon fill=\"#000000\" stroke=\"#000000\" points=\"108.9343,-418.1534 109.5239,-407.575 102.4662,-415.4769 108.9343,-418.1534\"/>\n<text text-anchor=\"middle\" x=\"105.7982\" y=\"-429.7954\" font-family=\"Times,serif\" font-size=\"14.00\" fill=\"#000000\">h</text>\n</g>\n<!-- S3 -->\n<g id=\"node5\" class=\"node\">\n<title>S3</title>\n<ellipse fill=\"none\" stroke=\"#000000\" cx=\"44.7982\" cy=\"-302.9954\" rx=\"27\" ry=\"18\"/>\n<text text-anchor=\"middle\" x=\"44.7982\" y=\"-299.2954\" font-family=\"Times,serif\" font-size=\"14.00\" fill=\"#000000\">S3</text>\n</g>\n<!-- S2&#45;&gt;S3 -->\n<g id=\"edge5\" class=\"edge\">\n<title>S2&#45;&gt;S3</title>\n<path fill=\"none\" stroke=\"#000000\" d=\"M44.7982,-371.9689C44.7982,-360.1872 44.7982,-344.556 44.7982,-331.1535\"/>\n<polygon fill=\"#000000\" stroke=\"#000000\" points=\"48.2983,-330.9987 44.7982,-320.9987 41.2983,-330.9988 48.2983,-330.9987\"/>\n<text text-anchor=\"middle\" x=\"46.7982\" y=\"-342.7954\" font-family=\"Times,serif\" font-size=\"14.00\" fill=\"#000000\">i</text>\n</g>\n<!-- S4 -->\n<g id=\"node6\" class=\"node\">\n<title>S4</title>\n<ellipse fill=\"none\" stroke=\"#000000\" cx=\"44.7982\" cy=\"-215.9954\" rx=\"27\" ry=\"18\"/>\n<text text-anchor=\"middle\" x=\"44.7982\" y=\"-212.2954\" font-family=\"Times,serif\" font-size=\"14.00\" fill=\"#000000\">S4</text>\n</g>\n<!-- S3&#45;&gt;S4 -->\n<g id=\"edge6\" class=\"edge\">\n<title>S3&#45;&gt;S4</title>\n<path fill=\"none\" stroke=\"#000000\" d=\"M44.7982,-284.9689C44.7982,-273.1872 44.7982,-257.556 44.7982,-244.1535\"/>\n<polygon fill=\"#000000\" stroke=\"#000000\" points=\"48.2983,-243.9987 44.7982,-233.9987 41.2983,-243.9988 48.2983,-243.9987\"/>\n<text text-anchor=\"middle\" x=\"46.7982\" y=\"-255.7954\" font-family=\"Times,serif\" font-size=\"14.00\" fill=\"#000000\">t</text>\n</g>\n<!-- S5 -->\n<g id=\"node7\" class=\"node\">\n<title>S5</title>\n<ellipse fill=\"none\" stroke=\"#000000\" cx=\"44.7982\" cy=\"-128.9954\" rx=\"27\" ry=\"18\"/>\n<text text-anchor=\"middle\" x=\"44.7982\" y=\"-125.2954\" font-family=\"Times,serif\" font-size=\"14.00\" fill=\"#000000\">S5</text>\n</g>\n<!-- S4&#45;&gt;S5 -->\n<g id=\"edge7\" class=\"edge\">\n<title>S4&#45;&gt;S5</title>\n<path fill=\"none\" stroke=\"#000000\" d=\"M44.7982,-197.9689C44.7982,-186.1872 44.7982,-170.556 44.7982,-157.1535\"/>\n<polygon fill=\"#000000\" stroke=\"#000000\" points=\"48.2983,-156.9987 44.7982,-146.9987 41.2983,-156.9988 48.2983,-156.9987\"/>\n<text text-anchor=\"middle\" x=\"48.2982\" y=\"-168.7954\" font-family=\"Times,serif\" font-size=\"14.00\" fill=\"#000000\">e</text>\n</g>\n<!-- S6 -->\n<g id=\"node13\" class=\"node\">\n<title>S6</title>\n<ellipse fill=\"none\" stroke=\"#000000\" cx=\"24.7982\" cy=\"-29.9977\" rx=\"20.6302\" ry=\"20.6302\"/>\n<ellipse fill=\"none\" stroke=\"#000000\" cx=\"24.7982\" cy=\"-29.9977\" rx=\"24.5979\" ry=\"24.5979\"/>\n<text text-anchor=\"middle\" x=\"24.7982\" y=\"-26.2977\" font-family=\"Times,serif\" font-size=\"14.00\" fill=\"#000000\">S6</text>\n</g>\n<!-- S5&#45;&gt;S6 -->\n<g id=\"edge8\" class=\"edge\">\n<title>S5&#45;&gt;S6</title>\n<path fill=\"none\" stroke=\"#000000\" d=\"M41.1298,-110.8377C38.5027,-97.8334 34.885,-79.9263 31.7221,-64.2705\"/>\n<polygon fill=\"#000000\" stroke=\"#000000\" points=\"35.1353,-63.4906 29.7243,-54.3817 28.274,-64.8768 35.1353,-63.4906\"/>\n<text text-anchor=\"middle\" x=\"82.7982\" y=\"-81.7954\" font-family=\"Times,serif\" font-size=\"14.00\" fill=\"#000000\">lista_fim_token</text>\n</g>\n<!-- S52 -->\n<g id=\"node9\" class=\"node\">\n<title>S52</title>\n<ellipse fill=\"none\" stroke=\"#000000\" cx=\"116.7982\" cy=\"-302.9954\" rx=\"27\" ry=\"18\"/>\n<text text-anchor=\"middle\" x=\"116.7982\" y=\"-299.2954\" font-family=\"Times,serif\" font-size=\"14.00\" fill=\"#000000\">S52</text>\n</g>\n<!-- S51&#45;&gt;S52 -->\n<g id=\"edge9\" class=\"edge\">\n<title>S51&#45;&gt;S52</title>\n<path fill=\"none\" stroke=\"#000000\" d=\"M116.7982,-371.9689C116.7982,-360.1872 116.7982,-344.556 116.7982,-331.1535\"/>\n<polygon fill=\"#000000\" stroke=\"#000000\" points=\"120.2983,-330.9987 116.7982,-320.9987 113.2983,-330.9988 120.2983,-330.9987\"/>\n<text text-anchor=\"middle\" x=\"118.7982\" y=\"-342.7954\" font-family=\"Times,serif\" font-size=\"14.00\" fill=\"#000000\">i</text>\n</g>\n<!-- S53 -->\n<g id=\"node10\" class=\"node\">\n<title>S53</title>\n<ellipse fill=\"none\" stroke=\"#000000\" cx=\"116.7982\" cy=\"-215.9954\" rx=\"27\" ry=\"18\"/>\n<text text-anchor=\"middle\" x=\"116.7982\" y=\"-212.2954\" font-family=\"Times,serif\" font-size=\"14.00\" fill=\"#000000\">S53</text>\n</g>\n<!-- S52&#45;&gt;S53 -->\n<g id=\"edge10\" class=\"edge\">\n<title>S52&#45;&gt;S53</title>\n<path fill=\"none\" stroke=\"#000000\" d=\"M116.7982,-284.9689C116.7982,-273.1872 116.7982,-257.556 116.7982,-244.1535\"/>\n<polygon fill=\"#000000\" stroke=\"#000000\" points=\"120.2983,-243.9987 116.7982,-233.9987 113.2983,-243.9988 120.2983,-243.9987\"/>\n<text text-anchor=\"middle\" x=\"118.7982\" y=\"-255.7954\" font-family=\"Times,serif\" font-size=\"14.00\" fill=\"#000000\">l</text>\n</g>\n<!-- S54 -->\n<g id=\"node11\" class=\"node\">\n<title>S54</title>\n<ellipse fill=\"none\" stroke=\"#000000\" cx=\"126.7982\" cy=\"-128.9954\" rx=\"27\" ry=\"18\"/>\n<text text-anchor=\"middle\" x=\"126.7982\" y=\"-125.2954\" font-family=\"Times,serif\" font-size=\"14.00\" fill=\"#000000\">S54</text>\n</g>\n<!-- S53&#45;&gt;S54 -->\n<g id=\"edge11\" class=\"edge\">\n<title>S53&#45;&gt;S54</title>\n<path fill=\"none\" stroke=\"#000000\" d=\"M118.8702,-197.9689C120.2244,-186.1872 122.0211,-170.556 123.5616,-157.1535\"/>\n<polygon fill=\"#000000\" stroke=\"#000000\" points=\"127.0639,-157.333 124.7288,-146.9987 120.1097,-156.5336 127.0639,-157.333\"/>\n<text text-anchor=\"middle\" x=\"126.2982\" y=\"-168.7954\" font-family=\"Times,serif\" font-size=\"14.00\" fill=\"#000000\">e</text>\n</g>\n<!-- S55 -->\n<g id=\"node12\" class=\"node\">\n<title>S55</title>\n<ellipse fill=\"none\" stroke=\"#000000\" cx=\"137.7982\" cy=\"-29.9977\" rx=\"25.9957\" ry=\"25.9957\"/>\n<ellipse fill=\"none\" stroke=\"#000000\" cx=\"137.7982\" cy=\"-29.9977\" rx=\"29.9954\" ry=\"29.9954\"/>\n<text text-anchor=\"middle\" x=\"137.7982\" y=\"-26.2977\" font-family=\"Times,serif\" font-size=\"14.00\" fill=\"#000000\">S55</text>\n</g>\n<!-- S54&#45;&gt;S55 -->\n<g id=\"edge12\" class=\"edge\">\n<title>S54&#45;&gt;S55</title>\n<path fill=\"none\" stroke=\"#000000\" d=\"M128.8157,-110.8377C130.0834,-99.4286 131.7704,-84.2458 133.34,-70.1204\"/>\n<polygon fill=\"#000000\" stroke=\"#000000\" points=\"136.8286,-70.4162 134.4544,-60.0909 129.8714,-69.6431 136.8286,-70.4162\"/>\n<text text-anchor=\"middle\" x=\"177.7982\" y=\"-81.7954\" font-family=\"Times,serif\" font-size=\"14.00\" fill=\"#000000\">lista_fim_token</text>\n</g>\n</g>\n</svg>\n"
          },
          "metadata": {},
          "execution_count": 3
        }
      ]
    },
    {
      "cell_type": "code",
      "metadata": {
        "colab": {
          "base_uri": "https://localhost:8080/",
          "height": 466
        },
        "id": "d2-Leq3b_678",
        "outputId": "03e9b6e9-1cfb-4729-f9ab-89c275fd3b07"
      },
      "source": [
        "#AFD variaveis\n",
        "alfabeto = ['lista_minusculas','letras_ou_numeros','lista_fim_token']\n",
        "estado_inicial = 'S1000'\n",
        "estados_finais = ['S1002']\n",
        "transicao = {\n",
        "               'S1000':{\n",
        "                    'lista_minusculas':'S1001',\n",
        "                    'lista_fim_token':'S1002'\n",
        "                   },\n",
        "               'S1001':{\n",
        "                    'letras_ou_numeros':'S1001',\n",
        "                    'lista_fim_token':'S1002'\n",
        "                   },\n",
        "              'S1002':{}\n",
        "                   \n",
        "            }\n",
        "M1 = AFD(alfabeto,estado_inicial,estados_finais,transicao)\n",
        "M1.desenhar()"
      ],
      "execution_count": 45,
      "outputs": [
        {
          "output_type": "execute_result",
          "data": {
            "text/plain": [
              "<graphviz.dot.Digraph at 0x7fb59342aad0>"
            ],
            "image/svg+xml": "<?xml version=\"1.0\" encoding=\"UTF-8\" standalone=\"no\"?>\n<!DOCTYPE svg PUBLIC \"-//W3C//DTD SVG 1.1//EN\"\n \"http://www.w3.org/Graphics/SVG/1.1/DTD/svg11.dtd\">\n<!-- Generated by graphviz version 2.40.1 (20161225.0304)\n -->\n<!-- Title: G Pages: 1 -->\n<svg width=\"311pt\" height=\"334pt\"\n viewBox=\"0.00 0.00 310.75 334.49\" xmlns=\"http://www.w3.org/2000/svg\" xmlns:xlink=\"http://www.w3.org/1999/xlink\">\n<g id=\"graph0\" class=\"graph\" transform=\"scale(1 1) rotate(0) translate(4 330.4937)\">\n<title>G</title>\n<polygon fill=\"#ffffff\" stroke=\"transparent\" points=\"-4,4 -4,-330.4937 306.7468,-330.4937 306.7468,4 -4,4\"/>\n<!-- start -->\n<g id=\"node1\" class=\"node\">\n<title>start</title>\n<text text-anchor=\"middle\" x=\"134.7468\" y=\"-304.7937\" font-family=\"Times,serif\" font-size=\"14.00\" fill=\"#000000\">start</text>\n</g>\n<!-- S1000 -->\n<g id=\"node2\" class=\"node\">\n<title>S1000</title>\n<ellipse fill=\"none\" stroke=\"#000000\" cx=\"134.7468\" cy=\"-235.4937\" rx=\"35.9954\" ry=\"18\"/>\n<text text-anchor=\"middle\" x=\"134.7468\" y=\"-231.7937\" font-family=\"Times,serif\" font-size=\"14.00\" fill=\"#000000\">S1000</text>\n</g>\n<!-- start&#45;&gt;S1000 -->\n<g id=\"edge1\" class=\"edge\">\n<title>start&#45;&gt;S1000</title>\n<path fill=\"none\" stroke=\"#000000\" d=\"M134.7468,-290.4487C134.7468,-282.3765 134.7468,-272.67 134.7468,-263.6754\"/>\n<polygon fill=\"#000000\" stroke=\"#000000\" points=\"138.2469,-263.584 134.7468,-253.584 131.2469,-263.5841 138.2469,-263.584\"/>\n</g>\n<!-- S1001 -->\n<g id=\"node3\" class=\"node\">\n<title>S1001</title>\n<ellipse fill=\"none\" stroke=\"#000000\" cx=\"35.7468\" cy=\"-148.4937\" rx=\"35.9954\" ry=\"18\"/>\n<text text-anchor=\"middle\" x=\"35.7468\" y=\"-144.7937\" font-family=\"Times,serif\" font-size=\"14.00\" fill=\"#000000\">S1001</text>\n</g>\n<!-- S1000&#45;&gt;S1001 -->\n<g id=\"edge2\" class=\"edge\">\n<title>S1000&#45;&gt;S1001</title>\n<path fill=\"none\" stroke=\"#000000\" d=\"M116.5887,-219.5365C101.0983,-205.9238 78.6515,-186.1978 61.3393,-170.984\"/>\n<polygon fill=\"#000000\" stroke=\"#000000\" points=\"63.6119,-168.3217 53.7898,-164.3496 58.9911,-173.5799 63.6119,-168.3217\"/>\n<text text-anchor=\"middle\" x=\"138.7468\" y=\"-188.2937\" font-family=\"Times,serif\" font-size=\"14.00\" fill=\"#000000\">lista_minusculas</text>\n</g>\n<!-- S1002 -->\n<g id=\"node4\" class=\"node\">\n<title>S1002</title>\n<ellipse fill=\"none\" stroke=\"#000000\" cx=\"134.7468\" cy=\"-39.7468\" rx=\"35.9702\" ry=\"35.9702\"/>\n<ellipse fill=\"none\" stroke=\"#000000\" cx=\"134.7468\" cy=\"-39.7468\" rx=\"39.9952\" ry=\"39.9952\"/>\n<text text-anchor=\"middle\" x=\"134.7468\" y=\"-36.0468\" font-family=\"Times,serif\" font-size=\"14.00\" fill=\"#000000\">S1002</text>\n</g>\n<!-- S1000&#45;&gt;S1002 -->\n<g id=\"edge3\" class=\"edge\">\n<title>S1000&#45;&gt;S1002</title>\n<path fill=\"none\" stroke=\"#000000\" d=\"M159.98,-222.5579C170.0875,-216.5186 181.3107,-208.6352 189.7468,-199.4937 211.2405,-176.2028 218.2778,-160.3859 207.7468,-130.4937 200.2987,-109.352 185.6118,-89.5034 171.3523,-73.7926\"/>\n<polygon fill=\"#000000\" stroke=\"#000000\" points=\"173.8217,-71.3095 164.4201,-66.4248 168.7236,-76.1063 173.8217,-71.3095\"/>\n<text text-anchor=\"middle\" x=\"257.7468\" y=\"-144.7937\" font-family=\"Times,serif\" font-size=\"14.00\" fill=\"#000000\">lista_fim_token</text>\n</g>\n<!-- S1001&#45;&gt;S1001 -->\n<g id=\"edge4\" class=\"edge\">\n<title>S1001&#45;&gt;S1001</title>\n<path fill=\"none\" stroke=\"#000000\" d=\"M68.0166,-156.3566C79.8224,-156.5697 89.4937,-153.9487 89.4937,-148.4937 89.4937,-144.7433 84.9225,-142.3325 78.2291,-141.2612\"/>\n<polygon fill=\"#000000\" stroke=\"#000000\" points=\"78.2133,-137.7536 68.0166,-140.6307 77.7818,-144.7403 78.2133,-137.7536\"/>\n<text text-anchor=\"middle\" x=\"143.9937\" y=\"-144.7937\" font-family=\"Times,serif\" font-size=\"14.00\" fill=\"#000000\">letras_ou_numeros</text>\n</g>\n<!-- S1001&#45;&gt;S1002 -->\n<g id=\"edge5\" class=\"edge\">\n<title>S1001&#45;&gt;S1002</title>\n<path fill=\"none\" stroke=\"#000000\" d=\"M50.7828,-131.9774C64.0353,-117.4201 83.8306,-95.676 100.8725,-76.9562\"/>\n<polygon fill=\"#000000\" stroke=\"#000000\" points=\"103.8367,-78.8993 107.9805,-69.1484 98.6604,-74.1869 103.8367,-78.8993\"/>\n<text text-anchor=\"middle\" x=\"124.7468\" y=\"-101.2937\" font-family=\"Times,serif\" font-size=\"14.00\" fill=\"#000000\">lista_fim_token</text>\n</g>\n</g>\n</svg>\n"
          },
          "metadata": {},
          "execution_count": 45
        }
      ]
    },
    {
      "cell_type": "code",
      "metadata": {
        "id": "dpy86AFrdFGZ",
        "colab": {
          "base_uri": "https://localhost:8080/",
          "height": 789
        },
        "outputId": "0e9fc513-3874-4c79-f076-da49a361ecb2"
      },
      "source": [
        "#AFD read\n",
        "alfabeto = ['r','e','a','d','lista_fim_token']\n",
        "estado_inicial = 'S0'\n",
        "estados_finais = ['S32']\n",
        "transicao = {\n",
        "               'S0':{\n",
        "                    'r':'S28'\n",
        "                   },\n",
        "               'S28':{\n",
        "                    'e':'S29'\n",
        "                   },\n",
        "              'S29':{\n",
        "                    'a':'S30'\n",
        "                   },\n",
        "              'S30':{\n",
        "                    'd':'S31'\n",
        "                   },\n",
        "              'S31':{\n",
        "                    'lista_fim_token':'S32'\n",
        "                   },\n",
        "             'S32':{}\n",
        "                   \n",
        "            }\n",
        "M1 = AFD(alfabeto,estado_inicial,estados_finais,transicao)\n",
        "M1.desenhar()\n"
      ],
      "execution_count": 5,
      "outputs": [
        {
          "output_type": "execute_result",
          "data": {
            "text/plain": [
              "<graphviz.dot.Digraph at 0x7fb58f4b89d0>"
            ],
            "image/svg+xml": "<?xml version=\"1.0\" encoding=\"UTF-8\" standalone=\"no\"?>\n<!DOCTYPE svg PUBLIC \"-//W3C//DTD SVG 1.1//EN\"\n \"http://www.w3.org/Graphics/SVG/1.1/DTD/svg11.dtd\">\n<!-- Generated by graphviz version 2.40.1 (20161225.0304)\n -->\n<!-- Title: G Pages: 1 -->\n<svg width=\"128pt\" height=\"576pt\"\n viewBox=\"0.00 0.00 128.00 576.00\" xmlns=\"http://www.w3.org/2000/svg\" xmlns:xlink=\"http://www.w3.org/1999/xlink\">\n<g id=\"graph0\" class=\"graph\" transform=\"scale(1 1) rotate(0) translate(4 571.9954)\">\n<title>G</title>\n<polygon fill=\"#ffffff\" stroke=\"transparent\" points=\"-4,4 -4,-571.9954 123.9977,-571.9954 123.9977,4 -4,4\"/>\n<!-- start -->\n<g id=\"node1\" class=\"node\">\n<title>start</title>\n<text text-anchor=\"middle\" x=\"29.9977\" y=\"-546.2954\" font-family=\"Times,serif\" font-size=\"14.00\" fill=\"#000000\">start</text>\n</g>\n<!-- S0 -->\n<g id=\"node2\" class=\"node\">\n<title>S0</title>\n<ellipse fill=\"none\" stroke=\"#000000\" cx=\"29.9977\" cy=\"-476.9954\" rx=\"27\" ry=\"18\"/>\n<text text-anchor=\"middle\" x=\"29.9977\" y=\"-473.2954\" font-family=\"Times,serif\" font-size=\"14.00\" fill=\"#000000\">S0</text>\n</g>\n<!-- start&#45;&gt;S0 -->\n<g id=\"edge1\" class=\"edge\">\n<title>start&#45;&gt;S0</title>\n<path fill=\"none\" stroke=\"#000000\" d=\"M29.9977,-531.9504C29.9977,-523.8782 29.9977,-514.1718 29.9977,-505.1771\"/>\n<polygon fill=\"#000000\" stroke=\"#000000\" points=\"33.4978,-505.0857 29.9977,-495.0857 26.4978,-505.0858 33.4978,-505.0857\"/>\n</g>\n<!-- S28 -->\n<g id=\"node3\" class=\"node\">\n<title>S28</title>\n<ellipse fill=\"none\" stroke=\"#000000\" cx=\"29.9977\" cy=\"-389.9954\" rx=\"27\" ry=\"18\"/>\n<text text-anchor=\"middle\" x=\"29.9977\" y=\"-386.2954\" font-family=\"Times,serif\" font-size=\"14.00\" fill=\"#000000\">S28</text>\n</g>\n<!-- S0&#45;&gt;S28 -->\n<g id=\"edge2\" class=\"edge\">\n<title>S0&#45;&gt;S28</title>\n<path fill=\"none\" stroke=\"#000000\" d=\"M29.9977,-458.9689C29.9977,-447.1872 29.9977,-431.556 29.9977,-418.1535\"/>\n<polygon fill=\"#000000\" stroke=\"#000000\" points=\"33.4978,-417.9987 29.9977,-407.9987 26.4978,-417.9988 33.4978,-417.9987\"/>\n<text text-anchor=\"middle\" x=\"32.4977\" y=\"-429.7954\" font-family=\"Times,serif\" font-size=\"14.00\" fill=\"#000000\">r</text>\n</g>\n<!-- S29 -->\n<g id=\"node4\" class=\"node\">\n<title>S29</title>\n<ellipse fill=\"none\" stroke=\"#000000\" cx=\"29.9977\" cy=\"-302.9954\" rx=\"27\" ry=\"18\"/>\n<text text-anchor=\"middle\" x=\"29.9977\" y=\"-299.2954\" font-family=\"Times,serif\" font-size=\"14.00\" fill=\"#000000\">S29</text>\n</g>\n<!-- S28&#45;&gt;S29 -->\n<g id=\"edge3\" class=\"edge\">\n<title>S28&#45;&gt;S29</title>\n<path fill=\"none\" stroke=\"#000000\" d=\"M29.9977,-371.9689C29.9977,-360.1872 29.9977,-344.556 29.9977,-331.1535\"/>\n<polygon fill=\"#000000\" stroke=\"#000000\" points=\"33.4978,-330.9987 29.9977,-320.9987 26.4978,-330.9988 33.4978,-330.9987\"/>\n<text text-anchor=\"middle\" x=\"33.4977\" y=\"-342.7954\" font-family=\"Times,serif\" font-size=\"14.00\" fill=\"#000000\">e</text>\n</g>\n<!-- S30 -->\n<g id=\"node5\" class=\"node\">\n<title>S30</title>\n<ellipse fill=\"none\" stroke=\"#000000\" cx=\"29.9977\" cy=\"-215.9954\" rx=\"27\" ry=\"18\"/>\n<text text-anchor=\"middle\" x=\"29.9977\" y=\"-212.2954\" font-family=\"Times,serif\" font-size=\"14.00\" fill=\"#000000\">S30</text>\n</g>\n<!-- S29&#45;&gt;S30 -->\n<g id=\"edge4\" class=\"edge\">\n<title>S29&#45;&gt;S30</title>\n<path fill=\"none\" stroke=\"#000000\" d=\"M29.9977,-284.9689C29.9977,-273.1872 29.9977,-257.556 29.9977,-244.1535\"/>\n<polygon fill=\"#000000\" stroke=\"#000000\" points=\"33.4978,-243.9987 29.9977,-233.9987 26.4978,-243.9988 33.4978,-243.9987\"/>\n<text text-anchor=\"middle\" x=\"33.4977\" y=\"-255.7954\" font-family=\"Times,serif\" font-size=\"14.00\" fill=\"#000000\">a</text>\n</g>\n<!-- S31 -->\n<g id=\"node6\" class=\"node\">\n<title>S31</title>\n<ellipse fill=\"none\" stroke=\"#000000\" cx=\"29.9977\" cy=\"-128.9954\" rx=\"27\" ry=\"18\"/>\n<text text-anchor=\"middle\" x=\"29.9977\" y=\"-125.2954\" font-family=\"Times,serif\" font-size=\"14.00\" fill=\"#000000\">S31</text>\n</g>\n<!-- S30&#45;&gt;S31 -->\n<g id=\"edge5\" class=\"edge\">\n<title>S30&#45;&gt;S31</title>\n<path fill=\"none\" stroke=\"#000000\" d=\"M29.9977,-197.9689C29.9977,-186.1872 29.9977,-170.556 29.9977,-157.1535\"/>\n<polygon fill=\"#000000\" stroke=\"#000000\" points=\"33.4978,-156.9987 29.9977,-146.9987 26.4978,-156.9988 33.4978,-156.9987\"/>\n<text text-anchor=\"middle\" x=\"33.9977\" y=\"-168.7954\" font-family=\"Times,serif\" font-size=\"14.00\" fill=\"#000000\">d</text>\n</g>\n<!-- S32 -->\n<g id=\"node7\" class=\"node\">\n<title>S32</title>\n<ellipse fill=\"none\" stroke=\"#000000\" cx=\"29.9977\" cy=\"-29.9977\" rx=\"25.9957\" ry=\"25.9957\"/>\n<ellipse fill=\"none\" stroke=\"#000000\" cx=\"29.9977\" cy=\"-29.9977\" rx=\"29.9954\" ry=\"29.9954\"/>\n<text text-anchor=\"middle\" x=\"29.9977\" y=\"-26.2977\" font-family=\"Times,serif\" font-size=\"14.00\" fill=\"#000000\">S32</text>\n</g>\n<!-- S31&#45;&gt;S32 -->\n<g id=\"edge6\" class=\"edge\">\n<title>S31&#45;&gt;S32</title>\n<path fill=\"none\" stroke=\"#000000\" d=\"M29.9977,-110.8377C29.9977,-99.4286 29.9977,-84.2458 29.9977,-70.1204\"/>\n<polygon fill=\"#000000\" stroke=\"#000000\" points=\"33.4978,-70.0908 29.9977,-60.0909 26.4978,-70.0909 33.4978,-70.0908\"/>\n<text text-anchor=\"middle\" x=\"74.9977\" y=\"-81.7954\" font-family=\"Times,serif\" font-size=\"14.00\" fill=\"#000000\">lista_fim_token</text>\n</g>\n</g>\n</svg>\n"
          },
          "metadata": {},
          "execution_count": 5
        }
      ]
    },
    {
      "cell_type": "code",
      "metadata": {
        "colab": {
          "base_uri": "https://localhost:8080/",
          "height": 1000
        },
        "id": "8L254M3__-Ce",
        "outputId": "34def646-9aaa-45bd-a58b-9ae6c08c6f9c"
      },
      "source": [
        "#AFD end, else e elseif\n",
        "alfabeto = ['e','n','d','l','s','i','f','lista_fim_token']\n",
        "estado_inicial = 'S0'\n",
        "estados_finais = ['S36','S63', 'S103']\n",
        "transicao = {\n",
        "               'S0':{\n",
        "                    'e':'S33'\n",
        "                   },\n",
        "               'S33':{\n",
        "                    'n':'S34',\n",
        "                    'l':'S60'\n",
        "                   },\n",
        "              'S34':{\n",
        "                    'd':'S35'\n",
        "                   },\n",
        "              'S35':{\n",
        "                    'lista_fim_token':'S36'\n",
        "                   },\n",
        "             'S60':{\n",
        "                     's':'S61'\n",
        "                  },\n",
        "              'S61':{\n",
        "                     'e':'S62'\n",
        "                  },\n",
        "              'S62':{\n",
        "                     'lista_fim_token':'S63',\n",
        "                     'i': 'S101'\n",
        "                  },\n",
        "              'S101':{\n",
        "                     'f':'S102'\n",
        "                  },\n",
        "              'S102':{\n",
        "                     'lista_fim_token':'S103'\n",
        "                  },\n",
        "             'S36':{},\n",
        "             'S103':{},\n",
        "             'S63':{}\n",
        "\n",
        "            }\n",
        "M1 = AFD(alfabeto,estado_inicial,estados_finais,transicao)\n",
        "M1.desenhar()"
      ],
      "execution_count": 6,
      "outputs": [
        {
          "output_type": "execute_result",
          "data": {
            "text/plain": [
              "<graphviz.dot.Digraph at 0x7fb58d25ead0>"
            ],
            "image/svg+xml": "<?xml version=\"1.0\" encoding=\"UTF-8\" standalone=\"no\"?>\n<!DOCTYPE svg PUBLIC \"-//W3C//DTD SVG 1.1//EN\"\n \"http://www.w3.org/Graphics/SVG/1.1/DTD/svg11.dtd\">\n<!-- Generated by graphviz version 2.40.1 (20161225.0304)\n -->\n<!-- Title: G Pages: 1 -->\n<svg width=\"255pt\" height=\"807pt\"\n viewBox=\"0.00 0.00 255.00 807.09\" xmlns=\"http://www.w3.org/2000/svg\" xmlns:xlink=\"http://www.w3.org/1999/xlink\">\n<g id=\"graph0\" class=\"graph\" transform=\"scale(1 1) rotate(0) translate(4 803.0854)\">\n<title>G</title>\n<polygon fill=\"#ffffff\" stroke=\"transparent\" points=\"-4,4 -4,-803.0854 250.9977,-803.0854 250.9977,4 -4,4\"/>\n<!-- start -->\n<g id=\"node1\" class=\"node\">\n<title>start</title>\n<text text-anchor=\"middle\" x=\"84.9977\" y=\"-777.3854\" font-family=\"Times,serif\" font-size=\"14.00\" fill=\"#000000\">start</text>\n</g>\n<!-- S0 -->\n<g id=\"node2\" class=\"node\">\n<title>S0</title>\n<ellipse fill=\"none\" stroke=\"#000000\" cx=\"84.9977\" cy=\"-708.0854\" rx=\"27\" ry=\"18\"/>\n<text text-anchor=\"middle\" x=\"84.9977\" y=\"-704.3854\" font-family=\"Times,serif\" font-size=\"14.00\" fill=\"#000000\">S0</text>\n</g>\n<!-- start&#45;&gt;S0 -->\n<g id=\"edge1\" class=\"edge\">\n<title>start&#45;&gt;S0</title>\n<path fill=\"none\" stroke=\"#000000\" d=\"M84.9977,-763.0404C84.9977,-754.9682 84.9977,-745.2617 84.9977,-736.2671\"/>\n<polygon fill=\"#000000\" stroke=\"#000000\" points=\"88.4978,-736.1757 84.9977,-726.1757 81.4978,-736.1757 88.4978,-736.1757\"/>\n</g>\n<!-- S33 -->\n<g id=\"node3\" class=\"node\">\n<title>S33</title>\n<ellipse fill=\"none\" stroke=\"#000000\" cx=\"84.9977\" cy=\"-621.0854\" rx=\"27\" ry=\"18\"/>\n<text text-anchor=\"middle\" x=\"84.9977\" y=\"-617.3854\" font-family=\"Times,serif\" font-size=\"14.00\" fill=\"#000000\">S33</text>\n</g>\n<!-- S0&#45;&gt;S33 -->\n<g id=\"edge2\" class=\"edge\">\n<title>S0&#45;&gt;S33</title>\n<path fill=\"none\" stroke=\"#000000\" d=\"M84.9977,-690.0589C84.9977,-678.2771 84.9977,-662.646 84.9977,-649.2434\"/>\n<polygon fill=\"#000000\" stroke=\"#000000\" points=\"88.4978,-649.0887 84.9977,-639.0887 81.4978,-649.0887 88.4978,-649.0887\"/>\n<text text-anchor=\"middle\" x=\"88.4977\" y=\"-660.8854\" font-family=\"Times,serif\" font-size=\"14.00\" fill=\"#000000\">e</text>\n</g>\n<!-- S34 -->\n<g id=\"node4\" class=\"node\">\n<title>S34</title>\n<ellipse fill=\"none\" stroke=\"#000000\" cx=\"49.9977\" cy=\"-534.0854\" rx=\"27\" ry=\"18\"/>\n<text text-anchor=\"middle\" x=\"49.9977\" y=\"-530.3854\" font-family=\"Times,serif\" font-size=\"14.00\" fill=\"#000000\">S34</text>\n</g>\n<!-- S33&#45;&gt;S34 -->\n<g id=\"edge3\" class=\"edge\">\n<title>S33&#45;&gt;S34</title>\n<path fill=\"none\" stroke=\"#000000\" d=\"M77.9149,-603.4796C73.0286,-591.3336 66.4386,-574.9528 60.8884,-561.1565\"/>\n<polygon fill=\"#000000\" stroke=\"#000000\" points=\"64.0494,-559.636 57.0699,-551.6649 57.5552,-562.2486 64.0494,-559.636\"/>\n<text text-anchor=\"middle\" x=\"73.9977\" y=\"-573.8854\" font-family=\"Times,serif\" font-size=\"14.00\" fill=\"#000000\">n</text>\n</g>\n<!-- S60 -->\n<g id=\"node6\" class=\"node\">\n<title>S60</title>\n<ellipse fill=\"none\" stroke=\"#000000\" cx=\"121.9977\" cy=\"-534.0854\" rx=\"27\" ry=\"18\"/>\n<text text-anchor=\"middle\" x=\"121.9977\" y=\"-530.3854\" font-family=\"Times,serif\" font-size=\"14.00\" fill=\"#000000\">S60</text>\n</g>\n<!-- S33&#45;&gt;S60 -->\n<g id=\"edge4\" class=\"edge\">\n<title>S33&#45;&gt;S60</title>\n<path fill=\"none\" stroke=\"#000000\" d=\"M92.4852,-603.4796C97.6508,-591.3336 104.6173,-574.9528 110.4847,-561.1565\"/>\n<polygon fill=\"#000000\" stroke=\"#000000\" points=\"113.8284,-562.2371 114.5213,-551.6649 107.3868,-559.4975 113.8284,-562.2371\"/>\n<text text-anchor=\"middle\" x=\"107.9977\" y=\"-573.8854\" font-family=\"Times,serif\" font-size=\"14.00\" fill=\"#000000\">l</text>\n</g>\n<!-- S35 -->\n<g id=\"node5\" class=\"node\">\n<title>S35</title>\n<ellipse fill=\"none\" stroke=\"#000000\" cx=\"49.9977\" cy=\"-447.0854\" rx=\"27\" ry=\"18\"/>\n<text text-anchor=\"middle\" x=\"49.9977\" y=\"-443.3854\" font-family=\"Times,serif\" font-size=\"14.00\" fill=\"#000000\">S35</text>\n</g>\n<!-- S34&#45;&gt;S35 -->\n<g id=\"edge5\" class=\"edge\">\n<title>S34&#45;&gt;S35</title>\n<path fill=\"none\" stroke=\"#000000\" d=\"M49.9977,-516.0589C49.9977,-504.2771 49.9977,-488.646 49.9977,-475.2434\"/>\n<polygon fill=\"#000000\" stroke=\"#000000\" points=\"53.4978,-475.0887 49.9977,-465.0887 46.4978,-475.0887 53.4978,-475.0887\"/>\n<text text-anchor=\"middle\" x=\"53.9977\" y=\"-486.8854\" font-family=\"Times,serif\" font-size=\"14.00\" fill=\"#000000\">d</text>\n</g>\n<!-- S36 -->\n<g id=\"node11\" class=\"node\">\n<title>S36</title>\n<ellipse fill=\"none\" stroke=\"#000000\" cx=\"29.9977\" cy=\"-348.0877\" rx=\"25.9957\" ry=\"25.9957\"/>\n<ellipse fill=\"none\" stroke=\"#000000\" cx=\"29.9977\" cy=\"-348.0877\" rx=\"29.9954\" ry=\"29.9954\"/>\n<text text-anchor=\"middle\" x=\"29.9977\" y=\"-344.3877\" font-family=\"Times,serif\" font-size=\"14.00\" fill=\"#000000\">S36</text>\n</g>\n<!-- S35&#45;&gt;S36 -->\n<g id=\"edge6\" class=\"edge\">\n<title>S35&#45;&gt;S36</title>\n<path fill=\"none\" stroke=\"#000000\" d=\"M46.3294,-428.9276C44.0063,-417.4287 40.9088,-402.0965 38.0361,-387.8769\"/>\n<polygon fill=\"#000000\" stroke=\"#000000\" points=\"41.4094,-386.8991 35.9984,-377.7902 34.548,-388.2853 41.4094,-386.8991\"/>\n<text text-anchor=\"middle\" x=\"87.9977\" y=\"-399.8854\" font-family=\"Times,serif\" font-size=\"14.00\" fill=\"#000000\">lista_fim_token</text>\n</g>\n<!-- S61 -->\n<g id=\"node7\" class=\"node\">\n<title>S61</title>\n<ellipse fill=\"none\" stroke=\"#000000\" cx=\"131.9977\" cy=\"-447.0854\" rx=\"27\" ry=\"18\"/>\n<text text-anchor=\"middle\" x=\"131.9977\" y=\"-443.3854\" font-family=\"Times,serif\" font-size=\"14.00\" fill=\"#000000\">S61</text>\n</g>\n<!-- S60&#45;&gt;S61 -->\n<g id=\"edge7\" class=\"edge\">\n<title>S60&#45;&gt;S61</title>\n<path fill=\"none\" stroke=\"#000000\" d=\"M124.0697,-516.0589C125.4239,-504.2771 127.2206,-488.646 128.7611,-475.2434\"/>\n<polygon fill=\"#000000\" stroke=\"#000000\" points=\"132.2635,-475.423 129.9283,-465.0887 125.3092,-474.6236 132.2635,-475.423\"/>\n<text text-anchor=\"middle\" x=\"130.9977\" y=\"-486.8854\" font-family=\"Times,serif\" font-size=\"14.00\" fill=\"#000000\">s</text>\n</g>\n<!-- S62 -->\n<g id=\"node8\" class=\"node\">\n<title>S62</title>\n<ellipse fill=\"none\" stroke=\"#000000\" cx=\"142.9977\" cy=\"-348.0877\" rx=\"27\" ry=\"18\"/>\n<text text-anchor=\"middle\" x=\"142.9977\" y=\"-344.3877\" font-family=\"Times,serif\" font-size=\"14.00\" fill=\"#000000\">S62</text>\n</g>\n<!-- S61&#45;&gt;S62 -->\n<g id=\"edge8\" class=\"edge\">\n<title>S61&#45;&gt;S62</title>\n<path fill=\"none\" stroke=\"#000000\" d=\"M134.0153,-428.9276C135.6434,-414.2749 137.9631,-393.3976 139.8374,-376.53\"/>\n<polygon fill=\"#000000\" stroke=\"#000000\" points=\"143.3671,-376.4556 140.9929,-366.1302 136.4099,-375.6825 143.3671,-376.4556\"/>\n<text text-anchor=\"middle\" x=\"141.4977\" y=\"-399.8854\" font-family=\"Times,serif\" font-size=\"14.00\" fill=\"#000000\">e</text>\n</g>\n<!-- S101 -->\n<g id=\"node9\" class=\"node\">\n<title>S101</title>\n<ellipse fill=\"none\" stroke=\"#000000\" cx=\"89.9977\" cy=\"-237.0923\" rx=\"30.5947\" ry=\"18\"/>\n<text text-anchor=\"middle\" x=\"89.9977\" y=\"-233.3923\" font-family=\"Times,serif\" font-size=\"14.00\" fill=\"#000000\">S101</text>\n</g>\n<!-- S62&#45;&gt;S101 -->\n<g id=\"edge10\" class=\"edge\">\n<title>S62&#45;&gt;S101</title>\n<path fill=\"none\" stroke=\"#000000\" d=\"M134.7164,-330.7446C126.1711,-312.8485 112.7269,-284.693 102.809,-263.9225\"/>\n<polygon fill=\"#000000\" stroke=\"#000000\" points=\"105.8631,-262.1957 98.3957,-254.6798 99.5463,-265.212 105.8631,-262.1957\"/>\n<text text-anchor=\"middle\" x=\"121.9977\" y=\"-288.89\" font-family=\"Times,serif\" font-size=\"14.00\" fill=\"#000000\">i</text>\n</g>\n<!-- S63 -->\n<g id=\"node13\" class=\"node\">\n<title>S63</title>\n<ellipse fill=\"none\" stroke=\"#000000\" cx=\"168.9977\" cy=\"-237.0923\" rx=\"25.9957\" ry=\"25.9957\"/>\n<ellipse fill=\"none\" stroke=\"#000000\" cx=\"168.9977\" cy=\"-237.0923\" rx=\"29.9954\" ry=\"29.9954\"/>\n<text text-anchor=\"middle\" x=\"168.9977\" y=\"-233.3923\" font-family=\"Times,serif\" font-size=\"14.00\" fill=\"#000000\">S63</text>\n</g>\n<!-- S62&#45;&gt;S63 -->\n<g id=\"edge9\" class=\"edge\">\n<title>S62&#45;&gt;S63</title>\n<path fill=\"none\" stroke=\"#000000\" d=\"M147.175,-330.2543C150.5663,-315.7767 155.4743,-294.8243 159.7772,-276.4549\"/>\n<polygon fill=\"#000000\" stroke=\"#000000\" points=\"163.219,-277.1076 162.092,-266.5729 156.4035,-275.5111 163.219,-277.1076\"/>\n<text text-anchor=\"middle\" x=\"201.9977\" y=\"-288.89\" font-family=\"Times,serif\" font-size=\"14.00\" fill=\"#000000\">lista_fim_token</text>\n</g>\n<!-- S102 -->\n<g id=\"node10\" class=\"node\">\n<title>S102</title>\n<ellipse fill=\"none\" stroke=\"#000000\" cx=\"89.9977\" cy=\"-138.0946\" rx=\"30.5947\" ry=\"18\"/>\n<text text-anchor=\"middle\" x=\"89.9977\" y=\"-134.3946\" font-family=\"Times,serif\" font-size=\"14.00\" fill=\"#000000\">S102</text>\n</g>\n<!-- S101&#45;&gt;S102 -->\n<g id=\"edge11\" class=\"edge\">\n<title>S101&#45;&gt;S102</title>\n<path fill=\"none\" stroke=\"#000000\" d=\"M89.9977,-218.9346C89.9977,-204.2818 89.9977,-183.4046 89.9977,-166.5369\"/>\n<polygon fill=\"#000000\" stroke=\"#000000\" points=\"93.4978,-166.1371 89.9977,-156.1372 86.4978,-166.1372 93.4978,-166.1371\"/>\n<text text-anchor=\"middle\" x=\"92.4977\" y=\"-177.8946\" font-family=\"Times,serif\" font-size=\"14.00\" fill=\"#000000\">f</text>\n</g>\n<!-- S103 -->\n<g id=\"node12\" class=\"node\">\n<title>S103</title>\n<ellipse fill=\"none\" stroke=\"#000000\" cx=\"89.9977\" cy=\"-34.5473\" rx=\"30.5892\" ry=\"30.5892\"/>\n<ellipse fill=\"none\" stroke=\"#000000\" cx=\"89.9977\" cy=\"-34.5473\" rx=\"34.5946\" ry=\"34.5946\"/>\n<text text-anchor=\"middle\" x=\"89.9977\" y=\"-30.8473\" font-family=\"Times,serif\" font-size=\"14.00\" fill=\"#000000\">S103</text>\n</g>\n<!-- S102&#45;&gt;S103 -->\n<g id=\"edge12\" class=\"edge\">\n<title>S102&#45;&gt;S103</title>\n<path fill=\"none\" stroke=\"#000000\" d=\"M89.9977,-120.058C89.9977,-108.7745 89.9977,-93.7042 89.9977,-79.36\"/>\n<polygon fill=\"#000000\" stroke=\"#000000\" points=\"93.4978,-79.108 89.9977,-69.108 86.4978,-79.108 93.4978,-79.108\"/>\n<text text-anchor=\"middle\" x=\"134.9977\" y=\"-90.8946\" font-family=\"Times,serif\" font-size=\"14.00\" fill=\"#000000\">lista_fim_token</text>\n</g>\n</g>\n</svg>\n"
          },
          "metadata": {},
          "execution_count": 6
        }
      ]
    },
    {
      "cell_type": "code",
      "metadata": {
        "colab": {
          "base_uri": "https://localhost:8080/",
          "height": 905
        },
        "id": "uKgPvRW4Kr4E",
        "outputId": "a78bac64-34ee-48cf-964b-f4fa0d956d13"
      },
      "source": [
        "#AFD begin\n",
        "alfabeto = ['b','e','g','i','n','lista_fim_token']\n",
        "estado_inicial = 'S0'\n",
        "estados_finais = ['S42']\n",
        "transicao = {\n",
        "               'S0':{\n",
        "                    'b':'S37'\n",
        "                   },\n",
        "               'S37':{\n",
        "                    'e':'S38'\n",
        "                   },\n",
        "              'S38':{\n",
        "                    'g':'S39'\n",
        "                   },\n",
        "              'S39':{\n",
        "                    'i':'S40'\n",
        "                   },\n",
        "              'S40':{\n",
        "                    'n':'S41'\n",
        "                   },\n",
        "              'S41':{\n",
        "                    'lista_fim_token':'S42',\n",
        "                    \n",
        "                   },\n",
        "             'S42':{}\n",
        "             \n",
        "            }\n",
        "M1 = AFD(alfabeto,estado_inicial,estados_finais,transicao)\n",
        "M1.desenhar()\n"
      ],
      "execution_count": 7,
      "outputs": [
        {
          "output_type": "execute_result",
          "data": {
            "text/plain": [
              "<graphviz.dot.Digraph at 0x7fb58d224210>"
            ],
            "image/svg+xml": "<?xml version=\"1.0\" encoding=\"UTF-8\" standalone=\"no\"?>\n<!DOCTYPE svg PUBLIC \"-//W3C//DTD SVG 1.1//EN\"\n \"http://www.w3.org/Graphics/SVG/1.1/DTD/svg11.dtd\">\n<!-- Generated by graphviz version 2.40.1 (20161225.0304)\n -->\n<!-- Title: G Pages: 1 -->\n<svg width=\"128pt\" height=\"663pt\"\n viewBox=\"0.00 0.00 128.00 663.00\" xmlns=\"http://www.w3.org/2000/svg\" xmlns:xlink=\"http://www.w3.org/1999/xlink\">\n<g id=\"graph0\" class=\"graph\" transform=\"scale(1 1) rotate(0) translate(4 658.9954)\">\n<title>G</title>\n<polygon fill=\"#ffffff\" stroke=\"transparent\" points=\"-4,4 -4,-658.9954 123.9977,-658.9954 123.9977,4 -4,4\"/>\n<!-- start -->\n<g id=\"node1\" class=\"node\">\n<title>start</title>\n<text text-anchor=\"middle\" x=\"29.9977\" y=\"-633.2954\" font-family=\"Times,serif\" font-size=\"14.00\" fill=\"#000000\">start</text>\n</g>\n<!-- S0 -->\n<g id=\"node2\" class=\"node\">\n<title>S0</title>\n<ellipse fill=\"none\" stroke=\"#000000\" cx=\"29.9977\" cy=\"-563.9954\" rx=\"27\" ry=\"18\"/>\n<text text-anchor=\"middle\" x=\"29.9977\" y=\"-560.2954\" font-family=\"Times,serif\" font-size=\"14.00\" fill=\"#000000\">S0</text>\n</g>\n<!-- start&#45;&gt;S0 -->\n<g id=\"edge1\" class=\"edge\">\n<title>start&#45;&gt;S0</title>\n<path fill=\"none\" stroke=\"#000000\" d=\"M29.9977,-618.9504C29.9977,-610.8782 29.9977,-601.1718 29.9977,-592.1771\"/>\n<polygon fill=\"#000000\" stroke=\"#000000\" points=\"33.4978,-592.0857 29.9977,-582.0857 26.4978,-592.0858 33.4978,-592.0857\"/>\n</g>\n<!-- S37 -->\n<g id=\"node3\" class=\"node\">\n<title>S37</title>\n<ellipse fill=\"none\" stroke=\"#000000\" cx=\"29.9977\" cy=\"-476.9954\" rx=\"27\" ry=\"18\"/>\n<text text-anchor=\"middle\" x=\"29.9977\" y=\"-473.2954\" font-family=\"Times,serif\" font-size=\"14.00\" fill=\"#000000\">S37</text>\n</g>\n<!-- S0&#45;&gt;S37 -->\n<g id=\"edge2\" class=\"edge\">\n<title>S0&#45;&gt;S37</title>\n<path fill=\"none\" stroke=\"#000000\" d=\"M29.9977,-545.9689C29.9977,-534.1872 29.9977,-518.556 29.9977,-505.1535\"/>\n<polygon fill=\"#000000\" stroke=\"#000000\" points=\"33.4978,-504.9987 29.9977,-494.9987 26.4978,-504.9988 33.4978,-504.9987\"/>\n<text text-anchor=\"middle\" x=\"33.9977\" y=\"-516.7954\" font-family=\"Times,serif\" font-size=\"14.00\" fill=\"#000000\">b</text>\n</g>\n<!-- S38 -->\n<g id=\"node4\" class=\"node\">\n<title>S38</title>\n<ellipse fill=\"none\" stroke=\"#000000\" cx=\"29.9977\" cy=\"-389.9954\" rx=\"27\" ry=\"18\"/>\n<text text-anchor=\"middle\" x=\"29.9977\" y=\"-386.2954\" font-family=\"Times,serif\" font-size=\"14.00\" fill=\"#000000\">S38</text>\n</g>\n<!-- S37&#45;&gt;S38 -->\n<g id=\"edge3\" class=\"edge\">\n<title>S37&#45;&gt;S38</title>\n<path fill=\"none\" stroke=\"#000000\" d=\"M29.9977,-458.9689C29.9977,-447.1872 29.9977,-431.556 29.9977,-418.1535\"/>\n<polygon fill=\"#000000\" stroke=\"#000000\" points=\"33.4978,-417.9987 29.9977,-407.9987 26.4978,-417.9988 33.4978,-417.9987\"/>\n<text text-anchor=\"middle\" x=\"33.4977\" y=\"-429.7954\" font-family=\"Times,serif\" font-size=\"14.00\" fill=\"#000000\">e</text>\n</g>\n<!-- S39 -->\n<g id=\"node5\" class=\"node\">\n<title>S39</title>\n<ellipse fill=\"none\" stroke=\"#000000\" cx=\"29.9977\" cy=\"-302.9954\" rx=\"27\" ry=\"18\"/>\n<text text-anchor=\"middle\" x=\"29.9977\" y=\"-299.2954\" font-family=\"Times,serif\" font-size=\"14.00\" fill=\"#000000\">S39</text>\n</g>\n<!-- S38&#45;&gt;S39 -->\n<g id=\"edge4\" class=\"edge\">\n<title>S38&#45;&gt;S39</title>\n<path fill=\"none\" stroke=\"#000000\" d=\"M29.9977,-371.9689C29.9977,-360.1872 29.9977,-344.556 29.9977,-331.1535\"/>\n<polygon fill=\"#000000\" stroke=\"#000000\" points=\"33.4978,-330.9987 29.9977,-320.9987 26.4978,-330.9988 33.4978,-330.9987\"/>\n<text text-anchor=\"middle\" x=\"33.9977\" y=\"-342.7954\" font-family=\"Times,serif\" font-size=\"14.00\" fill=\"#000000\">g</text>\n</g>\n<!-- S40 -->\n<g id=\"node6\" class=\"node\">\n<title>S40</title>\n<ellipse fill=\"none\" stroke=\"#000000\" cx=\"29.9977\" cy=\"-215.9954\" rx=\"27\" ry=\"18\"/>\n<text text-anchor=\"middle\" x=\"29.9977\" y=\"-212.2954\" font-family=\"Times,serif\" font-size=\"14.00\" fill=\"#000000\">S40</text>\n</g>\n<!-- S39&#45;&gt;S40 -->\n<g id=\"edge5\" class=\"edge\">\n<title>S39&#45;&gt;S40</title>\n<path fill=\"none\" stroke=\"#000000\" d=\"M29.9977,-284.9689C29.9977,-273.1872 29.9977,-257.556 29.9977,-244.1535\"/>\n<polygon fill=\"#000000\" stroke=\"#000000\" points=\"33.4978,-243.9987 29.9977,-233.9987 26.4978,-243.9988 33.4978,-243.9987\"/>\n<text text-anchor=\"middle\" x=\"31.9977\" y=\"-255.7954\" font-family=\"Times,serif\" font-size=\"14.00\" fill=\"#000000\">i</text>\n</g>\n<!-- S41 -->\n<g id=\"node7\" class=\"node\">\n<title>S41</title>\n<ellipse fill=\"none\" stroke=\"#000000\" cx=\"29.9977\" cy=\"-128.9954\" rx=\"27\" ry=\"18\"/>\n<text text-anchor=\"middle\" x=\"29.9977\" y=\"-125.2954\" font-family=\"Times,serif\" font-size=\"14.00\" fill=\"#000000\">S41</text>\n</g>\n<!-- S40&#45;&gt;S41 -->\n<g id=\"edge6\" class=\"edge\">\n<title>S40&#45;&gt;S41</title>\n<path fill=\"none\" stroke=\"#000000\" d=\"M29.9977,-197.9689C29.9977,-186.1872 29.9977,-170.556 29.9977,-157.1535\"/>\n<polygon fill=\"#000000\" stroke=\"#000000\" points=\"33.4978,-156.9987 29.9977,-146.9987 26.4978,-156.9988 33.4978,-156.9987\"/>\n<text text-anchor=\"middle\" x=\"33.9977\" y=\"-168.7954\" font-family=\"Times,serif\" font-size=\"14.00\" fill=\"#000000\">n</text>\n</g>\n<!-- S42 -->\n<g id=\"node8\" class=\"node\">\n<title>S42</title>\n<ellipse fill=\"none\" stroke=\"#000000\" cx=\"29.9977\" cy=\"-29.9977\" rx=\"25.9957\" ry=\"25.9957\"/>\n<ellipse fill=\"none\" stroke=\"#000000\" cx=\"29.9977\" cy=\"-29.9977\" rx=\"29.9954\" ry=\"29.9954\"/>\n<text text-anchor=\"middle\" x=\"29.9977\" y=\"-26.2977\" font-family=\"Times,serif\" font-size=\"14.00\" fill=\"#000000\">S42</text>\n</g>\n<!-- S41&#45;&gt;S42 -->\n<g id=\"edge7\" class=\"edge\">\n<title>S41&#45;&gt;S42</title>\n<path fill=\"none\" stroke=\"#000000\" d=\"M29.9977,-110.8377C29.9977,-99.4286 29.9977,-84.2458 29.9977,-70.1204\"/>\n<polygon fill=\"#000000\" stroke=\"#000000\" points=\"33.4978,-70.0908 29.9977,-60.0909 26.4978,-70.0909 33.4978,-70.0908\"/>\n<text text-anchor=\"middle\" x=\"74.9977\" y=\"-81.7954\" font-family=\"Times,serif\" font-size=\"14.00\" fill=\"#000000\">lista_fim_token</text>\n</g>\n</g>\n</svg>\n"
          },
          "metadata": {},
          "execution_count": 7
        }
      ]
    },
    {
      "cell_type": "code",
      "metadata": {
        "colab": {
          "base_uri": "https://localhost:8080/",
          "height": 1000
        },
        "id": "TDfwoCS0LxBg",
        "outputId": "c8b885aa-2931-42b1-a8f5-cc97c76dc7c0"
      },
      "source": [
        "#AFD program\n",
        "alfabeto = ['p','r','o','g','r','a','m','lista_fim_token']\n",
        "estado_inicial = 'S0'\n",
        "estados_finais = ['S50']\n",
        "transicao = {\n",
        "               'S0':{\n",
        "                    'p':'S43'\n",
        "                    \n",
        "                   },\n",
        "               'S43':{\n",
        "                    'r':'S44'\n",
        "                   },\n",
        "              'S44':{\n",
        "                    'o':'S45'\n",
        "                   },\n",
        "              'S45':{\n",
        "                    'g':'S46'\n",
        "                   },\n",
        "              'S46':{\n",
        "                    'r':'S47'\n",
        "                   },\n",
        "              'S47':{\n",
        "                    'a':'S48'\n",
        "                   },\n",
        "              'S48':{\n",
        "                    'm':'S49'\n",
        "                   },\n",
        "              'S49':{\n",
        "                    'lista_fim_token':'S50'\n",
        "                   },\n",
        "              \n",
        "             'S50':{}\n",
        "             \n",
        "            }\n",
        "M1 = AFD(alfabeto,estado_inicial,estados_finais,transicao)\n",
        "M1.desenhar()"
      ],
      "execution_count": 9,
      "outputs": [
        {
          "output_type": "execute_result",
          "data": {
            "text/plain": [
              "<graphviz.dot.Digraph at 0x7fb592d47d90>"
            ],
            "image/svg+xml": "<?xml version=\"1.0\" encoding=\"UTF-8\" standalone=\"no\"?>\n<!DOCTYPE svg PUBLIC \"-//W3C//DTD SVG 1.1//EN\"\n \"http://www.w3.org/Graphics/SVG/1.1/DTD/svg11.dtd\">\n<!-- Generated by graphviz version 2.40.1 (20161225.0304)\n -->\n<!-- Title: G Pages: 1 -->\n<svg width=\"128pt\" height=\"837pt\"\n viewBox=\"0.00 0.00 128.00 837.00\" xmlns=\"http://www.w3.org/2000/svg\" xmlns:xlink=\"http://www.w3.org/1999/xlink\">\n<g id=\"graph0\" class=\"graph\" transform=\"scale(1 1) rotate(0) translate(4 832.9954)\">\n<title>G</title>\n<polygon fill=\"#ffffff\" stroke=\"transparent\" points=\"-4,4 -4,-832.9954 123.9977,-832.9954 123.9977,4 -4,4\"/>\n<!-- start -->\n<g id=\"node1\" class=\"node\">\n<title>start</title>\n<text text-anchor=\"middle\" x=\"29.9977\" y=\"-807.2954\" font-family=\"Times,serif\" font-size=\"14.00\" fill=\"#000000\">start</text>\n</g>\n<!-- S0 -->\n<g id=\"node2\" class=\"node\">\n<title>S0</title>\n<ellipse fill=\"none\" stroke=\"#000000\" cx=\"29.9977\" cy=\"-737.9954\" rx=\"27\" ry=\"18\"/>\n<text text-anchor=\"middle\" x=\"29.9977\" y=\"-734.2954\" font-family=\"Times,serif\" font-size=\"14.00\" fill=\"#000000\">S0</text>\n</g>\n<!-- start&#45;&gt;S0 -->\n<g id=\"edge1\" class=\"edge\">\n<title>start&#45;&gt;S0</title>\n<path fill=\"none\" stroke=\"#000000\" d=\"M29.9977,-792.9504C29.9977,-784.8782 29.9977,-775.1718 29.9977,-766.1771\"/>\n<polygon fill=\"#000000\" stroke=\"#000000\" points=\"33.4978,-766.0857 29.9977,-756.0857 26.4978,-766.0858 33.4978,-766.0857\"/>\n</g>\n<!-- S43 -->\n<g id=\"node3\" class=\"node\">\n<title>S43</title>\n<ellipse fill=\"none\" stroke=\"#000000\" cx=\"29.9977\" cy=\"-650.9954\" rx=\"27\" ry=\"18\"/>\n<text text-anchor=\"middle\" x=\"29.9977\" y=\"-647.2954\" font-family=\"Times,serif\" font-size=\"14.00\" fill=\"#000000\">S43</text>\n</g>\n<!-- S0&#45;&gt;S43 -->\n<g id=\"edge2\" class=\"edge\">\n<title>S0&#45;&gt;S43</title>\n<path fill=\"none\" stroke=\"#000000\" d=\"M29.9977,-719.9689C29.9977,-708.1872 29.9977,-692.556 29.9977,-679.1535\"/>\n<polygon fill=\"#000000\" stroke=\"#000000\" points=\"33.4978,-678.9987 29.9977,-668.9987 26.4978,-678.9988 33.4978,-678.9987\"/>\n<text text-anchor=\"middle\" x=\"33.9977\" y=\"-690.7954\" font-family=\"Times,serif\" font-size=\"14.00\" fill=\"#000000\">p</text>\n</g>\n<!-- S44 -->\n<g id=\"node4\" class=\"node\">\n<title>S44</title>\n<ellipse fill=\"none\" stroke=\"#000000\" cx=\"29.9977\" cy=\"-563.9954\" rx=\"27\" ry=\"18\"/>\n<text text-anchor=\"middle\" x=\"29.9977\" y=\"-560.2954\" font-family=\"Times,serif\" font-size=\"14.00\" fill=\"#000000\">S44</text>\n</g>\n<!-- S43&#45;&gt;S44 -->\n<g id=\"edge3\" class=\"edge\">\n<title>S43&#45;&gt;S44</title>\n<path fill=\"none\" stroke=\"#000000\" d=\"M29.9977,-632.9689C29.9977,-621.1872 29.9977,-605.556 29.9977,-592.1535\"/>\n<polygon fill=\"#000000\" stroke=\"#000000\" points=\"33.4978,-591.9987 29.9977,-581.9987 26.4978,-591.9988 33.4978,-591.9987\"/>\n<text text-anchor=\"middle\" x=\"32.4977\" y=\"-603.7954\" font-family=\"Times,serif\" font-size=\"14.00\" fill=\"#000000\">r</text>\n</g>\n<!-- S45 -->\n<g id=\"node5\" class=\"node\">\n<title>S45</title>\n<ellipse fill=\"none\" stroke=\"#000000\" cx=\"29.9977\" cy=\"-476.9954\" rx=\"27\" ry=\"18\"/>\n<text text-anchor=\"middle\" x=\"29.9977\" y=\"-473.2954\" font-family=\"Times,serif\" font-size=\"14.00\" fill=\"#000000\">S45</text>\n</g>\n<!-- S44&#45;&gt;S45 -->\n<g id=\"edge4\" class=\"edge\">\n<title>S44&#45;&gt;S45</title>\n<path fill=\"none\" stroke=\"#000000\" d=\"M29.9977,-545.9689C29.9977,-534.1872 29.9977,-518.556 29.9977,-505.1535\"/>\n<polygon fill=\"#000000\" stroke=\"#000000\" points=\"33.4978,-504.9987 29.9977,-494.9987 26.4978,-504.9988 33.4978,-504.9987\"/>\n<text text-anchor=\"middle\" x=\"33.9977\" y=\"-516.7954\" font-family=\"Times,serif\" font-size=\"14.00\" fill=\"#000000\">o</text>\n</g>\n<!-- S46 -->\n<g id=\"node6\" class=\"node\">\n<title>S46</title>\n<ellipse fill=\"none\" stroke=\"#000000\" cx=\"29.9977\" cy=\"-389.9954\" rx=\"27\" ry=\"18\"/>\n<text text-anchor=\"middle\" x=\"29.9977\" y=\"-386.2954\" font-family=\"Times,serif\" font-size=\"14.00\" fill=\"#000000\">S46</text>\n</g>\n<!-- S45&#45;&gt;S46 -->\n<g id=\"edge5\" class=\"edge\">\n<title>S45&#45;&gt;S46</title>\n<path fill=\"none\" stroke=\"#000000\" d=\"M29.9977,-458.9689C29.9977,-447.1872 29.9977,-431.556 29.9977,-418.1535\"/>\n<polygon fill=\"#000000\" stroke=\"#000000\" points=\"33.4978,-417.9987 29.9977,-407.9987 26.4978,-417.9988 33.4978,-417.9987\"/>\n<text text-anchor=\"middle\" x=\"33.9977\" y=\"-429.7954\" font-family=\"Times,serif\" font-size=\"14.00\" fill=\"#000000\">g</text>\n</g>\n<!-- S47 -->\n<g id=\"node7\" class=\"node\">\n<title>S47</title>\n<ellipse fill=\"none\" stroke=\"#000000\" cx=\"29.9977\" cy=\"-302.9954\" rx=\"27\" ry=\"18\"/>\n<text text-anchor=\"middle\" x=\"29.9977\" y=\"-299.2954\" font-family=\"Times,serif\" font-size=\"14.00\" fill=\"#000000\">S47</text>\n</g>\n<!-- S46&#45;&gt;S47 -->\n<g id=\"edge6\" class=\"edge\">\n<title>S46&#45;&gt;S47</title>\n<path fill=\"none\" stroke=\"#000000\" d=\"M29.9977,-371.9689C29.9977,-360.1872 29.9977,-344.556 29.9977,-331.1535\"/>\n<polygon fill=\"#000000\" stroke=\"#000000\" points=\"33.4978,-330.9987 29.9977,-320.9987 26.4978,-330.9988 33.4978,-330.9987\"/>\n<text text-anchor=\"middle\" x=\"32.4977\" y=\"-342.7954\" font-family=\"Times,serif\" font-size=\"14.00\" fill=\"#000000\">r</text>\n</g>\n<!-- S48 -->\n<g id=\"node8\" class=\"node\">\n<title>S48</title>\n<ellipse fill=\"none\" stroke=\"#000000\" cx=\"29.9977\" cy=\"-215.9954\" rx=\"27\" ry=\"18\"/>\n<text text-anchor=\"middle\" x=\"29.9977\" y=\"-212.2954\" font-family=\"Times,serif\" font-size=\"14.00\" fill=\"#000000\">S48</text>\n</g>\n<!-- S47&#45;&gt;S48 -->\n<g id=\"edge7\" class=\"edge\">\n<title>S47&#45;&gt;S48</title>\n<path fill=\"none\" stroke=\"#000000\" d=\"M29.9977,-284.9689C29.9977,-273.1872 29.9977,-257.556 29.9977,-244.1535\"/>\n<polygon fill=\"#000000\" stroke=\"#000000\" points=\"33.4978,-243.9987 29.9977,-233.9987 26.4978,-243.9988 33.4978,-243.9987\"/>\n<text text-anchor=\"middle\" x=\"33.4977\" y=\"-255.7954\" font-family=\"Times,serif\" font-size=\"14.00\" fill=\"#000000\">a</text>\n</g>\n<!-- S49 -->\n<g id=\"node9\" class=\"node\">\n<title>S49</title>\n<ellipse fill=\"none\" stroke=\"#000000\" cx=\"29.9977\" cy=\"-128.9954\" rx=\"27\" ry=\"18\"/>\n<text text-anchor=\"middle\" x=\"29.9977\" y=\"-125.2954\" font-family=\"Times,serif\" font-size=\"14.00\" fill=\"#000000\">S49</text>\n</g>\n<!-- S48&#45;&gt;S49 -->\n<g id=\"edge8\" class=\"edge\">\n<title>S48&#45;&gt;S49</title>\n<path fill=\"none\" stroke=\"#000000\" d=\"M29.9977,-197.9689C29.9977,-186.1872 29.9977,-170.556 29.9977,-157.1535\"/>\n<polygon fill=\"#000000\" stroke=\"#000000\" points=\"33.4978,-156.9987 29.9977,-146.9987 26.4978,-156.9988 33.4978,-156.9987\"/>\n<text text-anchor=\"middle\" x=\"35.9977\" y=\"-168.7954\" font-family=\"Times,serif\" font-size=\"14.00\" fill=\"#000000\">m</text>\n</g>\n<!-- S50 -->\n<g id=\"node10\" class=\"node\">\n<title>S50</title>\n<ellipse fill=\"none\" stroke=\"#000000\" cx=\"29.9977\" cy=\"-29.9977\" rx=\"25.9957\" ry=\"25.9957\"/>\n<ellipse fill=\"none\" stroke=\"#000000\" cx=\"29.9977\" cy=\"-29.9977\" rx=\"29.9954\" ry=\"29.9954\"/>\n<text text-anchor=\"middle\" x=\"29.9977\" y=\"-26.2977\" font-family=\"Times,serif\" font-size=\"14.00\" fill=\"#000000\">S50</text>\n</g>\n<!-- S49&#45;&gt;S50 -->\n<g id=\"edge9\" class=\"edge\">\n<title>S49&#45;&gt;S50</title>\n<path fill=\"none\" stroke=\"#000000\" d=\"M29.9977,-110.8377C29.9977,-99.4286 29.9977,-84.2458 29.9977,-70.1204\"/>\n<polygon fill=\"#000000\" stroke=\"#000000\" points=\"33.4978,-70.0908 29.9977,-60.0909 26.4978,-70.0909 33.4978,-70.0908\"/>\n<text text-anchor=\"middle\" x=\"74.9977\" y=\"-81.7954\" font-family=\"Times,serif\" font-size=\"14.00\" fill=\"#000000\">lista_fim_token</text>\n</g>\n</g>\n</svg>\n"
          },
          "metadata": {},
          "execution_count": 9
        }
      ]
    },
    {
      "cell_type": "code",
      "metadata": {
        "colab": {
          "base_uri": "https://localhost:8080/",
          "height": 557
        },
        "id": "0hmUJfj3pMmv",
        "outputId": "a545c1c0-4634-4149-b3f6-bab4929f5dd2"
      },
      "source": [
        "#AFD if\n",
        "alfabeto = ['i','f','lista_fim_token']\n",
        "estado_inicial = 'S0'\n",
        "estados_finais = ['S58']\n",
        "transicao = {\n",
        "               'S0':{\n",
        "                    'i':'S56'\n",
        "                   },\n",
        "               'S56':{\n",
        "                    'f':'S57'\n",
        "                   },\n",
        "              'S57':{\n",
        "                    'lista_fim_token':'S58'\n",
        "                   },\n",
        "              'S58':{}\n",
        "\n",
        "             \n",
        "            }\n",
        "M1 = AFD(alfabeto,estado_inicial,estados_finais,transicao)\n",
        "M1.desenhar()\n"
      ],
      "execution_count": 10,
      "outputs": [
        {
          "output_type": "execute_result",
          "data": {
            "text/plain": [
              "<graphviz.dot.Digraph at 0x7fb58d26ce90>"
            ],
            "image/svg+xml": "<?xml version=\"1.0\" encoding=\"UTF-8\" standalone=\"no\"?>\n<!DOCTYPE svg PUBLIC \"-//W3C//DTD SVG 1.1//EN\"\n \"http://www.w3.org/Graphics/SVG/1.1/DTD/svg11.dtd\">\n<!-- Generated by graphviz version 2.40.1 (20161225.0304)\n -->\n<!-- Title: G Pages: 1 -->\n<svg width=\"128pt\" height=\"402pt\"\n viewBox=\"0.00 0.00 128.00 402.00\" xmlns=\"http://www.w3.org/2000/svg\" xmlns:xlink=\"http://www.w3.org/1999/xlink\">\n<g id=\"graph0\" class=\"graph\" transform=\"scale(1 1) rotate(0) translate(4 397.9954)\">\n<title>G</title>\n<polygon fill=\"#ffffff\" stroke=\"transparent\" points=\"-4,4 -4,-397.9954 123.9977,-397.9954 123.9977,4 -4,4\"/>\n<!-- start -->\n<g id=\"node1\" class=\"node\">\n<title>start</title>\n<text text-anchor=\"middle\" x=\"29.9977\" y=\"-372.2954\" font-family=\"Times,serif\" font-size=\"14.00\" fill=\"#000000\">start</text>\n</g>\n<!-- S0 -->\n<g id=\"node2\" class=\"node\">\n<title>S0</title>\n<ellipse fill=\"none\" stroke=\"#000000\" cx=\"29.9977\" cy=\"-302.9954\" rx=\"27\" ry=\"18\"/>\n<text text-anchor=\"middle\" x=\"29.9977\" y=\"-299.2954\" font-family=\"Times,serif\" font-size=\"14.00\" fill=\"#000000\">S0</text>\n</g>\n<!-- start&#45;&gt;S0 -->\n<g id=\"edge1\" class=\"edge\">\n<title>start&#45;&gt;S0</title>\n<path fill=\"none\" stroke=\"#000000\" d=\"M29.9977,-357.9504C29.9977,-349.8782 29.9977,-340.1718 29.9977,-331.1771\"/>\n<polygon fill=\"#000000\" stroke=\"#000000\" points=\"33.4978,-331.0857 29.9977,-321.0857 26.4978,-331.0858 33.4978,-331.0857\"/>\n</g>\n<!-- S56 -->\n<g id=\"node3\" class=\"node\">\n<title>S56</title>\n<ellipse fill=\"none\" stroke=\"#000000\" cx=\"29.9977\" cy=\"-215.9954\" rx=\"27\" ry=\"18\"/>\n<text text-anchor=\"middle\" x=\"29.9977\" y=\"-212.2954\" font-family=\"Times,serif\" font-size=\"14.00\" fill=\"#000000\">S56</text>\n</g>\n<!-- S0&#45;&gt;S56 -->\n<g id=\"edge2\" class=\"edge\">\n<title>S0&#45;&gt;S56</title>\n<path fill=\"none\" stroke=\"#000000\" d=\"M29.9977,-284.9689C29.9977,-273.1872 29.9977,-257.556 29.9977,-244.1535\"/>\n<polygon fill=\"#000000\" stroke=\"#000000\" points=\"33.4978,-243.9987 29.9977,-233.9987 26.4978,-243.9988 33.4978,-243.9987\"/>\n<text text-anchor=\"middle\" x=\"31.9977\" y=\"-255.7954\" font-family=\"Times,serif\" font-size=\"14.00\" fill=\"#000000\">i</text>\n</g>\n<!-- S57 -->\n<g id=\"node4\" class=\"node\">\n<title>S57</title>\n<ellipse fill=\"none\" stroke=\"#000000\" cx=\"29.9977\" cy=\"-128.9954\" rx=\"27\" ry=\"18\"/>\n<text text-anchor=\"middle\" x=\"29.9977\" y=\"-125.2954\" font-family=\"Times,serif\" font-size=\"14.00\" fill=\"#000000\">S57</text>\n</g>\n<!-- S56&#45;&gt;S57 -->\n<g id=\"edge3\" class=\"edge\">\n<title>S56&#45;&gt;S57</title>\n<path fill=\"none\" stroke=\"#000000\" d=\"M29.9977,-197.9689C29.9977,-186.1872 29.9977,-170.556 29.9977,-157.1535\"/>\n<polygon fill=\"#000000\" stroke=\"#000000\" points=\"33.4978,-156.9987 29.9977,-146.9987 26.4978,-156.9988 33.4978,-156.9987\"/>\n<text text-anchor=\"middle\" x=\"32.4977\" y=\"-168.7954\" font-family=\"Times,serif\" font-size=\"14.00\" fill=\"#000000\">f</text>\n</g>\n<!-- S58 -->\n<g id=\"node5\" class=\"node\">\n<title>S58</title>\n<ellipse fill=\"none\" stroke=\"#000000\" cx=\"29.9977\" cy=\"-29.9977\" rx=\"25.9957\" ry=\"25.9957\"/>\n<ellipse fill=\"none\" stroke=\"#000000\" cx=\"29.9977\" cy=\"-29.9977\" rx=\"29.9954\" ry=\"29.9954\"/>\n<text text-anchor=\"middle\" x=\"29.9977\" y=\"-26.2977\" font-family=\"Times,serif\" font-size=\"14.00\" fill=\"#000000\">S58</text>\n</g>\n<!-- S57&#45;&gt;S58 -->\n<g id=\"edge4\" class=\"edge\">\n<title>S57&#45;&gt;S58</title>\n<path fill=\"none\" stroke=\"#000000\" d=\"M29.9977,-110.8377C29.9977,-99.4286 29.9977,-84.2458 29.9977,-70.1204\"/>\n<polygon fill=\"#000000\" stroke=\"#000000\" points=\"33.4978,-70.0908 29.9977,-60.0909 26.4978,-70.0909 33.4978,-70.0908\"/>\n<text text-anchor=\"middle\" x=\"74.9977\" y=\"-81.7954\" font-family=\"Times,serif\" font-size=\"14.00\" fill=\"#000000\">lista_fim_token</text>\n</g>\n</g>\n</svg>\n"
          },
          "metadata": {},
          "execution_count": 10
        }
      ]
    },
    {
      "cell_type": "code",
      "metadata": {
        "colab": {
          "base_uri": "https://localhost:8080/",
          "height": 673
        },
        "id": "Xyqh0XABpoeJ",
        "outputId": "e01d680c-08f1-46a3-867c-2984c8991520"
      },
      "source": [
        "#AFD for\n",
        "alfabeto = ['f','o','r','lista_fim_token']\n",
        "estado_inicial = 'S0'\n",
        "estados_finais = ['S67']\n",
        "transicao = {\n",
        "               'S0':{\n",
        "                    'f':'S64'\n",
        "                   },\n",
        "               'S64':{\n",
        "                    'o':'S65'\n",
        "                   },\n",
        "             'S65':{\n",
        "                    'r':'S66'\n",
        "                   },\n",
        "              'S66':{\n",
        "                    'lista_fim_token':'S67'\n",
        "                   },\n",
        "              'S67':{}\n",
        "\n",
        "             \n",
        "            }\n",
        "M1 = AFD(alfabeto,estado_inicial,estados_finais,transicao)\n",
        "M1.desenhar()"
      ],
      "execution_count": 11,
      "outputs": [
        {
          "output_type": "execute_result",
          "data": {
            "text/plain": [
              "<graphviz.dot.Digraph at 0x7fb58d26fbd0>"
            ],
            "image/svg+xml": "<?xml version=\"1.0\" encoding=\"UTF-8\" standalone=\"no\"?>\n<!DOCTYPE svg PUBLIC \"-//W3C//DTD SVG 1.1//EN\"\n \"http://www.w3.org/Graphics/SVG/1.1/DTD/svg11.dtd\">\n<!-- Generated by graphviz version 2.40.1 (20161225.0304)\n -->\n<!-- Title: G Pages: 1 -->\n<svg width=\"128pt\" height=\"489pt\"\n viewBox=\"0.00 0.00 128.00 489.00\" xmlns=\"http://www.w3.org/2000/svg\" xmlns:xlink=\"http://www.w3.org/1999/xlink\">\n<g id=\"graph0\" class=\"graph\" transform=\"scale(1 1) rotate(0) translate(4 484.9954)\">\n<title>G</title>\n<polygon fill=\"#ffffff\" stroke=\"transparent\" points=\"-4,4 -4,-484.9954 123.9977,-484.9954 123.9977,4 -4,4\"/>\n<!-- start -->\n<g id=\"node1\" class=\"node\">\n<title>start</title>\n<text text-anchor=\"middle\" x=\"29.9977\" y=\"-459.2954\" font-family=\"Times,serif\" font-size=\"14.00\" fill=\"#000000\">start</text>\n</g>\n<!-- S0 -->\n<g id=\"node2\" class=\"node\">\n<title>S0</title>\n<ellipse fill=\"none\" stroke=\"#000000\" cx=\"29.9977\" cy=\"-389.9954\" rx=\"27\" ry=\"18\"/>\n<text text-anchor=\"middle\" x=\"29.9977\" y=\"-386.2954\" font-family=\"Times,serif\" font-size=\"14.00\" fill=\"#000000\">S0</text>\n</g>\n<!-- start&#45;&gt;S0 -->\n<g id=\"edge1\" class=\"edge\">\n<title>start&#45;&gt;S0</title>\n<path fill=\"none\" stroke=\"#000000\" d=\"M29.9977,-444.9504C29.9977,-436.8782 29.9977,-427.1718 29.9977,-418.1771\"/>\n<polygon fill=\"#000000\" stroke=\"#000000\" points=\"33.4978,-418.0857 29.9977,-408.0857 26.4978,-418.0858 33.4978,-418.0857\"/>\n</g>\n<!-- S64 -->\n<g id=\"node3\" class=\"node\">\n<title>S64</title>\n<ellipse fill=\"none\" stroke=\"#000000\" cx=\"29.9977\" cy=\"-302.9954\" rx=\"27\" ry=\"18\"/>\n<text text-anchor=\"middle\" x=\"29.9977\" y=\"-299.2954\" font-family=\"Times,serif\" font-size=\"14.00\" fill=\"#000000\">S64</text>\n</g>\n<!-- S0&#45;&gt;S64 -->\n<g id=\"edge2\" class=\"edge\">\n<title>S0&#45;&gt;S64</title>\n<path fill=\"none\" stroke=\"#000000\" d=\"M29.9977,-371.9689C29.9977,-360.1872 29.9977,-344.556 29.9977,-331.1535\"/>\n<polygon fill=\"#000000\" stroke=\"#000000\" points=\"33.4978,-330.9987 29.9977,-320.9987 26.4978,-330.9988 33.4978,-330.9987\"/>\n<text text-anchor=\"middle\" x=\"32.4977\" y=\"-342.7954\" font-family=\"Times,serif\" font-size=\"14.00\" fill=\"#000000\">f</text>\n</g>\n<!-- S65 -->\n<g id=\"node4\" class=\"node\">\n<title>S65</title>\n<ellipse fill=\"none\" stroke=\"#000000\" cx=\"29.9977\" cy=\"-215.9954\" rx=\"27\" ry=\"18\"/>\n<text text-anchor=\"middle\" x=\"29.9977\" y=\"-212.2954\" font-family=\"Times,serif\" font-size=\"14.00\" fill=\"#000000\">S65</text>\n</g>\n<!-- S64&#45;&gt;S65 -->\n<g id=\"edge3\" class=\"edge\">\n<title>S64&#45;&gt;S65</title>\n<path fill=\"none\" stroke=\"#000000\" d=\"M29.9977,-284.9689C29.9977,-273.1872 29.9977,-257.556 29.9977,-244.1535\"/>\n<polygon fill=\"#000000\" stroke=\"#000000\" points=\"33.4978,-243.9987 29.9977,-233.9987 26.4978,-243.9988 33.4978,-243.9987\"/>\n<text text-anchor=\"middle\" x=\"33.9977\" y=\"-255.7954\" font-family=\"Times,serif\" font-size=\"14.00\" fill=\"#000000\">o</text>\n</g>\n<!-- S66 -->\n<g id=\"node5\" class=\"node\">\n<title>S66</title>\n<ellipse fill=\"none\" stroke=\"#000000\" cx=\"29.9977\" cy=\"-128.9954\" rx=\"27\" ry=\"18\"/>\n<text text-anchor=\"middle\" x=\"29.9977\" y=\"-125.2954\" font-family=\"Times,serif\" font-size=\"14.00\" fill=\"#000000\">S66</text>\n</g>\n<!-- S65&#45;&gt;S66 -->\n<g id=\"edge4\" class=\"edge\">\n<title>S65&#45;&gt;S66</title>\n<path fill=\"none\" stroke=\"#000000\" d=\"M29.9977,-197.9689C29.9977,-186.1872 29.9977,-170.556 29.9977,-157.1535\"/>\n<polygon fill=\"#000000\" stroke=\"#000000\" points=\"33.4978,-156.9987 29.9977,-146.9987 26.4978,-156.9988 33.4978,-156.9987\"/>\n<text text-anchor=\"middle\" x=\"32.4977\" y=\"-168.7954\" font-family=\"Times,serif\" font-size=\"14.00\" fill=\"#000000\">r</text>\n</g>\n<!-- S67 -->\n<g id=\"node6\" class=\"node\">\n<title>S67</title>\n<ellipse fill=\"none\" stroke=\"#000000\" cx=\"29.9977\" cy=\"-29.9977\" rx=\"25.9957\" ry=\"25.9957\"/>\n<ellipse fill=\"none\" stroke=\"#000000\" cx=\"29.9977\" cy=\"-29.9977\" rx=\"29.9954\" ry=\"29.9954\"/>\n<text text-anchor=\"middle\" x=\"29.9977\" y=\"-26.2977\" font-family=\"Times,serif\" font-size=\"14.00\" fill=\"#000000\">S67</text>\n</g>\n<!-- S66&#45;&gt;S67 -->\n<g id=\"edge5\" class=\"edge\">\n<title>S66&#45;&gt;S67</title>\n<path fill=\"none\" stroke=\"#000000\" d=\"M29.9977,-110.8377C29.9977,-99.4286 29.9977,-84.2458 29.9977,-70.1204\"/>\n<polygon fill=\"#000000\" stroke=\"#000000\" points=\"33.4978,-70.0908 29.9977,-60.0909 26.4978,-70.0909 33.4978,-70.0908\"/>\n<text text-anchor=\"middle\" x=\"74.9977\" y=\"-81.7954\" font-family=\"Times,serif\" font-size=\"14.00\" fill=\"#000000\">lista_fim_token</text>\n</g>\n</g>\n</svg>\n"
          },
          "metadata": {},
          "execution_count": 11
        }
      ]
    },
    {
      "cell_type": "code",
      "metadata": {
        "colab": {
          "base_uri": "https://localhost:8080/",
          "height": 557
        },
        "id": "WN1jsxAPs165",
        "outputId": "ae4545b1-f2e5-4859-e190-7f2055cb6b23"
      },
      "source": [
        "#AFD do\n",
        "alfabeto = ['d','o','lista_fim_token']\n",
        "estado_inicial = 'S0'\n",
        "estados_finais = ['S70']\n",
        "transicao = {\n",
        "               'S0':{\n",
        "                    'd':'S68'\n",
        "                   },\n",
        "               'S68':{\n",
        "                    'o':'S69'\n",
        "                   },\n",
        "              'S69':{\n",
        "                    'lista_fim_token':'S70'\n",
        "                   },\n",
        "              'S70':{}\n",
        "\n",
        "             \n",
        "            }\n",
        "M1 = AFD(alfabeto,estado_inicial,estados_finais,transicao)\n",
        "M1.desenhar()"
      ],
      "execution_count": 14,
      "outputs": [
        {
          "output_type": "execute_result",
          "data": {
            "text/plain": [
              "<graphviz.dot.Digraph at 0x7fb58d28e5d0>"
            ],
            "image/svg+xml": "<?xml version=\"1.0\" encoding=\"UTF-8\" standalone=\"no\"?>\n<!DOCTYPE svg PUBLIC \"-//W3C//DTD SVG 1.1//EN\"\n \"http://www.w3.org/Graphics/SVG/1.1/DTD/svg11.dtd\">\n<!-- Generated by graphviz version 2.40.1 (20161225.0304)\n -->\n<!-- Title: G Pages: 1 -->\n<svg width=\"128pt\" height=\"402pt\"\n viewBox=\"0.00 0.00 128.00 402.00\" xmlns=\"http://www.w3.org/2000/svg\" xmlns:xlink=\"http://www.w3.org/1999/xlink\">\n<g id=\"graph0\" class=\"graph\" transform=\"scale(1 1) rotate(0) translate(4 397.9954)\">\n<title>G</title>\n<polygon fill=\"#ffffff\" stroke=\"transparent\" points=\"-4,4 -4,-397.9954 123.9977,-397.9954 123.9977,4 -4,4\"/>\n<!-- start -->\n<g id=\"node1\" class=\"node\">\n<title>start</title>\n<text text-anchor=\"middle\" x=\"29.9977\" y=\"-372.2954\" font-family=\"Times,serif\" font-size=\"14.00\" fill=\"#000000\">start</text>\n</g>\n<!-- S0 -->\n<g id=\"node2\" class=\"node\">\n<title>S0</title>\n<ellipse fill=\"none\" stroke=\"#000000\" cx=\"29.9977\" cy=\"-302.9954\" rx=\"27\" ry=\"18\"/>\n<text text-anchor=\"middle\" x=\"29.9977\" y=\"-299.2954\" font-family=\"Times,serif\" font-size=\"14.00\" fill=\"#000000\">S0</text>\n</g>\n<!-- start&#45;&gt;S0 -->\n<g id=\"edge1\" class=\"edge\">\n<title>start&#45;&gt;S0</title>\n<path fill=\"none\" stroke=\"#000000\" d=\"M29.9977,-357.9504C29.9977,-349.8782 29.9977,-340.1718 29.9977,-331.1771\"/>\n<polygon fill=\"#000000\" stroke=\"#000000\" points=\"33.4978,-331.0857 29.9977,-321.0857 26.4978,-331.0858 33.4978,-331.0857\"/>\n</g>\n<!-- S68 -->\n<g id=\"node3\" class=\"node\">\n<title>S68</title>\n<ellipse fill=\"none\" stroke=\"#000000\" cx=\"29.9977\" cy=\"-215.9954\" rx=\"27\" ry=\"18\"/>\n<text text-anchor=\"middle\" x=\"29.9977\" y=\"-212.2954\" font-family=\"Times,serif\" font-size=\"14.00\" fill=\"#000000\">S68</text>\n</g>\n<!-- S0&#45;&gt;S68 -->\n<g id=\"edge2\" class=\"edge\">\n<title>S0&#45;&gt;S68</title>\n<path fill=\"none\" stroke=\"#000000\" d=\"M29.9977,-284.9689C29.9977,-273.1872 29.9977,-257.556 29.9977,-244.1535\"/>\n<polygon fill=\"#000000\" stroke=\"#000000\" points=\"33.4978,-243.9987 29.9977,-233.9987 26.4978,-243.9988 33.4978,-243.9987\"/>\n<text text-anchor=\"middle\" x=\"33.9977\" y=\"-255.7954\" font-family=\"Times,serif\" font-size=\"14.00\" fill=\"#000000\">d</text>\n</g>\n<!-- S69 -->\n<g id=\"node4\" class=\"node\">\n<title>S69</title>\n<ellipse fill=\"none\" stroke=\"#000000\" cx=\"29.9977\" cy=\"-128.9954\" rx=\"27\" ry=\"18\"/>\n<text text-anchor=\"middle\" x=\"29.9977\" y=\"-125.2954\" font-family=\"Times,serif\" font-size=\"14.00\" fill=\"#000000\">S69</text>\n</g>\n<!-- S68&#45;&gt;S69 -->\n<g id=\"edge3\" class=\"edge\">\n<title>S68&#45;&gt;S69</title>\n<path fill=\"none\" stroke=\"#000000\" d=\"M29.9977,-197.9689C29.9977,-186.1872 29.9977,-170.556 29.9977,-157.1535\"/>\n<polygon fill=\"#000000\" stroke=\"#000000\" points=\"33.4978,-156.9987 29.9977,-146.9987 26.4978,-156.9988 33.4978,-156.9987\"/>\n<text text-anchor=\"middle\" x=\"33.9977\" y=\"-168.7954\" font-family=\"Times,serif\" font-size=\"14.00\" fill=\"#000000\">o</text>\n</g>\n<!-- S70 -->\n<g id=\"node5\" class=\"node\">\n<title>S70</title>\n<ellipse fill=\"none\" stroke=\"#000000\" cx=\"29.9977\" cy=\"-29.9977\" rx=\"25.9957\" ry=\"25.9957\"/>\n<ellipse fill=\"none\" stroke=\"#000000\" cx=\"29.9977\" cy=\"-29.9977\" rx=\"29.9954\" ry=\"29.9954\"/>\n<text text-anchor=\"middle\" x=\"29.9977\" y=\"-26.2977\" font-family=\"Times,serif\" font-size=\"14.00\" fill=\"#000000\">S70</text>\n</g>\n<!-- S69&#45;&gt;S70 -->\n<g id=\"edge4\" class=\"edge\">\n<title>S69&#45;&gt;S70</title>\n<path fill=\"none\" stroke=\"#000000\" d=\"M29.9977,-110.8377C29.9977,-99.4286 29.9977,-84.2458 29.9977,-70.1204\"/>\n<polygon fill=\"#000000\" stroke=\"#000000\" points=\"33.4978,-70.0908 29.9977,-60.0909 26.4978,-70.0909 33.4978,-70.0908\"/>\n<text text-anchor=\"middle\" x=\"74.9977\" y=\"-81.7954\" font-family=\"Times,serif\" font-size=\"14.00\" fill=\"#000000\">lista_fim_token</text>\n</g>\n</g>\n</svg>\n"
          },
          "metadata": {},
          "execution_count": 14
        }
      ]
    },
    {
      "cell_type": "code",
      "metadata": {
        "colab": {
          "base_uri": "https://localhost:8080/",
          "height": 428
        },
        "id": "xwX1YNF6tExL",
        "outputId": "e1dc3ac3-e3f2-4346-facd-4c870b6f18b7"
      },
      "source": [
        "#AFD abrir parenteses\n",
        "alfabeto = ['(','lista_fim_token']\n",
        "estado_inicial = 'S0'\n",
        "estados_finais = ['S8']\n",
        "transicao = {\n",
        "               'S0':{\n",
        "                    '(':'S7'\n",
        "                   },\n",
        "              'S7':{\n",
        "                    'lista_fim_token':'S8'\n",
        "                   },\n",
        "              'S8':{}\n",
        "\n",
        "             \n",
        "            }\n",
        "M1 = AFD(alfabeto,estado_inicial,estados_finais,transicao)\n",
        "M1.desenhar()"
      ],
      "execution_count": 15,
      "outputs": [
        {
          "output_type": "execute_result",
          "data": {
            "text/plain": [
              "<graphviz.dot.Digraph at 0x7fb58d26c9d0>"
            ],
            "image/svg+xml": "<?xml version=\"1.0\" encoding=\"UTF-8\" standalone=\"no\"?>\n<!DOCTYPE svg PUBLIC \"-//W3C//DTD SVG 1.1//EN\"\n \"http://www.w3.org/Graphics/SVG/1.1/DTD/svg11.dtd\">\n<!-- Generated by graphviz version 2.40.1 (20161225.0304)\n -->\n<!-- Title: G Pages: 1 -->\n<svg width=\"125pt\" height=\"305pt\"\n viewBox=\"0.00 0.00 125.00 304.60\" xmlns=\"http://www.w3.org/2000/svg\" xmlns:xlink=\"http://www.w3.org/1999/xlink\">\n<g id=\"graph0\" class=\"graph\" transform=\"scale(1 1) rotate(0) translate(4 300.5963)\">\n<title>G</title>\n<polygon fill=\"#ffffff\" stroke=\"transparent\" points=\"-4,4 -4,-300.5963 121,-300.5963 121,4 -4,4\"/>\n<!-- start -->\n<g id=\"node1\" class=\"node\">\n<title>start</title>\n<text text-anchor=\"middle\" x=\"27\" y=\"-274.8963\" font-family=\"Times,serif\" font-size=\"14.00\" fill=\"#000000\">start</text>\n</g>\n<!-- S0 -->\n<g id=\"node2\" class=\"node\">\n<title>S0</title>\n<ellipse fill=\"none\" stroke=\"#000000\" cx=\"27\" cy=\"-205.5963\" rx=\"27\" ry=\"18\"/>\n<text text-anchor=\"middle\" x=\"27\" y=\"-201.8963\" font-family=\"Times,serif\" font-size=\"14.00\" fill=\"#000000\">S0</text>\n</g>\n<!-- start&#45;&gt;S0 -->\n<g id=\"edge1\" class=\"edge\">\n<title>start&#45;&gt;S0</title>\n<path fill=\"none\" stroke=\"#000000\" d=\"M27,-260.5514C27,-252.4791 27,-242.7727 27,-233.778\"/>\n<polygon fill=\"#000000\" stroke=\"#000000\" points=\"30.5001,-233.6866 27,-223.6867 23.5001,-233.6867 30.5001,-233.6866\"/>\n</g>\n<!-- S7 -->\n<g id=\"node3\" class=\"node\">\n<title>S7</title>\n<ellipse fill=\"none\" stroke=\"#000000\" cx=\"27\" cy=\"-118.5963\" rx=\"27\" ry=\"18\"/>\n<text text-anchor=\"middle\" x=\"27\" y=\"-114.8963\" font-family=\"Times,serif\" font-size=\"14.00\" fill=\"#000000\">S7</text>\n</g>\n<!-- S0&#45;&gt;S7 -->\n<g id=\"edge2\" class=\"edge\">\n<title>S0&#45;&gt;S7</title>\n<path fill=\"none\" stroke=\"#000000\" d=\"M27,-187.5699C27,-175.7881 27,-160.157 27,-146.7544\"/>\n<polygon fill=\"#000000\" stroke=\"#000000\" points=\"30.5001,-146.5996 27,-136.5997 23.5001,-146.5997 30.5001,-146.5996\"/>\n<text text-anchor=\"middle\" x=\"29.5\" y=\"-158.3963\" font-family=\"Times,serif\" font-size=\"14.00\" fill=\"#000000\">(</text>\n</g>\n<!-- S8 -->\n<g id=\"node4\" class=\"node\">\n<title>S8</title>\n<ellipse fill=\"none\" stroke=\"#000000\" cx=\"27\" cy=\"-24.7982\" rx=\"20.6302\" ry=\"20.6302\"/>\n<ellipse fill=\"none\" stroke=\"#000000\" cx=\"27\" cy=\"-24.7982\" rx=\"24.5979\" ry=\"24.5979\"/>\n<text text-anchor=\"middle\" x=\"27\" y=\"-21.0982\" font-family=\"Times,serif\" font-size=\"14.00\" fill=\"#000000\">S8</text>\n</g>\n<!-- S7&#45;&gt;S8 -->\n<g id=\"edge3\" class=\"edge\">\n<title>S7&#45;&gt;S8</title>\n<path fill=\"none\" stroke=\"#000000\" d=\"M27,-100.5111C27,-89.0571 27,-73.8595 27,-60.0872\"/>\n<polygon fill=\"#000000\" stroke=\"#000000\" points=\"30.5001,-59.9189 27,-49.9189 23.5001,-59.919 30.5001,-59.9189\"/>\n<text text-anchor=\"middle\" x=\"72\" y=\"-71.3963\" font-family=\"Times,serif\" font-size=\"14.00\" fill=\"#000000\">lista_fim_token</text>\n</g>\n</g>\n</svg>\n"
          },
          "metadata": {},
          "execution_count": 15
        }
      ]
    },
    {
      "cell_type": "code",
      "metadata": {
        "colab": {
          "base_uri": "https://localhost:8080/",
          "height": 441
        },
        "id": "jYgnVxQauOUq",
        "outputId": "9bd61198-2f65-409d-9119-7885b8ece281"
      },
      "source": [
        "#AFD fechar parenteses\n",
        "alfabeto = [')','lista_fim_token']\n",
        "estado_inicial = 'S0'\n",
        "estados_finais = ['S10']\n",
        "transicao = {\n",
        "               'S0':{\n",
        "                    ')':'S9'\n",
        "                   },\n",
        "              'S9':{\n",
        "                    'lista_fim_token':'S10'\n",
        "                   },\n",
        "              'S10':{}\n",
        "\n",
        "             \n",
        "            }\n",
        "M1 = AFD(alfabeto,estado_inicial,estados_finais,transicao)\n",
        "M1.desenhar()"
      ],
      "execution_count": 16,
      "outputs": [
        {
          "output_type": "execute_result",
          "data": {
            "text/plain": [
              "<graphviz.dot.Digraph at 0x7fb58d22eb50>"
            ],
            "image/svg+xml": "<?xml version=\"1.0\" encoding=\"UTF-8\" standalone=\"no\"?>\n<!DOCTYPE svg PUBLIC \"-//W3C//DTD SVG 1.1//EN\"\n \"http://www.w3.org/Graphics/SVG/1.1/DTD/svg11.dtd\">\n<!-- Generated by graphviz version 2.40.1 (20161225.0304)\n -->\n<!-- Title: G Pages: 1 -->\n<svg width=\"128pt\" height=\"315pt\"\n viewBox=\"0.00 0.00 128.00 315.00\" xmlns=\"http://www.w3.org/2000/svg\" xmlns:xlink=\"http://www.w3.org/1999/xlink\">\n<g id=\"graph0\" class=\"graph\" transform=\"scale(1 1) rotate(0) translate(4 310.9954)\">\n<title>G</title>\n<polygon fill=\"#ffffff\" stroke=\"transparent\" points=\"-4,4 -4,-310.9954 123.9977,-310.9954 123.9977,4 -4,4\"/>\n<!-- start -->\n<g id=\"node1\" class=\"node\">\n<title>start</title>\n<text text-anchor=\"middle\" x=\"29.9977\" y=\"-285.2954\" font-family=\"Times,serif\" font-size=\"14.00\" fill=\"#000000\">start</text>\n</g>\n<!-- S0 -->\n<g id=\"node2\" class=\"node\">\n<title>S0</title>\n<ellipse fill=\"none\" stroke=\"#000000\" cx=\"29.9977\" cy=\"-215.9954\" rx=\"27\" ry=\"18\"/>\n<text text-anchor=\"middle\" x=\"29.9977\" y=\"-212.2954\" font-family=\"Times,serif\" font-size=\"14.00\" fill=\"#000000\">S0</text>\n</g>\n<!-- start&#45;&gt;S0 -->\n<g id=\"edge1\" class=\"edge\">\n<title>start&#45;&gt;S0</title>\n<path fill=\"none\" stroke=\"#000000\" d=\"M29.9977,-270.9504C29.9977,-262.8782 29.9977,-253.1718 29.9977,-244.1771\"/>\n<polygon fill=\"#000000\" stroke=\"#000000\" points=\"33.4978,-244.0857 29.9977,-234.0857 26.4978,-244.0858 33.4978,-244.0857\"/>\n</g>\n<!-- S9 -->\n<g id=\"node3\" class=\"node\">\n<title>S9</title>\n<ellipse fill=\"none\" stroke=\"#000000\" cx=\"29.9977\" cy=\"-128.9954\" rx=\"27\" ry=\"18\"/>\n<text text-anchor=\"middle\" x=\"29.9977\" y=\"-125.2954\" font-family=\"Times,serif\" font-size=\"14.00\" fill=\"#000000\">S9</text>\n</g>\n<!-- S0&#45;&gt;S9 -->\n<g id=\"edge2\" class=\"edge\">\n<title>S0&#45;&gt;S9</title>\n<path fill=\"none\" stroke=\"#000000\" d=\"M29.9977,-197.9689C29.9977,-186.1872 29.9977,-170.556 29.9977,-157.1535\"/>\n<polygon fill=\"#000000\" stroke=\"#000000\" points=\"33.4978,-156.9987 29.9977,-146.9987 26.4978,-156.9988 33.4978,-156.9987\"/>\n<text text-anchor=\"middle\" x=\"32.4977\" y=\"-168.7954\" font-family=\"Times,serif\" font-size=\"14.00\" fill=\"#000000\">)</text>\n</g>\n<!-- S10 -->\n<g id=\"node4\" class=\"node\">\n<title>S10</title>\n<ellipse fill=\"none\" stroke=\"#000000\" cx=\"29.9977\" cy=\"-29.9977\" rx=\"25.9957\" ry=\"25.9957\"/>\n<ellipse fill=\"none\" stroke=\"#000000\" cx=\"29.9977\" cy=\"-29.9977\" rx=\"29.9954\" ry=\"29.9954\"/>\n<text text-anchor=\"middle\" x=\"29.9977\" y=\"-26.2977\" font-family=\"Times,serif\" font-size=\"14.00\" fill=\"#000000\">S10</text>\n</g>\n<!-- S9&#45;&gt;S10 -->\n<g id=\"edge3\" class=\"edge\">\n<title>S9&#45;&gt;S10</title>\n<path fill=\"none\" stroke=\"#000000\" d=\"M29.9977,-110.8377C29.9977,-99.4286 29.9977,-84.2458 29.9977,-70.1204\"/>\n<polygon fill=\"#000000\" stroke=\"#000000\" points=\"33.4978,-70.0908 29.9977,-60.0909 26.4978,-70.0909 33.4978,-70.0908\"/>\n<text text-anchor=\"middle\" x=\"74.9977\" y=\"-81.7954\" font-family=\"Times,serif\" font-size=\"14.00\" fill=\"#000000\">lista_fim_token</text>\n</g>\n</g>\n</svg>\n"
          },
          "metadata": {},
          "execution_count": 16
        }
      ]
    },
    {
      "cell_type": "code",
      "metadata": {
        "colab": {
          "base_uri": "https://localhost:8080/",
          "height": 441
        },
        "id": "YGGQUWIkzT_x",
        "outputId": "6d0734da-3da0-49a3-da3c-b1a84d9bbc7a"
      },
      "source": [
        "#AFD ponto e virgula\n",
        "alfabeto = [';','lista_fim_token']\n",
        "estado_inicial = 'S0'\n",
        "estados_finais = ['S15']\n",
        "transicao = {\n",
        "               'S0':{\n",
        "                    ';':'S14'\n",
        "                   },\n",
        "              'S14':{\n",
        "                    'lista_fim_token':'S15'\n",
        "                   },\n",
        "              'S15':{}\n",
        "\n",
        "             \n",
        "            }\n",
        "M1 = AFD(alfabeto,estado_inicial,estados_finais,transicao)\n",
        "M1.desenhar()"
      ],
      "execution_count": 17,
      "outputs": [
        {
          "output_type": "execute_result",
          "data": {
            "text/plain": [
              "<graphviz.dot.Digraph at 0x7fb58d22e090>"
            ],
            "image/svg+xml": "<?xml version=\"1.0\" encoding=\"UTF-8\" standalone=\"no\"?>\n<!DOCTYPE svg PUBLIC \"-//W3C//DTD SVG 1.1//EN\"\n \"http://www.w3.org/Graphics/SVG/1.1/DTD/svg11.dtd\">\n<!-- Generated by graphviz version 2.40.1 (20161225.0304)\n -->\n<!-- Title: G Pages: 1 -->\n<svg width=\"128pt\" height=\"315pt\"\n viewBox=\"0.00 0.00 128.00 315.00\" xmlns=\"http://www.w3.org/2000/svg\" xmlns:xlink=\"http://www.w3.org/1999/xlink\">\n<g id=\"graph0\" class=\"graph\" transform=\"scale(1 1) rotate(0) translate(4 310.9954)\">\n<title>G</title>\n<polygon fill=\"#ffffff\" stroke=\"transparent\" points=\"-4,4 -4,-310.9954 123.9977,-310.9954 123.9977,4 -4,4\"/>\n<!-- start -->\n<g id=\"node1\" class=\"node\">\n<title>start</title>\n<text text-anchor=\"middle\" x=\"29.9977\" y=\"-285.2954\" font-family=\"Times,serif\" font-size=\"14.00\" fill=\"#000000\">start</text>\n</g>\n<!-- S0 -->\n<g id=\"node2\" class=\"node\">\n<title>S0</title>\n<ellipse fill=\"none\" stroke=\"#000000\" cx=\"29.9977\" cy=\"-215.9954\" rx=\"27\" ry=\"18\"/>\n<text text-anchor=\"middle\" x=\"29.9977\" y=\"-212.2954\" font-family=\"Times,serif\" font-size=\"14.00\" fill=\"#000000\">S0</text>\n</g>\n<!-- start&#45;&gt;S0 -->\n<g id=\"edge1\" class=\"edge\">\n<title>start&#45;&gt;S0</title>\n<path fill=\"none\" stroke=\"#000000\" d=\"M29.9977,-270.9504C29.9977,-262.8782 29.9977,-253.1718 29.9977,-244.1771\"/>\n<polygon fill=\"#000000\" stroke=\"#000000\" points=\"33.4978,-244.0857 29.9977,-234.0857 26.4978,-244.0858 33.4978,-244.0857\"/>\n</g>\n<!-- S14 -->\n<g id=\"node3\" class=\"node\">\n<title>S14</title>\n<ellipse fill=\"none\" stroke=\"#000000\" cx=\"29.9977\" cy=\"-128.9954\" rx=\"27\" ry=\"18\"/>\n<text text-anchor=\"middle\" x=\"29.9977\" y=\"-125.2954\" font-family=\"Times,serif\" font-size=\"14.00\" fill=\"#000000\">S14</text>\n</g>\n<!-- S0&#45;&gt;S14 -->\n<g id=\"edge2\" class=\"edge\">\n<title>S0&#45;&gt;S14</title>\n<path fill=\"none\" stroke=\"#000000\" d=\"M29.9977,-197.9689C29.9977,-186.1872 29.9977,-170.556 29.9977,-157.1535\"/>\n<polygon fill=\"#000000\" stroke=\"#000000\" points=\"33.4978,-156.9987 29.9977,-146.9987 26.4978,-156.9988 33.4978,-156.9987\"/>\n<text text-anchor=\"middle\" x=\"31.9977\" y=\"-168.7954\" font-family=\"Times,serif\" font-size=\"14.00\" fill=\"#000000\">;</text>\n</g>\n<!-- S15 -->\n<g id=\"node4\" class=\"node\">\n<title>S15</title>\n<ellipse fill=\"none\" stroke=\"#000000\" cx=\"29.9977\" cy=\"-29.9977\" rx=\"25.9957\" ry=\"25.9957\"/>\n<ellipse fill=\"none\" stroke=\"#000000\" cx=\"29.9977\" cy=\"-29.9977\" rx=\"29.9954\" ry=\"29.9954\"/>\n<text text-anchor=\"middle\" x=\"29.9977\" y=\"-26.2977\" font-family=\"Times,serif\" font-size=\"14.00\" fill=\"#000000\">S15</text>\n</g>\n<!-- S14&#45;&gt;S15 -->\n<g id=\"edge3\" class=\"edge\">\n<title>S14&#45;&gt;S15</title>\n<path fill=\"none\" stroke=\"#000000\" d=\"M29.9977,-110.8377C29.9977,-99.4286 29.9977,-84.2458 29.9977,-70.1204\"/>\n<polygon fill=\"#000000\" stroke=\"#000000\" points=\"33.4978,-70.0908 29.9977,-60.0909 26.4978,-70.0909 33.4978,-70.0908\"/>\n<text text-anchor=\"middle\" x=\"74.9977\" y=\"-81.7954\" font-family=\"Times,serif\" font-size=\"14.00\" fill=\"#000000\">lista_fim_token</text>\n</g>\n</g>\n</svg>\n"
          },
          "metadata": {},
          "execution_count": 17
        }
      ]
    },
    {
      "cell_type": "code",
      "metadata": {
        "colab": {
          "base_uri": "https://localhost:8080/",
          "height": 589
        },
        "id": "AOhmCpopzh8O",
        "outputId": "03e12567-c80f-48c6-a367-202ba54e941a"
      },
      "source": [
        "#AFD comentario de linha e divisão\n",
        "alfabeto = ['/','lista_fim_token']\n",
        "estado_inicial = 'S0'\n",
        "estados_finais = ['S18','S71']\n",
        "transicao = {\n",
        "               'S0':{\n",
        "                    '/':'S16'\n",
        "                   },\n",
        "              'S16':{\n",
        "                    '/':'S17',\n",
        "                      'lista_fim_token':'S71'\n",
        "                   },\n",
        "             'S17':{\n",
        "                    'lista_fim_token':'S18'\n",
        "                   },\n",
        "              'S18':{},\n",
        "              'S71':{}\n",
        "             \n",
        "\n",
        "             \n",
        "            }\n",
        "M1 = AFD(alfabeto,estado_inicial,estados_finais,transicao)\n",
        "M1.desenhar()"
      ],
      "execution_count": 30,
      "outputs": [
        {
          "output_type": "execute_result",
          "data": {
            "text/plain": [
              "<graphviz.dot.Digraph at 0x7fb58d1f7e10>"
            ],
            "image/svg+xml": "<?xml version=\"1.0\" encoding=\"UTF-8\" standalone=\"no\"?>\n<!DOCTYPE svg PUBLIC \"-//W3C//DTD SVG 1.1//EN\"\n \"http://www.w3.org/Graphics/SVG/1.1/DTD/svg11.dtd\">\n<!-- Generated by graphviz version 2.40.1 (20161225.0304)\n -->\n<!-- Title: G Pages: 1 -->\n<svg width=\"184pt\" height=\"426pt\"\n viewBox=\"0.00 0.00 184.00 425.99\" xmlns=\"http://www.w3.org/2000/svg\" xmlns:xlink=\"http://www.w3.org/1999/xlink\">\n<g id=\"graph0\" class=\"graph\" transform=\"scale(1 1) rotate(0) translate(4 421.9908)\">\n<title>G</title>\n<polygon fill=\"#ffffff\" stroke=\"transparent\" points=\"-4,4 -4,-421.9908 179.9977,-421.9908 179.9977,4 -4,4\"/>\n<!-- start -->\n<g id=\"node1\" class=\"node\">\n<title>start</title>\n<text text-anchor=\"middle\" x=\"66.9977\" y=\"-396.2908\" font-family=\"Times,serif\" font-size=\"14.00\" fill=\"#000000\">start</text>\n</g>\n<!-- S0 -->\n<g id=\"node2\" class=\"node\">\n<title>S0</title>\n<ellipse fill=\"none\" stroke=\"#000000\" cx=\"66.9977\" cy=\"-326.9908\" rx=\"27\" ry=\"18\"/>\n<text text-anchor=\"middle\" x=\"66.9977\" y=\"-323.2908\" font-family=\"Times,serif\" font-size=\"14.00\" fill=\"#000000\">S0</text>\n</g>\n<!-- start&#45;&gt;S0 -->\n<g id=\"edge1\" class=\"edge\">\n<title>start&#45;&gt;S0</title>\n<path fill=\"none\" stroke=\"#000000\" d=\"M66.9977,-381.9458C66.9977,-373.8736 66.9977,-364.1671 66.9977,-355.1725\"/>\n<polygon fill=\"#000000\" stroke=\"#000000\" points=\"70.4978,-355.0811 66.9977,-345.0811 63.4978,-355.0812 70.4978,-355.0811\"/>\n</g>\n<!-- S16 -->\n<g id=\"node3\" class=\"node\">\n<title>S16</title>\n<ellipse fill=\"none\" stroke=\"#000000\" cx=\"66.9977\" cy=\"-239.9908\" rx=\"27\" ry=\"18\"/>\n<text text-anchor=\"middle\" x=\"66.9977\" y=\"-236.2908\" font-family=\"Times,serif\" font-size=\"14.00\" fill=\"#000000\">S16</text>\n</g>\n<!-- S0&#45;&gt;S16 -->\n<g id=\"edge2\" class=\"edge\">\n<title>S0&#45;&gt;S16</title>\n<path fill=\"none\" stroke=\"#000000\" d=\"M66.9977,-308.9643C66.9977,-297.1825 66.9977,-281.5514 66.9977,-268.1488\"/>\n<polygon fill=\"#000000\" stroke=\"#000000\" points=\"70.4978,-267.9941 66.9977,-257.9941 63.4978,-267.9942 70.4978,-267.9941\"/>\n<text text-anchor=\"middle\" x=\"68.9977\" y=\"-279.7908\" font-family=\"Times,serif\" font-size=\"14.00\" fill=\"#000000\">/</text>\n</g>\n<!-- S17 -->\n<g id=\"node4\" class=\"node\">\n<title>S17</title>\n<ellipse fill=\"none\" stroke=\"#000000\" cx=\"29.9977\" cy=\"-140.9931\" rx=\"27\" ry=\"18\"/>\n<text text-anchor=\"middle\" x=\"29.9977\" y=\"-137.2931\" font-family=\"Times,serif\" font-size=\"14.00\" fill=\"#000000\">S17</text>\n</g>\n<!-- S16&#45;&gt;S17 -->\n<g id=\"edge3\" class=\"edge\">\n<title>S16&#45;&gt;S17</title>\n<path fill=\"none\" stroke=\"#000000\" d=\"M60.3828,-222.292C54.753,-207.2288 46.5767,-185.3522 40.1235,-168.0858\"/>\n<polygon fill=\"#000000\" stroke=\"#000000\" points=\"43.3348,-166.6805 36.5553,-158.5387 36.7778,-169.1312 43.3348,-166.6805\"/>\n<text text-anchor=\"middle\" x=\"54.9977\" y=\"-192.7908\" font-family=\"Times,serif\" font-size=\"14.00\" fill=\"#000000\">/</text>\n</g>\n<!-- S71 -->\n<g id=\"node6\" class=\"node\">\n<title>S71</title>\n<ellipse fill=\"none\" stroke=\"#000000\" cx=\"104.9977\" cy=\"-140.9931\" rx=\"25.9957\" ry=\"25.9957\"/>\n<ellipse fill=\"none\" stroke=\"#000000\" cx=\"104.9977\" cy=\"-140.9931\" rx=\"29.9954\" ry=\"29.9954\"/>\n<text text-anchor=\"middle\" x=\"104.9977\" y=\"-137.2931\" font-family=\"Times,serif\" font-size=\"14.00\" fill=\"#000000\">S71</text>\n</g>\n<!-- S16&#45;&gt;S71 -->\n<g id=\"edge4\" class=\"edge\">\n<title>S16&#45;&gt;S71</title>\n<path fill=\"none\" stroke=\"#000000\" d=\"M73.7913,-222.292C78.4495,-210.1564 84.8052,-193.5986 90.5655,-178.5919\"/>\n<polygon fill=\"#000000\" stroke=\"#000000\" points=\"93.9249,-179.6066 94.241,-169.0165 87.3898,-177.0981 93.9249,-179.6066\"/>\n<text text-anchor=\"middle\" x=\"130.9977\" y=\"-192.7908\" font-family=\"Times,serif\" font-size=\"14.00\" fill=\"#000000\">lista_fim_token</text>\n</g>\n<!-- S18 -->\n<g id=\"node5\" class=\"node\">\n<title>S18</title>\n<ellipse fill=\"none\" stroke=\"#000000\" cx=\"29.9977\" cy=\"-29.9977\" rx=\"25.9957\" ry=\"25.9957\"/>\n<ellipse fill=\"none\" stroke=\"#000000\" cx=\"29.9977\" cy=\"-29.9977\" rx=\"29.9954\" ry=\"29.9954\"/>\n<text text-anchor=\"middle\" x=\"29.9977\" y=\"-26.2977\" font-family=\"Times,serif\" font-size=\"14.00\" fill=\"#000000\">S18</text>\n</g>\n<!-- S17&#45;&gt;S18 -->\n<g id=\"edge5\" class=\"edge\">\n<title>S17&#45;&gt;S18</title>\n<path fill=\"none\" stroke=\"#000000\" d=\"M29.9977,-122.6644C29.9977,-108.4582 29.9977,-88.2383 29.9977,-70.3092\"/>\n<polygon fill=\"#000000\" stroke=\"#000000\" points=\"33.4978,-70.0803 29.9977,-60.0804 26.4978,-70.0804 33.4978,-70.0803\"/>\n<text text-anchor=\"middle\" x=\"74.9977\" y=\"-81.7954\" font-family=\"Times,serif\" font-size=\"14.00\" fill=\"#000000\">lista_fim_token</text>\n</g>\n</g>\n</svg>\n"
          },
          "metadata": {},
          "execution_count": 30
        }
      ]
    },
    {
      "cell_type": "code",
      "metadata": {
        "colab": {
          "base_uri": "https://localhost:8080/",
          "height": 557
        },
        "id": "r4j5-hVc4kIX",
        "outputId": "baaf5845-c0b0-413f-a9ce-fb9e59cf2a0a"
      },
      "source": [
        "#AFD número\n",
        "alfabeto = ['1','2','3','4','5','6','7','8','9','0','lista_fim_token','ponto']\n",
        "estado_inicial = 'S0'\n",
        "estados_finais = ['S21']\n",
        "transicao = {\n",
        "               'S0':{\n",
        "                     '0':'S19',\n",
        "                     '1':'S19',\n",
        "                     '2':'S19',\n",
        "                     '3':'S19',\n",
        "                     '4':'S19',\n",
        "                     '5':'S19',\n",
        "                     '6':'S19',\n",
        "                     '7':'S19',\n",
        "                     '8':'S19',\n",
        "                     '9':'S19'\n",
        "                   },\n",
        "              'S19':{\n",
        "                     '0':'S19',\n",
        "                     '1':'S19',\n",
        "                     '2':'S19',\n",
        "                     '3':'S19',\n",
        "                     '4':'S19',\n",
        "                     '5':'S19',\n",
        "                     '6':'S19',\n",
        "                     '7':'S19',\n",
        "                     '8':'S19',\n",
        "                     '9':'S19',\n",
        "                     'ponto':'S20'\n",
        "                   },\n",
        "             'S20':{\n",
        "                     '0':'S20',\n",
        "                     '1':'S20',\n",
        "                     '2':'S20',\n",
        "                     '3':'S20',\n",
        "                     '4':'S20',\n",
        "                     '5':'S20',\n",
        "                     '6':'S20',\n",
        "                     '7':'S20',\n",
        "                     '8':'S20',\n",
        "                     '9':'S20',\n",
        "                    'lista_fim_token':'S21'\n",
        "                   },\n",
        "              'S21':{}\n",
        "\n",
        "             \n",
        "            }\n",
        "M1 = AFD(alfabeto,estado_inicial,estados_finais,transicao)\n",
        "M1.desenhar()"
      ],
      "execution_count": 22,
      "outputs": [
        {
          "output_type": "execute_result",
          "data": {
            "text/plain": [
              "<graphviz.dot.Digraph at 0x7fb58d1b20d0>"
            ],
            "image/svg+xml": "<?xml version=\"1.0\" encoding=\"UTF-8\" standalone=\"no\"?>\n<!DOCTYPE svg PUBLIC \"-//W3C//DTD SVG 1.1//EN\"\n \"http://www.w3.org/Graphics/SVG/1.1/DTD/svg11.dtd\">\n<!-- Generated by graphviz version 2.40.1 (20161225.0304)\n -->\n<!-- Title: G Pages: 1 -->\n<svg width=\"435pt\" height=\"402pt\"\n viewBox=\"0.00 0.00 435.05 402.00\" xmlns=\"http://www.w3.org/2000/svg\" xmlns:xlink=\"http://www.w3.org/1999/xlink\">\n<g id=\"graph0\" class=\"graph\" transform=\"scale(1 1) rotate(0) translate(4 397.9954)\">\n<title>G</title>\n<polygon fill=\"#ffffff\" stroke=\"transparent\" points=\"-4,4 -4,-397.9954 431.0534,-397.9954 431.0534,4 -4,4\"/>\n<!-- start -->\n<g id=\"node1\" class=\"node\">\n<title>start</title>\n<text text-anchor=\"middle\" x=\"140.0534\" y=\"-372.2954\" font-family=\"Times,serif\" font-size=\"14.00\" fill=\"#000000\">start</text>\n</g>\n<!-- S0 -->\n<g id=\"node2\" class=\"node\">\n<title>S0</title>\n<ellipse fill=\"none\" stroke=\"#000000\" cx=\"140.0534\" cy=\"-302.9954\" rx=\"27\" ry=\"18\"/>\n<text text-anchor=\"middle\" x=\"140.0534\" y=\"-299.2954\" font-family=\"Times,serif\" font-size=\"14.00\" fill=\"#000000\">S0</text>\n</g>\n<!-- start&#45;&gt;S0 -->\n<g id=\"edge1\" class=\"edge\">\n<title>start&#45;&gt;S0</title>\n<path fill=\"none\" stroke=\"#000000\" d=\"M140.0534,-357.9504C140.0534,-349.8782 140.0534,-340.1718 140.0534,-331.1771\"/>\n<polygon fill=\"#000000\" stroke=\"#000000\" points=\"143.5535,-331.0857 140.0534,-321.0857 136.5535,-331.0858 143.5535,-331.0857\"/>\n</g>\n<!-- S19 -->\n<g id=\"node3\" class=\"node\">\n<title>S19</title>\n<ellipse fill=\"none\" stroke=\"#000000\" cx=\"140.0534\" cy=\"-215.9954\" rx=\"27\" ry=\"18\"/>\n<text text-anchor=\"middle\" x=\"140.0534\" y=\"-212.2954\" font-family=\"Times,serif\" font-size=\"14.00\" fill=\"#000000\">S19</text>\n</g>\n<!-- S0&#45;&gt;S19 -->\n<g id=\"edge2\" class=\"edge\">\n<title>S0&#45;&gt;S19</title>\n<path fill=\"none\" stroke=\"#000000\" d=\"M113.3711,-299.8328C77.4322,-294.9616 16.4193,-284.3273 3.0534,-266.9954 -1.0178,-261.7162 -1.0178,-257.2746 3.0534,-251.9954 15.2185,-236.2207 66.8535,-225.9941 103.13,-220.6112\"/>\n<polygon fill=\"#000000\" stroke=\"#000000\" points=\"103.962,-224.0282 113.3711,-219.158 102.9785,-217.0977 103.962,-224.0282\"/>\n<text text-anchor=\"middle\" x=\"7.0534\" y=\"-255.7954\" font-family=\"Times,serif\" font-size=\"14.00\" fill=\"#000000\">0</text>\n</g>\n<!-- S0&#45;&gt;S19 -->\n<g id=\"edge3\" class=\"edge\">\n<title>S0&#45;&gt;S19</title>\n<path fill=\"none\" stroke=\"#000000\" d=\"M113.1764,-300.2485C75.1144,-295.2396 12.4061,-282.209 34.0534,-251.9954 42.4343,-240.2979 76.587,-230.0876 103.892,-223.5579\"/>\n<polygon fill=\"#000000\" stroke=\"#000000\" points=\"104.9945,-226.8956 113.9536,-221.2401 103.4231,-220.0743 104.9945,-226.8956\"/>\n<text text-anchor=\"middle\" x=\"38.0534\" y=\"-255.7954\" font-family=\"Times,serif\" font-size=\"14.00\" fill=\"#000000\">1</text>\n</g>\n<!-- S0&#45;&gt;S19 -->\n<g id=\"edge4\" class=\"edge\">\n<title>S0&#45;&gt;S19</title>\n<path fill=\"none\" stroke=\"#000000\" d=\"M114.0754,-297.9577C96.9376,-293.1405 75.7453,-283.9874 65.0534,-266.9954 52.616,-247.2295 79.7628,-233.2484 104.8025,-224.9837\"/>\n<polygon fill=\"#000000\" stroke=\"#000000\" points=\"106.028,-228.2689 114.5651,-221.9944 103.9785,-221.5756 106.028,-228.2689\"/>\n<text text-anchor=\"middle\" x=\"69.0534\" y=\"-255.7954\" font-family=\"Times,serif\" font-size=\"14.00\" fill=\"#000000\">2</text>\n</g>\n<!-- S0&#45;&gt;S19 -->\n<g id=\"edge5\" class=\"edge\">\n<title>S0&#45;&gt;S19</title>\n<path fill=\"none\" stroke=\"#000000\" d=\"M118.9059,-291.4393C110.124,-285.4142 100.8717,-277.1632 96.0534,-266.9954 90.0723,-254.3738 99.2497,-242.4283 110.7431,-233.2753\"/>\n<polygon fill=\"#000000\" stroke=\"#000000\" points=\"112.8299,-236.0858 118.9122,-227.4108 108.7476,-230.3993 112.8299,-236.0858\"/>\n<text text-anchor=\"middle\" x=\"100.0534\" y=\"-255.7954\" font-family=\"Times,serif\" font-size=\"14.00\" fill=\"#000000\">3</text>\n</g>\n<!-- S0&#45;&gt;S19 -->\n<g id=\"edge6\" class=\"edge\">\n<title>S0&#45;&gt;S19</title>\n<path fill=\"none\" stroke=\"#000000\" d=\"M132.3182,-285.3839C130.1691,-279.6363 128.1303,-273.1482 127.0534,-266.9954 125.6733,-259.1101 126.7603,-250.6489 128.7875,-242.9295\"/>\n<polygon fill=\"#000000\" stroke=\"#000000\" points=\"132.1483,-243.9107 131.8655,-233.3197 125.4819,-241.7754 132.1483,-243.9107\"/>\n<text text-anchor=\"middle\" x=\"131.0534\" y=\"-255.7954\" font-family=\"Times,serif\" font-size=\"14.00\" fill=\"#000000\">4</text>\n</g>\n<!-- S0&#45;&gt;S19 -->\n<g id=\"edge7\" class=\"edge\">\n<title>S0&#45;&gt;S19</title>\n<path fill=\"none\" stroke=\"#000000\" d=\"M140.0534,-284.9689C140.0534,-273.1872 140.0534,-257.556 140.0534,-244.1535\"/>\n<polygon fill=\"#000000\" stroke=\"#000000\" points=\"143.5535,-243.9987 140.0534,-233.9987 136.5535,-243.9988 143.5535,-243.9987\"/>\n<text text-anchor=\"middle\" x=\"144.0534\" y=\"-255.7954\" font-family=\"Times,serif\" font-size=\"14.00\" fill=\"#000000\">5</text>\n</g>\n<!-- S0&#45;&gt;S19 -->\n<g id=\"edge8\" class=\"edge\">\n<title>S0&#45;&gt;S19</title>\n<path fill=\"none\" stroke=\"#000000\" d=\"M147.1961,-285.3359C149.18,-279.5857 151.0614,-273.1082 152.0534,-266.9954 153.3299,-259.1294 152.3273,-250.6742 150.456,-242.9545\"/>\n<polygon fill=\"#000000\" stroke=\"#000000\" points=\"153.8055,-241.9387 147.6142,-233.3411 147.0926,-243.9231 153.8055,-241.9387\"/>\n<text text-anchor=\"middle\" x=\"156.0534\" y=\"-255.7954\" font-family=\"Times,serif\" font-size=\"14.00\" fill=\"#000000\">6</text>\n</g>\n<!-- S0&#45;&gt;S19 -->\n<g id=\"edge9\" class=\"edge\">\n<title>S0&#45;&gt;S19</title>\n<path fill=\"none\" stroke=\"#000000\" d=\"M153.5032,-287.1923C157.7384,-281.2505 161.8767,-274.1846 164.0534,-266.9954 166.8022,-257.9165 164.0281,-248.4007 159.5195,-240.0805\"/>\n<polygon fill=\"#000000\" stroke=\"#000000\" points=\"162.4453,-238.159 154.1257,-231.5989 156.5385,-241.9153 162.4453,-238.159\"/>\n<text text-anchor=\"middle\" x=\"169.0534\" y=\"-255.7954\" font-family=\"Times,serif\" font-size=\"14.00\" fill=\"#000000\">7</text>\n</g>\n<!-- S0&#45;&gt;S19 -->\n<g id=\"edge10\" class=\"edge\">\n<title>S0&#45;&gt;S19</title>\n<path fill=\"none\" stroke=\"#000000\" d=\"M159.0786,-289.752C166.1145,-283.713 173.2881,-275.9124 177.0534,-266.9954 181.7741,-255.8159 175.455,-244.7483 166.7779,-235.795\"/>\n<polygon fill=\"#000000\" stroke=\"#000000\" points=\"168.8722,-232.968 159.125,-228.8155 164.1552,-238.1401 168.8722,-232.968\"/>\n<text text-anchor=\"middle\" x=\"182.0534\" y=\"-255.7954\" font-family=\"Times,serif\" font-size=\"14.00\" fill=\"#000000\">8</text>\n</g>\n<!-- S0&#45;&gt;S19 -->\n<g id=\"edge11\" class=\"edge\">\n<title>S0&#45;&gt;S19</title>\n<path fill=\"none\" stroke=\"#000000\" d=\"M162.6999,-292.8337C173.0383,-286.8998 184.2503,-278.3244 190.0534,-266.9954 197.1223,-253.1953 185.3555,-240.7084 171.4675,-231.5445\"/>\n<polygon fill=\"#000000\" stroke=\"#000000\" points=\"173.0722,-228.4258 162.6956,-226.2861 169.473,-234.4297 173.0722,-228.4258\"/>\n<text text-anchor=\"middle\" x=\"196.0534\" y=\"-255.7954\" font-family=\"Times,serif\" font-size=\"14.00\" fill=\"#000000\">9</text>\n</g>\n<!-- S19&#45;&gt;S19 -->\n<g id=\"edge12\" class=\"edge\">\n<title>S19&#45;&gt;S19</title>\n<path fill=\"none\" stroke=\"#000000\" d=\"M167.2942,-217.4939C177.0773,-217.5261 185.0534,-217.0266 185.0534,-215.9954 185.0534,-215.367 182.0916,-214.936 177.5639,-214.7025\"/>\n<polygon fill=\"#000000\" stroke=\"#000000\" points=\"177.3623,-211.1979 167.2942,-214.4969 177.2221,-218.1964 177.3623,-211.1979\"/>\n<text text-anchor=\"middle\" x=\"189.0534\" y=\"-212.2954\" font-family=\"Times,serif\" font-size=\"14.00\" fill=\"#000000\">0</text>\n</g>\n<!-- S19&#45;&gt;S19 -->\n<g id=\"edge13\" class=\"edge\">\n<title>S19&#45;&gt;S19</title>\n<path fill=\"none\" stroke=\"#000000\" d=\"M166.923,-218.7169C185.1802,-219.5119 203.0534,-218.6048 203.0534,-215.9954 203.0534,-213.8753 191.2543,-212.8789 177.0369,-213.0062\"/>\n<polygon fill=\"#000000\" stroke=\"#000000\" points=\"176.8269,-209.5104 166.923,-213.2739 177.0121,-216.508 176.8269,-209.5104\"/>\n<text text-anchor=\"middle\" x=\"207.0534\" y=\"-212.2954\" font-family=\"Times,serif\" font-size=\"14.00\" fill=\"#000000\">1</text>\n</g>\n<!-- S19&#45;&gt;S19 -->\n<g id=\"edge14\" class=\"edge\">\n<title>S19&#45;&gt;S19</title>\n<path fill=\"none\" stroke=\"#000000\" d=\"M166.602,-219.5714C192.5472,-221.5468 221.0534,-220.3548 221.0534,-215.9954 221.0534,-212.198 199.4227,-210.8039 176.6966,-211.8133\"/>\n<polygon fill=\"#000000\" stroke=\"#000000\" points=\"176.3743,-208.3263 166.602,-212.4193 176.7938,-215.3137 176.3743,-208.3263\"/>\n<text text-anchor=\"middle\" x=\"225.0534\" y=\"-212.2954\" font-family=\"Times,serif\" font-size=\"14.00\" fill=\"#000000\">2</text>\n</g>\n<!-- S19&#45;&gt;S19 -->\n<g id=\"edge15\" class=\"edge\">\n<title>S19&#45;&gt;S19</title>\n<path fill=\"none\" stroke=\"#000000\" d=\"M166.4135,-220.201C199.5718,-223.5847 239.0534,-222.1829 239.0534,-215.9954 239.0534,-210.4363 207.1843,-208.7401 176.6641,-210.9069\"/>\n<polygon fill=\"#000000\" stroke=\"#000000\" points=\"176.0762,-207.4445 166.4135,-211.7898 176.677,-214.4187 176.0762,-207.4445\"/>\n<text text-anchor=\"middle\" x=\"243.0534\" y=\"-212.2954\" font-family=\"Times,serif\" font-size=\"14.00\" fill=\"#000000\">3</text>\n</g>\n<!-- S19&#45;&gt;S19 -->\n<g id=\"edge16\" class=\"edge\">\n<title>S19&#45;&gt;S19</title>\n<path fill=\"none\" stroke=\"#000000\" d=\"M166.205,-220.6745C206.3012,-225.6215 257.0534,-224.0618 257.0534,-215.9954 257.0534,-208.5907 214.2862,-206.6689 176.2536,-210.2302\"/>\n<polygon fill=\"#000000\" stroke=\"#000000\" points=\"175.771,-206.7619 166.205,-211.3162 176.5232,-213.7213 175.771,-206.7619\"/>\n<text text-anchor=\"middle\" x=\"261.0534\" y=\"-212.2954\" font-family=\"Times,serif\" font-size=\"14.00\" fill=\"#000000\">4</text>\n</g>\n<!-- S19&#45;&gt;S19 -->\n<g id=\"edge17\" class=\"edge\">\n<title>S19&#45;&gt;S19</title>\n<path fill=\"none\" stroke=\"#000000\" d=\"M166.2284,-221.0731C213.0407,-227.6489 275.0534,-225.9563 275.0534,-215.9954 275.0534,-206.7348 221.4547,-204.6208 176.3015,-209.6532\"/>\n<polygon fill=\"#000000\" stroke=\"#000000\" points=\"175.7146,-206.1993 166.2284,-210.9176 176.5865,-213.1448 175.7146,-206.1993\"/>\n<text text-anchor=\"middle\" x=\"279.0534\" y=\"-212.2954\" font-family=\"Times,serif\" font-size=\"14.00\" fill=\"#000000\">5</text>\n</g>\n<!-- S19&#45;&gt;S19 -->\n<g id=\"edge18\" class=\"edge\">\n<title>S19&#45;&gt;S19</title>\n<path fill=\"none\" stroke=\"#000000\" d=\"M166.0032,-221.3619C219.4261,-229.6787 293.0534,-227.8899 293.0534,-215.9954 293.0534,-204.821 228.072,-202.5657 175.9083,-209.2294\"/>\n<polygon fill=\"#000000\" stroke=\"#000000\" points=\"175.4151,-205.7642 166.0032,-210.6289 176.3945,-212.6954 175.4151,-205.7642\"/>\n<text text-anchor=\"middle\" x=\"297.0534\" y=\"-212.2954\" font-family=\"Times,serif\" font-size=\"14.00\" fill=\"#000000\">6</text>\n</g>\n<!-- S19&#45;&gt;S19 -->\n<g id=\"edge19\" class=\"edge\">\n<title>S19&#45;&gt;S19</title>\n<path fill=\"none\" stroke=\"#000000\" d=\"M165.7854,-221.5924C225.7095,-231.7048 311.0534,-229.8391 311.0534,-215.9954 311.0534,-202.9087 234.7888,-200.5259 175.8267,-208.8468\"/>\n<polygon fill=\"#000000\" stroke=\"#000000\" points=\"175.1336,-205.4123 165.7854,-210.3984 176.2027,-212.3302 175.1336,-205.4123\"/>\n<text text-anchor=\"middle\" x=\"315.0534\" y=\"-212.2954\" font-family=\"Times,serif\" font-size=\"14.00\" fill=\"#000000\">7</text>\n</g>\n<!-- S19&#45;&gt;S19 -->\n<g id=\"edge20\" class=\"edge\">\n<title>S19&#45;&gt;S19</title>\n<path fill=\"none\" stroke=\"#000000\" d=\"M165.8187,-221.8223C232.1535,-233.7229 329.0534,-231.7805 329.0534,-215.9954 329.0534,-200.981 241.3853,-198.4906 175.7395,-208.5242\"/>\n<polygon fill=\"#000000\" stroke=\"#000000\" points=\"175.1118,-205.0804 165.8187,-210.1684 176.2564,-211.9862 175.1118,-205.0804\"/>\n<text text-anchor=\"middle\" x=\"333.0534\" y=\"-212.2954\" font-family=\"Times,serif\" font-size=\"14.00\" fill=\"#000000\">8</text>\n</g>\n<!-- S19&#45;&gt;S19 -->\n<g id=\"edge21\" class=\"edge\">\n<title>S19&#45;&gt;S19</title>\n<path fill=\"none\" stroke=\"#000000\" d=\"M165.858,-222.0223C238.5481,-235.7387 347.0534,-233.7298 347.0534,-215.9954 347.0534,-199.0577 248.0777,-196.4643 175.8579,-208.2152\"/>\n<polygon fill=\"#000000\" stroke=\"#000000\" points=\"175.1033,-204.794 165.858,-209.9685 176.3123,-211.6888 175.1033,-204.794\"/>\n<text text-anchor=\"middle\" x=\"351.0534\" y=\"-212.2954\" font-family=\"Times,serif\" font-size=\"14.00\" fill=\"#000000\">9</text>\n</g>\n<!-- S20 -->\n<g id=\"node4\" class=\"node\">\n<title>S20</title>\n<ellipse fill=\"none\" stroke=\"#000000\" cx=\"140.0534\" cy=\"-128.9954\" rx=\"27\" ry=\"18\"/>\n<text text-anchor=\"middle\" x=\"140.0534\" y=\"-125.2954\" font-family=\"Times,serif\" font-size=\"14.00\" fill=\"#000000\">S20</text>\n</g>\n<!-- S19&#45;&gt;S20 -->\n<g id=\"edge22\" class=\"edge\">\n<title>S19&#45;&gt;S20</title>\n<path fill=\"none\" stroke=\"#000000\" d=\"M140.0534,-197.9689C140.0534,-186.1872 140.0534,-170.556 140.0534,-157.1535\"/>\n<polygon fill=\"#000000\" stroke=\"#000000\" points=\"143.5535,-156.9987 140.0534,-146.9987 136.5535,-156.9988 143.5535,-156.9987\"/>\n<text text-anchor=\"middle\" x=\"157.0534\" y=\"-168.7954\" font-family=\"Times,serif\" font-size=\"14.00\" fill=\"#000000\">ponto</text>\n</g>\n<!-- S20&#45;&gt;S20 -->\n<g id=\"edge23\" class=\"edge\">\n<title>S20&#45;&gt;S20</title>\n<path fill=\"none\" stroke=\"#000000\" d=\"M167.2942,-130.4939C177.0773,-130.5261 185.0534,-130.0266 185.0534,-128.9954 185.0534,-128.367 182.0916,-127.936 177.5639,-127.7025\"/>\n<polygon fill=\"#000000\" stroke=\"#000000\" points=\"177.3623,-124.1979 167.2942,-127.4969 177.2221,-131.1964 177.3623,-124.1979\"/>\n<text text-anchor=\"middle\" x=\"189.0534\" y=\"-125.2954\" font-family=\"Times,serif\" font-size=\"14.00\" fill=\"#000000\">0</text>\n</g>\n<!-- S20&#45;&gt;S20 -->\n<g id=\"edge24\" class=\"edge\">\n<title>S20&#45;&gt;S20</title>\n<path fill=\"none\" stroke=\"#000000\" d=\"M166.923,-131.7169C185.1802,-132.5119 203.0534,-131.6048 203.0534,-128.9954 203.0534,-126.8753 191.2543,-125.8789 177.0369,-126.0062\"/>\n<polygon fill=\"#000000\" stroke=\"#000000\" points=\"176.8269,-122.5104 166.923,-126.2739 177.0121,-129.508 176.8269,-122.5104\"/>\n<text text-anchor=\"middle\" x=\"207.0534\" y=\"-125.2954\" font-family=\"Times,serif\" font-size=\"14.00\" fill=\"#000000\">1</text>\n</g>\n<!-- S20&#45;&gt;S20 -->\n<g id=\"edge25\" class=\"edge\">\n<title>S20&#45;&gt;S20</title>\n<path fill=\"none\" stroke=\"#000000\" d=\"M166.602,-132.5714C192.5472,-134.5468 221.0534,-133.3548 221.0534,-128.9954 221.0534,-125.198 199.4227,-123.8039 176.6966,-124.8133\"/>\n<polygon fill=\"#000000\" stroke=\"#000000\" points=\"176.3743,-121.3263 166.602,-125.4193 176.7938,-128.3137 176.3743,-121.3263\"/>\n<text text-anchor=\"middle\" x=\"225.0534\" y=\"-125.2954\" font-family=\"Times,serif\" font-size=\"14.00\" fill=\"#000000\">2</text>\n</g>\n<!-- S20&#45;&gt;S20 -->\n<g id=\"edge26\" class=\"edge\">\n<title>S20&#45;&gt;S20</title>\n<path fill=\"none\" stroke=\"#000000\" d=\"M166.4135,-133.201C199.5718,-136.5847 239.0534,-135.1829 239.0534,-128.9954 239.0534,-123.4363 207.1843,-121.7401 176.6641,-123.9069\"/>\n<polygon fill=\"#000000\" stroke=\"#000000\" points=\"176.0762,-120.4445 166.4135,-124.7898 176.677,-127.4187 176.0762,-120.4445\"/>\n<text text-anchor=\"middle\" x=\"243.0534\" y=\"-125.2954\" font-family=\"Times,serif\" font-size=\"14.00\" fill=\"#000000\">3</text>\n</g>\n<!-- S20&#45;&gt;S20 -->\n<g id=\"edge27\" class=\"edge\">\n<title>S20&#45;&gt;S20</title>\n<path fill=\"none\" stroke=\"#000000\" d=\"M166.205,-133.6745C206.3012,-138.6215 257.0534,-137.0618 257.0534,-128.9954 257.0534,-121.5907 214.2862,-119.6689 176.2536,-123.2302\"/>\n<polygon fill=\"#000000\" stroke=\"#000000\" points=\"175.771,-119.7619 166.205,-124.3162 176.5232,-126.7213 175.771,-119.7619\"/>\n<text text-anchor=\"middle\" x=\"261.0534\" y=\"-125.2954\" font-family=\"Times,serif\" font-size=\"14.00\" fill=\"#000000\">4</text>\n</g>\n<!-- S20&#45;&gt;S20 -->\n<g id=\"edge28\" class=\"edge\">\n<title>S20&#45;&gt;S20</title>\n<path fill=\"none\" stroke=\"#000000\" d=\"M166.2284,-134.0731C213.0407,-140.6489 275.0534,-138.9563 275.0534,-128.9954 275.0534,-119.7348 221.4547,-117.6208 176.3015,-122.6532\"/>\n<polygon fill=\"#000000\" stroke=\"#000000\" points=\"175.7146,-119.1993 166.2284,-123.9176 176.5865,-126.1448 175.7146,-119.1993\"/>\n<text text-anchor=\"middle\" x=\"279.0534\" y=\"-125.2954\" font-family=\"Times,serif\" font-size=\"14.00\" fill=\"#000000\">5</text>\n</g>\n<!-- S20&#45;&gt;S20 -->\n<g id=\"edge29\" class=\"edge\">\n<title>S20&#45;&gt;S20</title>\n<path fill=\"none\" stroke=\"#000000\" d=\"M166.0032,-134.3619C219.4261,-142.6787 293.0534,-140.8899 293.0534,-128.9954 293.0534,-117.821 228.072,-115.5657 175.9083,-122.2294\"/>\n<polygon fill=\"#000000\" stroke=\"#000000\" points=\"175.4151,-118.7642 166.0032,-123.6289 176.3945,-125.6954 175.4151,-118.7642\"/>\n<text text-anchor=\"middle\" x=\"297.0534\" y=\"-125.2954\" font-family=\"Times,serif\" font-size=\"14.00\" fill=\"#000000\">6</text>\n</g>\n<!-- S20&#45;&gt;S20 -->\n<g id=\"edge30\" class=\"edge\">\n<title>S20&#45;&gt;S20</title>\n<path fill=\"none\" stroke=\"#000000\" d=\"M165.7854,-134.5924C225.7095,-144.7048 311.0534,-142.8391 311.0534,-128.9954 311.0534,-115.9087 234.7888,-113.5259 175.8267,-121.8468\"/>\n<polygon fill=\"#000000\" stroke=\"#000000\" points=\"175.1336,-118.4123 165.7854,-123.3984 176.2027,-125.3302 175.1336,-118.4123\"/>\n<text text-anchor=\"middle\" x=\"315.0534\" y=\"-125.2954\" font-family=\"Times,serif\" font-size=\"14.00\" fill=\"#000000\">7</text>\n</g>\n<!-- S20&#45;&gt;S20 -->\n<g id=\"edge31\" class=\"edge\">\n<title>S20&#45;&gt;S20</title>\n<path fill=\"none\" stroke=\"#000000\" d=\"M165.8187,-134.8223C232.1535,-146.7229 329.0534,-144.7805 329.0534,-128.9954 329.0534,-113.981 241.3853,-111.4906 175.7395,-121.5242\"/>\n<polygon fill=\"#000000\" stroke=\"#000000\" points=\"175.1118,-118.0804 165.8187,-123.1684 176.2564,-124.9862 175.1118,-118.0804\"/>\n<text text-anchor=\"middle\" x=\"333.0534\" y=\"-125.2954\" font-family=\"Times,serif\" font-size=\"14.00\" fill=\"#000000\">8</text>\n</g>\n<!-- S20&#45;&gt;S20 -->\n<g id=\"edge32\" class=\"edge\">\n<title>S20&#45;&gt;S20</title>\n<path fill=\"none\" stroke=\"#000000\" d=\"M165.858,-135.0223C238.5481,-148.7387 347.0534,-146.7298 347.0534,-128.9954 347.0534,-112.0577 248.0777,-109.4643 175.8579,-121.2152\"/>\n<polygon fill=\"#000000\" stroke=\"#000000\" points=\"175.1033,-117.794 165.858,-122.9685 176.3123,-124.6888 175.1033,-117.794\"/>\n<text text-anchor=\"middle\" x=\"351.0534\" y=\"-125.2954\" font-family=\"Times,serif\" font-size=\"14.00\" fill=\"#000000\">9</text>\n</g>\n<!-- S21 -->\n<g id=\"node5\" class=\"node\">\n<title>S21</title>\n<ellipse fill=\"none\" stroke=\"#000000\" cx=\"140.0534\" cy=\"-29.9977\" rx=\"25.9957\" ry=\"25.9957\"/>\n<ellipse fill=\"none\" stroke=\"#000000\" cx=\"140.0534\" cy=\"-29.9977\" rx=\"29.9954\" ry=\"29.9954\"/>\n<text text-anchor=\"middle\" x=\"140.0534\" y=\"-26.2977\" font-family=\"Times,serif\" font-size=\"14.00\" fill=\"#000000\">S21</text>\n</g>\n<!-- S20&#45;&gt;S21 -->\n<g id=\"edge33\" class=\"edge\">\n<title>S20&#45;&gt;S21</title>\n<path fill=\"none\" stroke=\"#000000\" d=\"M140.0534,-110.8377C140.0534,-99.4286 140.0534,-84.2458 140.0534,-70.1204\"/>\n<polygon fill=\"#000000\" stroke=\"#000000\" points=\"143.5535,-70.0908 140.0534,-60.0909 136.5535,-70.0909 143.5535,-70.0908\"/>\n<text text-anchor=\"middle\" x=\"185.0534\" y=\"-81.7954\" font-family=\"Times,serif\" font-size=\"14.00\" fill=\"#000000\">lista_fim_token</text>\n</g>\n</g>\n</svg>\n"
          },
          "metadata": {},
          "execution_count": 22
        }
      ]
    },
    {
      "cell_type": "code",
      "metadata": {
        "colab": {
          "base_uri": "https://localhost:8080/",
          "height": 589
        },
        "id": "W6vBPXAz5Q0o",
        "outputId": "47ff2cb4-a9a5-4242-e47a-91abb9137510"
      },
      "source": [
        "#AFD sinal de adição , incrementar e adição por ele mesmo\n",
        "alfabeto = ['+','=','lista_fim_token']\n",
        "estado_inicial = 'S0'\n",
        "estados_finais = ['S23','S75','S98']\n",
        "transicao = {\n",
        "               'S0':{\n",
        "                    '+':'S22'\n",
        "                   },\n",
        "              'S22':{\n",
        "                    'lista_fim_token':'S23',\n",
        "                     '+':'S74',\n",
        "                     '=':'S97'\n",
        "                   },\n",
        "             'S74':{\n",
        "                    'lista_fim_token':'S75'\n",
        "                   },\n",
        "              'S97':{\n",
        "                    'lista_fim_token':'S98'\n",
        "                   },\n",
        "              'S23':{},\n",
        "              'S75':{},\n",
        "              'S98':{}\n",
        "\n",
        "             \n",
        "            }\n",
        "M1 = AFD(alfabeto,estado_inicial,estados_finais,transicao)\n",
        "M1.desenhar()"
      ],
      "execution_count": 42,
      "outputs": [
        {
          "output_type": "execute_result",
          "data": {
            "text/plain": [
              "<graphviz.dot.Digraph at 0x7fb58d13c9d0>"
            ],
            "image/svg+xml": "<?xml version=\"1.0\" encoding=\"UTF-8\" standalone=\"no\"?>\n<!DOCTYPE svg PUBLIC \"-//W3C//DTD SVG 1.1//EN\"\n \"http://www.w3.org/Graphics/SVG/1.1/DTD/svg11.dtd\">\n<!-- Generated by graphviz version 2.40.1 (20161225.0304)\n -->\n<!-- Title: G Pages: 1 -->\n<svg width=\"268pt\" height=\"426pt\"\n viewBox=\"0.00 0.00 268.00 425.99\" xmlns=\"http://www.w3.org/2000/svg\" xmlns:xlink=\"http://www.w3.org/1999/xlink\">\n<g id=\"graph0\" class=\"graph\" transform=\"scale(1 1) rotate(0) translate(4 421.9908)\">\n<title>G</title>\n<polygon fill=\"#ffffff\" stroke=\"transparent\" points=\"-4,4 -4,-421.9908 263.9977,-421.9908 263.9977,4 -4,4\"/>\n<!-- start -->\n<g id=\"node1\" class=\"node\">\n<title>start</title>\n<text text-anchor=\"middle\" x=\"131.9977\" y=\"-396.2908\" font-family=\"Times,serif\" font-size=\"14.00\" fill=\"#000000\">start</text>\n</g>\n<!-- S0 -->\n<g id=\"node2\" class=\"node\">\n<title>S0</title>\n<ellipse fill=\"none\" stroke=\"#000000\" cx=\"131.9977\" cy=\"-326.9908\" rx=\"27\" ry=\"18\"/>\n<text text-anchor=\"middle\" x=\"131.9977\" y=\"-323.2908\" font-family=\"Times,serif\" font-size=\"14.00\" fill=\"#000000\">S0</text>\n</g>\n<!-- start&#45;&gt;S0 -->\n<g id=\"edge1\" class=\"edge\">\n<title>start&#45;&gt;S0</title>\n<path fill=\"none\" stroke=\"#000000\" d=\"M131.9977,-381.9458C131.9977,-373.8736 131.9977,-364.1671 131.9977,-355.1725\"/>\n<polygon fill=\"#000000\" stroke=\"#000000\" points=\"135.4978,-355.0811 131.9977,-345.0811 128.4978,-355.0812 135.4978,-355.0811\"/>\n</g>\n<!-- S22 -->\n<g id=\"node3\" class=\"node\">\n<title>S22</title>\n<ellipse fill=\"none\" stroke=\"#000000\" cx=\"131.9977\" cy=\"-239.9908\" rx=\"27\" ry=\"18\"/>\n<text text-anchor=\"middle\" x=\"131.9977\" y=\"-236.2908\" font-family=\"Times,serif\" font-size=\"14.00\" fill=\"#000000\">S22</text>\n</g>\n<!-- S0&#45;&gt;S22 -->\n<g id=\"edge2\" class=\"edge\">\n<title>S0&#45;&gt;S22</title>\n<path fill=\"none\" stroke=\"#000000\" d=\"M131.9977,-308.9643C131.9977,-297.1825 131.9977,-281.5514 131.9977,-268.1488\"/>\n<polygon fill=\"#000000\" stroke=\"#000000\" points=\"135.4978,-267.9941 131.9977,-257.9941 128.4978,-267.9942 135.4978,-267.9941\"/>\n<text text-anchor=\"middle\" x=\"136.4977\" y=\"-279.7908\" font-family=\"Times,serif\" font-size=\"14.00\" fill=\"#000000\">+</text>\n</g>\n<!-- S74 -->\n<g id=\"node4\" class=\"node\">\n<title>S74</title>\n<ellipse fill=\"none\" stroke=\"#000000\" cx=\"49.9977\" cy=\"-140.9931\" rx=\"27\" ry=\"18\"/>\n<text text-anchor=\"middle\" x=\"49.9977\" y=\"-137.2931\" font-family=\"Times,serif\" font-size=\"14.00\" fill=\"#000000\">S74</text>\n</g>\n<!-- S22&#45;&gt;S74 -->\n<g id=\"edge4\" class=\"edge\">\n<title>S22&#45;&gt;S74</title>\n<path fill=\"none\" stroke=\"#000000\" d=\"M118.823,-224.0851C105.5532,-208.0646 84.9205,-183.155 69.704,-164.7843\"/>\n<polygon fill=\"#000000\" stroke=\"#000000\" points=\"72.2141,-162.3279 63.1397,-156.8593 66.8233,-166.7932 72.2141,-162.3279\"/>\n<text text-anchor=\"middle\" x=\"105.4977\" y=\"-192.7908\" font-family=\"Times,serif\" font-size=\"14.00\" fill=\"#000000\">+</text>\n</g>\n<!-- S97 -->\n<g id=\"node5\" class=\"node\">\n<title>S97</title>\n<ellipse fill=\"none\" stroke=\"#000000\" cx=\"131.9977\" cy=\"-140.9931\" rx=\"27\" ry=\"18\"/>\n<text text-anchor=\"middle\" x=\"131.9977\" y=\"-137.2931\" font-family=\"Times,serif\" font-size=\"14.00\" fill=\"#000000\">S97</text>\n</g>\n<!-- S22&#45;&gt;S97 -->\n<g id=\"edge5\" class=\"edge\">\n<title>S22&#45;&gt;S97</title>\n<path fill=\"none\" stroke=\"#000000\" d=\"M131.9977,-221.8331C131.9977,-207.1803 131.9977,-186.3031 131.9977,-169.4354\"/>\n<polygon fill=\"#000000\" stroke=\"#000000\" points=\"135.4978,-169.0356 131.9977,-159.0357 128.4978,-169.0357 135.4978,-169.0356\"/>\n<text text-anchor=\"middle\" x=\"136.4977\" y=\"-192.7908\" font-family=\"Times,serif\" font-size=\"14.00\" fill=\"#000000\">=</text>\n</g>\n<!-- S23 -->\n<g id=\"node6\" class=\"node\">\n<title>S23</title>\n<ellipse fill=\"none\" stroke=\"#000000\" cx=\"206.9977\" cy=\"-140.9931\" rx=\"25.9957\" ry=\"25.9957\"/>\n<ellipse fill=\"none\" stroke=\"#000000\" cx=\"206.9977\" cy=\"-140.9931\" rx=\"29.9954\" ry=\"29.9954\"/>\n<text text-anchor=\"middle\" x=\"206.9977\" y=\"-137.2931\" font-family=\"Times,serif\" font-size=\"14.00\" fill=\"#000000\">S23</text>\n</g>\n<!-- S22&#45;&gt;S23 -->\n<g id=\"edge3\" class=\"edge\">\n<title>S22&#45;&gt;S23</title>\n<path fill=\"none\" stroke=\"#000000\" d=\"M144.3824,-223.6433C154.7513,-209.9567 169.8615,-190.0117 182.6405,-173.1438\"/>\n<polygon fill=\"#000000\" stroke=\"#000000\" points=\"185.4467,-175.2357 188.6956,-165.1513 179.8671,-171.0086 185.4467,-175.2357\"/>\n<text text-anchor=\"middle\" x=\"214.9977\" y=\"-192.7908\" font-family=\"Times,serif\" font-size=\"14.00\" fill=\"#000000\">lista_fim_token</text>\n</g>\n<!-- S75 -->\n<g id=\"node7\" class=\"node\">\n<title>S75</title>\n<ellipse fill=\"none\" stroke=\"#000000\" cx=\"29.9977\" cy=\"-29.9977\" rx=\"25.9957\" ry=\"25.9957\"/>\n<ellipse fill=\"none\" stroke=\"#000000\" cx=\"29.9977\" cy=\"-29.9977\" rx=\"29.9954\" ry=\"29.9954\"/>\n<text text-anchor=\"middle\" x=\"29.9977\" y=\"-26.2977\" font-family=\"Times,serif\" font-size=\"14.00\" fill=\"#000000\">S75</text>\n</g>\n<!-- S74&#45;&gt;S75 -->\n<g id=\"edge6\" class=\"edge\">\n<title>S74&#45;&gt;S75</title>\n<path fill=\"none\" stroke=\"#000000\" d=\"M46.6951,-122.6644C44.1047,-108.2884 40.4047,-87.7541 37.1457,-69.6673\"/>\n<polygon fill=\"#000000\" stroke=\"#000000\" points=\"40.558,-68.8675 35.3401,-59.6467 33.669,-70.1089 40.558,-68.8675\"/>\n<text text-anchor=\"middle\" x=\"86.9977\" y=\"-81.7954\" font-family=\"Times,serif\" font-size=\"14.00\" fill=\"#000000\">lista_fim_token</text>\n</g>\n<!-- S98 -->\n<g id=\"node8\" class=\"node\">\n<title>S98</title>\n<ellipse fill=\"none\" stroke=\"#000000\" cx=\"142.9977\" cy=\"-29.9977\" rx=\"25.9957\" ry=\"25.9957\"/>\n<ellipse fill=\"none\" stroke=\"#000000\" cx=\"142.9977\" cy=\"-29.9977\" rx=\"29.9954\" ry=\"29.9954\"/>\n<text text-anchor=\"middle\" x=\"142.9977\" y=\"-26.2977\" font-family=\"Times,serif\" font-size=\"14.00\" fill=\"#000000\">S98</text>\n</g>\n<!-- S97&#45;&gt;S98 -->\n<g id=\"edge7\" class=\"edge\">\n<title>S97&#45;&gt;S98</title>\n<path fill=\"none\" stroke=\"#000000\" d=\"M133.8141,-122.6644C135.2286,-108.3918 137.2446,-88.0492 139.0276,-70.058\"/>\n<polygon fill=\"#000000\" stroke=\"#000000\" points=\"142.513,-70.3768 140.0164,-60.0804 135.5472,-69.6864 142.513,-70.3768\"/>\n<text text-anchor=\"middle\" x=\"183.9977\" y=\"-81.7954\" font-family=\"Times,serif\" font-size=\"14.00\" fill=\"#000000\">lista_fim_token</text>\n</g>\n</g>\n</svg>\n"
          },
          "metadata": {},
          "execution_count": 42
        }
      ]
    },
    {
      "cell_type": "code",
      "metadata": {
        "colab": {
          "base_uri": "https://localhost:8080/",
          "height": 601
        },
        "id": "699w2rAT6JCY",
        "outputId": "65c6cfe8-5724-4105-a640-ed9c3f607e8f"
      },
      "source": [
        "#AFD sinal de subtração ,decrementar e substração por ele mesmo\n",
        "alfabeto = ['-','=','lista_fim_token']\n",
        "estado_inicial = 'S0'\n",
        "estados_finais = ['S25','S77','S100']\n",
        "transicao = {\n",
        "               'S0':{\n",
        "                    '-':'S24'\n",
        "                   },\n",
        "              'S24':{\n",
        "                    'lista_fim_token':'S25',\n",
        "                     '-':'S76',\n",
        "                     '=':'S99'\n",
        "                   },\n",
        "             'S76':{\n",
        "                    'lista_fim_token':'S77'\n",
        "                   },\n",
        "              'S99':{\n",
        "                    'lista_fim_token':'S100'\n",
        "                   },\n",
        "              'S25':{},\n",
        "              'S77':{},\n",
        "              'S100':{}\n",
        "\n",
        "             \n",
        "            }\n",
        "M1 = AFD(alfabeto,estado_inicial,estados_finais,transicao)\n",
        "M1.desenhar()"
      ],
      "execution_count": 44,
      "outputs": [
        {
          "output_type": "execute_result",
          "data": {
            "text/plain": [
              "<graphviz.dot.Digraph at 0x7fb58d13e090>"
            ],
            "image/svg+xml": "<?xml version=\"1.0\" encoding=\"UTF-8\" standalone=\"no\"?>\n<!DOCTYPE svg PUBLIC \"-//W3C//DTD SVG 1.1//EN\"\n \"http://www.w3.org/Graphics/SVG/1.1/DTD/svg11.dtd\">\n<!-- Generated by graphviz version 2.40.1 (20161225.0304)\n -->\n<!-- Title: G Pages: 1 -->\n<svg width=\"268pt\" height=\"435pt\"\n viewBox=\"0.00 0.00 268.00 435.09\" xmlns=\"http://www.w3.org/2000/svg\" xmlns:xlink=\"http://www.w3.org/1999/xlink\">\n<g id=\"graph0\" class=\"graph\" transform=\"scale(1 1) rotate(0) translate(4 431.09)\">\n<title>G</title>\n<polygon fill=\"#ffffff\" stroke=\"transparent\" points=\"-4,4 -4,-431.09 263.9977,-431.09 263.9977,4 -4,4\"/>\n<!-- start -->\n<g id=\"node1\" class=\"node\">\n<title>start</title>\n<text text-anchor=\"middle\" x=\"131.9977\" y=\"-405.39\" font-family=\"Times,serif\" font-size=\"14.00\" fill=\"#000000\">start</text>\n</g>\n<!-- S0 -->\n<g id=\"node2\" class=\"node\">\n<title>S0</title>\n<ellipse fill=\"none\" stroke=\"#000000\" cx=\"131.9977\" cy=\"-336.09\" rx=\"27\" ry=\"18\"/>\n<text text-anchor=\"middle\" x=\"131.9977\" y=\"-332.39\" font-family=\"Times,serif\" font-size=\"14.00\" fill=\"#000000\">S0</text>\n</g>\n<!-- start&#45;&gt;S0 -->\n<g id=\"edge1\" class=\"edge\">\n<title>start&#45;&gt;S0</title>\n<path fill=\"none\" stroke=\"#000000\" d=\"M131.9977,-391.045C131.9977,-382.9728 131.9977,-373.2663 131.9977,-364.2717\"/>\n<polygon fill=\"#000000\" stroke=\"#000000\" points=\"135.4978,-364.1803 131.9977,-354.1803 128.4978,-364.1804 135.4978,-364.1803\"/>\n</g>\n<!-- S24 -->\n<g id=\"node3\" class=\"node\">\n<title>S24</title>\n<ellipse fill=\"none\" stroke=\"#000000\" cx=\"131.9977\" cy=\"-249.09\" rx=\"27\" ry=\"18\"/>\n<text text-anchor=\"middle\" x=\"131.9977\" y=\"-245.39\" font-family=\"Times,serif\" font-size=\"14.00\" fill=\"#000000\">S24</text>\n</g>\n<!-- S0&#45;&gt;S24 -->\n<g id=\"edge2\" class=\"edge\">\n<title>S0&#45;&gt;S24</title>\n<path fill=\"none\" stroke=\"#000000\" d=\"M131.9977,-318.0635C131.9977,-306.2817 131.9977,-290.6506 131.9977,-277.248\"/>\n<polygon fill=\"#000000\" stroke=\"#000000\" points=\"135.4978,-277.0933 131.9977,-267.0933 128.4978,-277.0934 135.4978,-277.0933\"/>\n<text text-anchor=\"middle\" x=\"134.4977\" y=\"-288.89\" font-family=\"Times,serif\" font-size=\"14.00\" fill=\"#000000\">&#45;</text>\n</g>\n<!-- S76 -->\n<g id=\"node4\" class=\"node\">\n<title>S76</title>\n<ellipse fill=\"none\" stroke=\"#000000\" cx=\"49.9977\" cy=\"-150.0923\" rx=\"27\" ry=\"18\"/>\n<text text-anchor=\"middle\" x=\"49.9977\" y=\"-146.3923\" font-family=\"Times,serif\" font-size=\"14.00\" fill=\"#000000\">S76</text>\n</g>\n<!-- S24&#45;&gt;S76 -->\n<g id=\"edge4\" class=\"edge\">\n<title>S24&#45;&gt;S76</title>\n<path fill=\"none\" stroke=\"#000000\" d=\"M118.823,-233.1843C105.5532,-217.1638 84.9205,-192.2542 69.704,-173.8835\"/>\n<polygon fill=\"#000000\" stroke=\"#000000\" points=\"72.2141,-171.4271 63.1397,-165.9585 66.8233,-175.8924 72.2141,-171.4271\"/>\n<text text-anchor=\"middle\" x=\"103.4977\" y=\"-201.89\" font-family=\"Times,serif\" font-size=\"14.00\" fill=\"#000000\">&#45;</text>\n</g>\n<!-- S99 -->\n<g id=\"node5\" class=\"node\">\n<title>S99</title>\n<ellipse fill=\"none\" stroke=\"#000000\" cx=\"131.9977\" cy=\"-150.0923\" rx=\"27\" ry=\"18\"/>\n<text text-anchor=\"middle\" x=\"131.9977\" y=\"-146.3923\" font-family=\"Times,serif\" font-size=\"14.00\" fill=\"#000000\">S99</text>\n</g>\n<!-- S24&#45;&gt;S99 -->\n<g id=\"edge5\" class=\"edge\">\n<title>S24&#45;&gt;S99</title>\n<path fill=\"none\" stroke=\"#000000\" d=\"M131.9977,-230.9323C131.9977,-216.2795 131.9977,-195.4023 131.9977,-178.5346\"/>\n<polygon fill=\"#000000\" stroke=\"#000000\" points=\"135.4978,-178.1348 131.9977,-168.1349 128.4978,-178.1349 135.4978,-178.1348\"/>\n<text text-anchor=\"middle\" x=\"136.4977\" y=\"-201.89\" font-family=\"Times,serif\" font-size=\"14.00\" fill=\"#000000\">=</text>\n</g>\n<!-- S25 -->\n<g id=\"node6\" class=\"node\">\n<title>S25</title>\n<ellipse fill=\"none\" stroke=\"#000000\" cx=\"206.9977\" cy=\"-150.0923\" rx=\"25.9957\" ry=\"25.9957\"/>\n<ellipse fill=\"none\" stroke=\"#000000\" cx=\"206.9977\" cy=\"-150.0923\" rx=\"29.9954\" ry=\"29.9954\"/>\n<text text-anchor=\"middle\" x=\"206.9977\" y=\"-146.3923\" font-family=\"Times,serif\" font-size=\"14.00\" fill=\"#000000\">S25</text>\n</g>\n<!-- S24&#45;&gt;S25 -->\n<g id=\"edge3\" class=\"edge\">\n<title>S24&#45;&gt;S25</title>\n<path fill=\"none\" stroke=\"#000000\" d=\"M144.3824,-232.7425C154.7513,-219.0559 169.8615,-199.1109 182.6405,-182.243\"/>\n<polygon fill=\"#000000\" stroke=\"#000000\" points=\"185.4467,-184.3349 188.6956,-174.2505 179.8671,-180.1078 185.4467,-184.3349\"/>\n<text text-anchor=\"middle\" x=\"214.9977\" y=\"-201.89\" font-family=\"Times,serif\" font-size=\"14.00\" fill=\"#000000\">lista_fim_token</text>\n</g>\n<!-- S77 -->\n<g id=\"node7\" class=\"node\">\n<title>S77</title>\n<ellipse fill=\"none\" stroke=\"#000000\" cx=\"29.9977\" cy=\"-34.5473\" rx=\"25.9957\" ry=\"25.9957\"/>\n<ellipse fill=\"none\" stroke=\"#000000\" cx=\"29.9977\" cy=\"-34.5473\" rx=\"29.9954\" ry=\"29.9954\"/>\n<text text-anchor=\"middle\" x=\"29.9977\" y=\"-30.8473\" font-family=\"Times,serif\" font-size=\"14.00\" fill=\"#000000\">S77</text>\n</g>\n<!-- S76&#45;&gt;S77 -->\n<g id=\"edge6\" class=\"edge\">\n<title>S76&#45;&gt;S77</title>\n<path fill=\"none\" stroke=\"#000000\" d=\"M46.8727,-132.0384C44.197,-116.5803 40.2486,-93.7691 36.8436,-74.0979\"/>\n<polygon fill=\"#000000\" stroke=\"#000000\" points=\"40.2766,-73.4095 35.1222,-64.153 33.3791,-74.6034 40.2766,-73.4095\"/>\n<text text-anchor=\"middle\" x=\"86.9977\" y=\"-90.8946\" font-family=\"Times,serif\" font-size=\"14.00\" fill=\"#000000\">lista_fim_token</text>\n</g>\n<!-- S100 -->\n<g id=\"node8\" class=\"node\">\n<title>S100</title>\n<ellipse fill=\"none\" stroke=\"#000000\" cx=\"142.9977\" cy=\"-34.5473\" rx=\"30.5892\" ry=\"30.5892\"/>\n<ellipse fill=\"none\" stroke=\"#000000\" cx=\"142.9977\" cy=\"-34.5473\" rx=\"34.5946\" ry=\"34.5946\"/>\n<text text-anchor=\"middle\" x=\"142.9977\" y=\"-30.8473\" font-family=\"Times,serif\" font-size=\"14.00\" fill=\"#000000\">S100</text>\n</g>\n<!-- S99&#45;&gt;S100 -->\n<g id=\"edge7\" class=\"edge\">\n<title>S99&#45;&gt;S100</title>\n<path fill=\"none\" stroke=\"#000000\" d=\"M133.7164,-132.0384C135.0624,-117.9003 136.9939,-97.6112 138.7468,-79.1993\"/>\n<polygon fill=\"#000000\" stroke=\"#000000\" points=\"142.2338,-79.5013 139.6973,-69.2146 135.2653,-78.8378 142.2338,-79.5013\"/>\n<text text-anchor=\"middle\" x=\"182.9977\" y=\"-90.8946\" font-family=\"Times,serif\" font-size=\"14.00\" fill=\"#000000\">lista_fim_token</text>\n</g>\n</g>\n</svg>\n"
          },
          "metadata": {},
          "execution_count": 44
        }
      ]
    },
    {
      "cell_type": "code",
      "metadata": {
        "colab": {
          "base_uri": "https://localhost:8080/",
          "height": 441
        },
        "id": "pjozty_B68UE",
        "outputId": "188d98be-af9c-4e0b-c312-3618b9932898"
      },
      "source": [
        "#AFD sinal de multiplicar\n",
        "alfabeto = ['*','lista_fim_token']\n",
        "estado_inicial = 'S0'\n",
        "estados_finais = ['S27']\n",
        "transicao = {\n",
        "               'S0':{\n",
        "                    '*':'S26'\n",
        "                   },\n",
        "              'S26':{\n",
        "                    'lista_fim_token':'S27'\n",
        "                   },\n",
        "               'S27':{}\n",
        "\n",
        "             \n",
        "            }\n",
        "M1 = AFD(alfabeto,estado_inicial,estados_finais,transicao)\n",
        "M1.desenhar()"
      ],
      "execution_count": 29,
      "outputs": [
        {
          "output_type": "execute_result",
          "data": {
            "text/plain": [
              "<graphviz.dot.Digraph at 0x7fb58d191590>"
            ],
            "image/svg+xml": "<?xml version=\"1.0\" encoding=\"UTF-8\" standalone=\"no\"?>\n<!DOCTYPE svg PUBLIC \"-//W3C//DTD SVG 1.1//EN\"\n \"http://www.w3.org/Graphics/SVG/1.1/DTD/svg11.dtd\">\n<!-- Generated by graphviz version 2.40.1 (20161225.0304)\n -->\n<!-- Title: G Pages: 1 -->\n<svg width=\"128pt\" height=\"315pt\"\n viewBox=\"0.00 0.00 128.00 315.00\" xmlns=\"http://www.w3.org/2000/svg\" xmlns:xlink=\"http://www.w3.org/1999/xlink\">\n<g id=\"graph0\" class=\"graph\" transform=\"scale(1 1) rotate(0) translate(4 310.9954)\">\n<title>G</title>\n<polygon fill=\"#ffffff\" stroke=\"transparent\" points=\"-4,4 -4,-310.9954 123.9977,-310.9954 123.9977,4 -4,4\"/>\n<!-- start -->\n<g id=\"node1\" class=\"node\">\n<title>start</title>\n<text text-anchor=\"middle\" x=\"29.9977\" y=\"-285.2954\" font-family=\"Times,serif\" font-size=\"14.00\" fill=\"#000000\">start</text>\n</g>\n<!-- S0 -->\n<g id=\"node2\" class=\"node\">\n<title>S0</title>\n<ellipse fill=\"none\" stroke=\"#000000\" cx=\"29.9977\" cy=\"-215.9954\" rx=\"27\" ry=\"18\"/>\n<text text-anchor=\"middle\" x=\"29.9977\" y=\"-212.2954\" font-family=\"Times,serif\" font-size=\"14.00\" fill=\"#000000\">S0</text>\n</g>\n<!-- start&#45;&gt;S0 -->\n<g id=\"edge1\" class=\"edge\">\n<title>start&#45;&gt;S0</title>\n<path fill=\"none\" stroke=\"#000000\" d=\"M29.9977,-270.9504C29.9977,-262.8782 29.9977,-253.1718 29.9977,-244.1771\"/>\n<polygon fill=\"#000000\" stroke=\"#000000\" points=\"33.4978,-244.0857 29.9977,-234.0857 26.4978,-244.0858 33.4978,-244.0857\"/>\n</g>\n<!-- S26 -->\n<g id=\"node3\" class=\"node\">\n<title>S26</title>\n<ellipse fill=\"none\" stroke=\"#000000\" cx=\"29.9977\" cy=\"-128.9954\" rx=\"27\" ry=\"18\"/>\n<text text-anchor=\"middle\" x=\"29.9977\" y=\"-125.2954\" font-family=\"Times,serif\" font-size=\"14.00\" fill=\"#000000\">S26</text>\n</g>\n<!-- S0&#45;&gt;S26 -->\n<g id=\"edge2\" class=\"edge\">\n<title>S0&#45;&gt;S26</title>\n<path fill=\"none\" stroke=\"#000000\" d=\"M29.9977,-197.9689C29.9977,-186.1872 29.9977,-170.556 29.9977,-157.1535\"/>\n<polygon fill=\"#000000\" stroke=\"#000000\" points=\"33.4978,-156.9987 29.9977,-146.9987 26.4978,-156.9988 33.4978,-156.9987\"/>\n<text text-anchor=\"middle\" x=\"33.9977\" y=\"-168.7954\" font-family=\"Times,serif\" font-size=\"14.00\" fill=\"#000000\">*</text>\n</g>\n<!-- S27 -->\n<g id=\"node4\" class=\"node\">\n<title>S27</title>\n<ellipse fill=\"none\" stroke=\"#000000\" cx=\"29.9977\" cy=\"-29.9977\" rx=\"25.9957\" ry=\"25.9957\"/>\n<ellipse fill=\"none\" stroke=\"#000000\" cx=\"29.9977\" cy=\"-29.9977\" rx=\"29.9954\" ry=\"29.9954\"/>\n<text text-anchor=\"middle\" x=\"29.9977\" y=\"-26.2977\" font-family=\"Times,serif\" font-size=\"14.00\" fill=\"#000000\">S27</text>\n</g>\n<!-- S26&#45;&gt;S27 -->\n<g id=\"edge3\" class=\"edge\">\n<title>S26&#45;&gt;S27</title>\n<path fill=\"none\" stroke=\"#000000\" d=\"M29.9977,-110.8377C29.9977,-99.4286 29.9977,-84.2458 29.9977,-70.1204\"/>\n<polygon fill=\"#000000\" stroke=\"#000000\" points=\"33.4978,-70.0908 29.9977,-60.0909 26.4978,-70.0909 33.4978,-70.0908\"/>\n<text text-anchor=\"middle\" x=\"74.9977\" y=\"-81.7954\" font-family=\"Times,serif\" font-size=\"14.00\" fill=\"#000000\">lista_fim_token</text>\n</g>\n</g>\n</svg>\n"
          },
          "metadata": {},
          "execution_count": 29
        }
      ]
    },
    {
      "cell_type": "code",
      "metadata": {
        "colab": {
          "base_uri": "https://localhost:8080/",
          "height": 589
        },
        "id": "AVFja-Sm7_T8",
        "outputId": "62b047ed-58f3-4739-8a5e-b35fc29ce2d8"
      },
      "source": [
        "#AFD sinal Atribuicao e igualdade\n",
        "alfabeto = ['=','lista_fim_token']\n",
        "estado_inicial = 'S0'\n",
        "estados_finais = ['S73','S79']\n",
        "transicao = {\n",
        "               'S0':{\n",
        "                    '=':'S72'\n",
        "                   },\n",
        "              'S72':{\n",
        "                    'lista_fim_token':'S73',\n",
        "                     '=':'S78'\n",
        "                    },\n",
        "             'S78':{\n",
        "                    'lista_fim_token':'S79'\n",
        "                    },\n",
        "              'S73':{},\n",
        "              'S79':{}\n",
        "\n",
        "             \n",
        "            }\n",
        "M1 = AFD(alfabeto,estado_inicial,estados_finais,transicao)\n",
        "M1.desenhar()"
      ],
      "execution_count": 34,
      "outputs": [
        {
          "output_type": "execute_result",
          "data": {
            "text/plain": [
              "<graphviz.dot.Digraph at 0x7fb58d13c4d0>"
            ],
            "image/svg+xml": "<?xml version=\"1.0\" encoding=\"UTF-8\" standalone=\"no\"?>\n<!DOCTYPE svg PUBLIC \"-//W3C//DTD SVG 1.1//EN\"\n \"http://www.w3.org/Graphics/SVG/1.1/DTD/svg11.dtd\">\n<!-- Generated by graphviz version 2.40.1 (20161225.0304)\n -->\n<!-- Title: G Pages: 1 -->\n<svg width=\"184pt\" height=\"426pt\"\n viewBox=\"0.00 0.00 184.00 425.99\" xmlns=\"http://www.w3.org/2000/svg\" xmlns:xlink=\"http://www.w3.org/1999/xlink\">\n<g id=\"graph0\" class=\"graph\" transform=\"scale(1 1) rotate(0) translate(4 421.9908)\">\n<title>G</title>\n<polygon fill=\"#ffffff\" stroke=\"transparent\" points=\"-4,4 -4,-421.9908 179.9977,-421.9908 179.9977,4 -4,4\"/>\n<!-- start -->\n<g id=\"node1\" class=\"node\">\n<title>start</title>\n<text text-anchor=\"middle\" x=\"67.9977\" y=\"-396.2908\" font-family=\"Times,serif\" font-size=\"14.00\" fill=\"#000000\">start</text>\n</g>\n<!-- S0 -->\n<g id=\"node2\" class=\"node\">\n<title>S0</title>\n<ellipse fill=\"none\" stroke=\"#000000\" cx=\"67.9977\" cy=\"-326.9908\" rx=\"27\" ry=\"18\"/>\n<text text-anchor=\"middle\" x=\"67.9977\" y=\"-323.2908\" font-family=\"Times,serif\" font-size=\"14.00\" fill=\"#000000\">S0</text>\n</g>\n<!-- start&#45;&gt;S0 -->\n<g id=\"edge1\" class=\"edge\">\n<title>start&#45;&gt;S0</title>\n<path fill=\"none\" stroke=\"#000000\" d=\"M67.9977,-381.9458C67.9977,-373.8736 67.9977,-364.1671 67.9977,-355.1725\"/>\n<polygon fill=\"#000000\" stroke=\"#000000\" points=\"71.4978,-355.0811 67.9977,-345.0811 64.4978,-355.0812 71.4978,-355.0811\"/>\n</g>\n<!-- S72 -->\n<g id=\"node3\" class=\"node\">\n<title>S72</title>\n<ellipse fill=\"none\" stroke=\"#000000\" cx=\"67.9977\" cy=\"-239.9908\" rx=\"27\" ry=\"18\"/>\n<text text-anchor=\"middle\" x=\"67.9977\" y=\"-236.2908\" font-family=\"Times,serif\" font-size=\"14.00\" fill=\"#000000\">S72</text>\n</g>\n<!-- S0&#45;&gt;S72 -->\n<g id=\"edge2\" class=\"edge\">\n<title>S0&#45;&gt;S72</title>\n<path fill=\"none\" stroke=\"#000000\" d=\"M67.9977,-308.9643C67.9977,-297.1825 67.9977,-281.5514 67.9977,-268.1488\"/>\n<polygon fill=\"#000000\" stroke=\"#000000\" points=\"71.4978,-267.9941 67.9977,-257.9941 64.4978,-267.9942 71.4978,-267.9941\"/>\n<text text-anchor=\"middle\" x=\"72.4977\" y=\"-279.7908\" font-family=\"Times,serif\" font-size=\"14.00\" fill=\"#000000\">=</text>\n</g>\n<!-- S78 -->\n<g id=\"node4\" class=\"node\">\n<title>S78</title>\n<ellipse fill=\"none\" stroke=\"#000000\" cx=\"29.9977\" cy=\"-140.9931\" rx=\"27\" ry=\"18\"/>\n<text text-anchor=\"middle\" x=\"29.9977\" y=\"-137.2931\" font-family=\"Times,serif\" font-size=\"14.00\" fill=\"#000000\">S78</text>\n</g>\n<!-- S72&#45;&gt;S78 -->\n<g id=\"edge4\" class=\"edge\">\n<title>S72&#45;&gt;S78</title>\n<path fill=\"none\" stroke=\"#000000\" d=\"M61.2041,-222.292C55.4221,-207.2288 47.0248,-185.3522 40.3971,-168.0858\"/>\n<polygon fill=\"#000000\" stroke=\"#000000\" points=\"43.5837,-166.6203 36.7325,-158.5387 37.0486,-169.1288 43.5837,-166.6203\"/>\n<text text-anchor=\"middle\" x=\"58.4977\" y=\"-192.7908\" font-family=\"Times,serif\" font-size=\"14.00\" fill=\"#000000\">=</text>\n</g>\n<!-- S73 -->\n<g id=\"node5\" class=\"node\">\n<title>S73</title>\n<ellipse fill=\"none\" stroke=\"#000000\" cx=\"104.9977\" cy=\"-140.9931\" rx=\"25.9957\" ry=\"25.9957\"/>\n<ellipse fill=\"none\" stroke=\"#000000\" cx=\"104.9977\" cy=\"-140.9931\" rx=\"29.9954\" ry=\"29.9954\"/>\n<text text-anchor=\"middle\" x=\"104.9977\" y=\"-137.2931\" font-family=\"Times,serif\" font-size=\"14.00\" fill=\"#000000\">S73</text>\n</g>\n<!-- S72&#45;&gt;S73 -->\n<g id=\"edge3\" class=\"edge\">\n<title>S72&#45;&gt;S73</title>\n<path fill=\"none\" stroke=\"#000000\" d=\"M74.6126,-222.292C79.1141,-210.2477 85.2436,-193.8473 90.8187,-178.9307\"/>\n<polygon fill=\"#000000\" stroke=\"#000000\" points=\"94.157,-179.9958 94.3795,-169.4033 87.6,-177.5451 94.157,-179.9958\"/>\n<text text-anchor=\"middle\" x=\"130.9977\" y=\"-192.7908\" font-family=\"Times,serif\" font-size=\"14.00\" fill=\"#000000\">lista_fim_token</text>\n</g>\n<!-- S79 -->\n<g id=\"node6\" class=\"node\">\n<title>S79</title>\n<ellipse fill=\"none\" stroke=\"#000000\" cx=\"29.9977\" cy=\"-29.9977\" rx=\"25.9957\" ry=\"25.9957\"/>\n<ellipse fill=\"none\" stroke=\"#000000\" cx=\"29.9977\" cy=\"-29.9977\" rx=\"29.9954\" ry=\"29.9954\"/>\n<text text-anchor=\"middle\" x=\"29.9977\" y=\"-26.2977\" font-family=\"Times,serif\" font-size=\"14.00\" fill=\"#000000\">S79</text>\n</g>\n<!-- S78&#45;&gt;S79 -->\n<g id=\"edge5\" class=\"edge\">\n<title>S78&#45;&gt;S79</title>\n<path fill=\"none\" stroke=\"#000000\" d=\"M29.9977,-122.6644C29.9977,-108.4582 29.9977,-88.2383 29.9977,-70.3092\"/>\n<polygon fill=\"#000000\" stroke=\"#000000\" points=\"33.4978,-70.0803 29.9977,-60.0804 26.4978,-70.0804 33.4978,-70.0803\"/>\n<text text-anchor=\"middle\" x=\"74.9977\" y=\"-81.7954\" font-family=\"Times,serif\" font-size=\"14.00\" fill=\"#000000\">lista_fim_token</text>\n</g>\n</g>\n</svg>\n"
          },
          "metadata": {},
          "execution_count": 34
        }
      ]
    },
    {
      "cell_type": "code",
      "metadata": {
        "colab": {
          "base_uri": "https://localhost:8080/",
          "height": 557
        },
        "id": "JT5KsZOI9Mdu",
        "outputId": "62eb0561-b80d-44d6-c594-d9ad463fc594"
      },
      "source": [
        "#AFD sinal diferente\n",
        "alfabeto = ['!','=','lista_fim_token']\n",
        "estado_inicial = 'S0'\n",
        "estados_finais = ['S82']\n",
        "transicao = {\n",
        "               'S0':{\n",
        "                    '!':'S80'\n",
        "                   },\n",
        "              'S80':{\n",
        "                    '=':'S81'\n",
        "                    },\n",
        "             'S81':{\n",
        "                    'lista_fim_token':'S82'\n",
        "                    },\n",
        "              'S82':{}\n",
        "            }\n",
        "M1 = AFD(alfabeto,estado_inicial,estados_finais,transicao)\n",
        "M1.desenhar()"
      ],
      "execution_count": 36,
      "outputs": [
        {
          "output_type": "execute_result",
          "data": {
            "text/plain": [
              "<graphviz.dot.Digraph at 0x7fb58d13c210>"
            ],
            "image/svg+xml": "<?xml version=\"1.0\" encoding=\"UTF-8\" standalone=\"no\"?>\n<!DOCTYPE svg PUBLIC \"-//W3C//DTD SVG 1.1//EN\"\n \"http://www.w3.org/Graphics/SVG/1.1/DTD/svg11.dtd\">\n<!-- Generated by graphviz version 2.40.1 (20161225.0304)\n -->\n<!-- Title: G Pages: 1 -->\n<svg width=\"128pt\" height=\"402pt\"\n viewBox=\"0.00 0.00 128.00 402.00\" xmlns=\"http://www.w3.org/2000/svg\" xmlns:xlink=\"http://www.w3.org/1999/xlink\">\n<g id=\"graph0\" class=\"graph\" transform=\"scale(1 1) rotate(0) translate(4 397.9954)\">\n<title>G</title>\n<polygon fill=\"#ffffff\" stroke=\"transparent\" points=\"-4,4 -4,-397.9954 123.9977,-397.9954 123.9977,4 -4,4\"/>\n<!-- start -->\n<g id=\"node1\" class=\"node\">\n<title>start</title>\n<text text-anchor=\"middle\" x=\"29.9977\" y=\"-372.2954\" font-family=\"Times,serif\" font-size=\"14.00\" fill=\"#000000\">start</text>\n</g>\n<!-- S0 -->\n<g id=\"node2\" class=\"node\">\n<title>S0</title>\n<ellipse fill=\"none\" stroke=\"#000000\" cx=\"29.9977\" cy=\"-302.9954\" rx=\"27\" ry=\"18\"/>\n<text text-anchor=\"middle\" x=\"29.9977\" y=\"-299.2954\" font-family=\"Times,serif\" font-size=\"14.00\" fill=\"#000000\">S0</text>\n</g>\n<!-- start&#45;&gt;S0 -->\n<g id=\"edge1\" class=\"edge\">\n<title>start&#45;&gt;S0</title>\n<path fill=\"none\" stroke=\"#000000\" d=\"M29.9977,-357.9504C29.9977,-349.8782 29.9977,-340.1718 29.9977,-331.1771\"/>\n<polygon fill=\"#000000\" stroke=\"#000000\" points=\"33.4978,-331.0857 29.9977,-321.0857 26.4978,-331.0858 33.4978,-331.0857\"/>\n</g>\n<!-- S80 -->\n<g id=\"node3\" class=\"node\">\n<title>S80</title>\n<ellipse fill=\"none\" stroke=\"#000000\" cx=\"29.9977\" cy=\"-215.9954\" rx=\"27\" ry=\"18\"/>\n<text text-anchor=\"middle\" x=\"29.9977\" y=\"-212.2954\" font-family=\"Times,serif\" font-size=\"14.00\" fill=\"#000000\">S80</text>\n</g>\n<!-- S0&#45;&gt;S80 -->\n<g id=\"edge2\" class=\"edge\">\n<title>S0&#45;&gt;S80</title>\n<path fill=\"none\" stroke=\"#000000\" d=\"M29.9977,-284.9689C29.9977,-273.1872 29.9977,-257.556 29.9977,-244.1535\"/>\n<polygon fill=\"#000000\" stroke=\"#000000\" points=\"33.4978,-243.9987 29.9977,-233.9987 26.4978,-243.9988 33.4978,-243.9987\"/>\n<text text-anchor=\"middle\" x=\"32.4977\" y=\"-255.7954\" font-family=\"Times,serif\" font-size=\"14.00\" fill=\"#000000\">!</text>\n</g>\n<!-- S81 -->\n<g id=\"node4\" class=\"node\">\n<title>S81</title>\n<ellipse fill=\"none\" stroke=\"#000000\" cx=\"29.9977\" cy=\"-128.9954\" rx=\"27\" ry=\"18\"/>\n<text text-anchor=\"middle\" x=\"29.9977\" y=\"-125.2954\" font-family=\"Times,serif\" font-size=\"14.00\" fill=\"#000000\">S81</text>\n</g>\n<!-- S80&#45;&gt;S81 -->\n<g id=\"edge3\" class=\"edge\">\n<title>S80&#45;&gt;S81</title>\n<path fill=\"none\" stroke=\"#000000\" d=\"M29.9977,-197.9689C29.9977,-186.1872 29.9977,-170.556 29.9977,-157.1535\"/>\n<polygon fill=\"#000000\" stroke=\"#000000\" points=\"33.4978,-156.9987 29.9977,-146.9987 26.4978,-156.9988 33.4978,-156.9987\"/>\n<text text-anchor=\"middle\" x=\"34.4977\" y=\"-168.7954\" font-family=\"Times,serif\" font-size=\"14.00\" fill=\"#000000\">=</text>\n</g>\n<!-- S82 -->\n<g id=\"node5\" class=\"node\">\n<title>S82</title>\n<ellipse fill=\"none\" stroke=\"#000000\" cx=\"29.9977\" cy=\"-29.9977\" rx=\"25.9957\" ry=\"25.9957\"/>\n<ellipse fill=\"none\" stroke=\"#000000\" cx=\"29.9977\" cy=\"-29.9977\" rx=\"29.9954\" ry=\"29.9954\"/>\n<text text-anchor=\"middle\" x=\"29.9977\" y=\"-26.2977\" font-family=\"Times,serif\" font-size=\"14.00\" fill=\"#000000\">S82</text>\n</g>\n<!-- S81&#45;&gt;S82 -->\n<g id=\"edge4\" class=\"edge\">\n<title>S81&#45;&gt;S82</title>\n<path fill=\"none\" stroke=\"#000000\" d=\"M29.9977,-110.8377C29.9977,-99.4286 29.9977,-84.2458 29.9977,-70.1204\"/>\n<polygon fill=\"#000000\" stroke=\"#000000\" points=\"33.4978,-70.0908 29.9977,-60.0909 26.4978,-70.0909 33.4978,-70.0908\"/>\n<text text-anchor=\"middle\" x=\"74.9977\" y=\"-81.7954\" font-family=\"Times,serif\" font-size=\"14.00\" fill=\"#000000\">lista_fim_token</text>\n</g>\n</g>\n</svg>\n"
          },
          "metadata": {},
          "execution_count": 36
        }
      ]
    },
    {
      "cell_type": "code",
      "metadata": {
        "colab": {
          "base_uri": "https://localhost:8080/",
          "height": 589
        },
        "id": "m3-XRQLE9tKa",
        "outputId": "b09c3808-5ddb-4e38-e952-bcf2d16688b1"
      },
      "source": [
        "#AFD sinal maior e maior igual\n",
        "alfabeto = ['>','=','lista_fim_token']\n",
        "estado_inicial = 'S0'\n",
        "estados_finais = ['S84','S90']\n",
        "transicao = {\n",
        "               'S0':{\n",
        "                    '>':'S83'\n",
        "                   },\n",
        "              'S83':{\n",
        "                    'lista_fim_token':'S84',\n",
        "                     '=':'S89'\n",
        "                    },\n",
        "             'S89':{\n",
        "                    'lista_fim_token':'S90'\n",
        "                    },\n",
        "              'S84':{},\n",
        "              'S90':{}\n",
        "\n",
        "             \n",
        "            }\n",
        "M1 = AFD(alfabeto,estado_inicial,estados_finais,transicao)\n",
        "M1.desenhar()"
      ],
      "execution_count": 37,
      "outputs": [
        {
          "output_type": "execute_result",
          "data": {
            "text/plain": [
              "<graphviz.dot.Digraph at 0x7fb58d13c350>"
            ],
            "image/svg+xml": "<?xml version=\"1.0\" encoding=\"UTF-8\" standalone=\"no\"?>\n<!DOCTYPE svg PUBLIC \"-//W3C//DTD SVG 1.1//EN\"\n \"http://www.w3.org/Graphics/SVG/1.1/DTD/svg11.dtd\">\n<!-- Generated by graphviz version 2.40.1 (20161225.0304)\n -->\n<!-- Title: G Pages: 1 -->\n<svg width=\"184pt\" height=\"426pt\"\n viewBox=\"0.00 0.00 184.00 425.99\" xmlns=\"http://www.w3.org/2000/svg\" xmlns:xlink=\"http://www.w3.org/1999/xlink\">\n<g id=\"graph0\" class=\"graph\" transform=\"scale(1 1) rotate(0) translate(4 421.9908)\">\n<title>G</title>\n<polygon fill=\"#ffffff\" stroke=\"transparent\" points=\"-4,4 -4,-421.9908 179.9977,-421.9908 179.9977,4 -4,4\"/>\n<!-- start -->\n<g id=\"node1\" class=\"node\">\n<title>start</title>\n<text text-anchor=\"middle\" x=\"67.9977\" y=\"-396.2908\" font-family=\"Times,serif\" font-size=\"14.00\" fill=\"#000000\">start</text>\n</g>\n<!-- S0 -->\n<g id=\"node2\" class=\"node\">\n<title>S0</title>\n<ellipse fill=\"none\" stroke=\"#000000\" cx=\"67.9977\" cy=\"-326.9908\" rx=\"27\" ry=\"18\"/>\n<text text-anchor=\"middle\" x=\"67.9977\" y=\"-323.2908\" font-family=\"Times,serif\" font-size=\"14.00\" fill=\"#000000\">S0</text>\n</g>\n<!-- start&#45;&gt;S0 -->\n<g id=\"edge1\" class=\"edge\">\n<title>start&#45;&gt;S0</title>\n<path fill=\"none\" stroke=\"#000000\" d=\"M67.9977,-381.9458C67.9977,-373.8736 67.9977,-364.1671 67.9977,-355.1725\"/>\n<polygon fill=\"#000000\" stroke=\"#000000\" points=\"71.4978,-355.0811 67.9977,-345.0811 64.4978,-355.0812 71.4978,-355.0811\"/>\n</g>\n<!-- S83 -->\n<g id=\"node3\" class=\"node\">\n<title>S83</title>\n<ellipse fill=\"none\" stroke=\"#000000\" cx=\"67.9977\" cy=\"-239.9908\" rx=\"27\" ry=\"18\"/>\n<text text-anchor=\"middle\" x=\"67.9977\" y=\"-236.2908\" font-family=\"Times,serif\" font-size=\"14.00\" fill=\"#000000\">S83</text>\n</g>\n<!-- S0&#45;&gt;S83 -->\n<g id=\"edge2\" class=\"edge\">\n<title>S0&#45;&gt;S83</title>\n<path fill=\"none\" stroke=\"#000000\" d=\"M67.9977,-308.9643C67.9977,-297.1825 67.9977,-281.5514 67.9977,-268.1488\"/>\n<polygon fill=\"#000000\" stroke=\"#000000\" points=\"71.4978,-267.9941 67.9977,-257.9941 64.4978,-267.9942 71.4978,-267.9941\"/>\n<text text-anchor=\"middle\" x=\"72.4977\" y=\"-279.7908\" font-family=\"Times,serif\" font-size=\"14.00\" fill=\"#000000\">&gt;</text>\n</g>\n<!-- S89 -->\n<g id=\"node4\" class=\"node\">\n<title>S89</title>\n<ellipse fill=\"none\" stroke=\"#000000\" cx=\"29.9977\" cy=\"-140.9931\" rx=\"27\" ry=\"18\"/>\n<text text-anchor=\"middle\" x=\"29.9977\" y=\"-137.2931\" font-family=\"Times,serif\" font-size=\"14.00\" fill=\"#000000\">S89</text>\n</g>\n<!-- S83&#45;&gt;S89 -->\n<g id=\"edge4\" class=\"edge\">\n<title>S83&#45;&gt;S89</title>\n<path fill=\"none\" stroke=\"#000000\" d=\"M61.2041,-222.292C55.4221,-207.2288 47.0248,-185.3522 40.3971,-168.0858\"/>\n<polygon fill=\"#000000\" stroke=\"#000000\" points=\"43.5837,-166.6203 36.7325,-158.5387 37.0486,-169.1288 43.5837,-166.6203\"/>\n<text text-anchor=\"middle\" x=\"58.4977\" y=\"-192.7908\" font-family=\"Times,serif\" font-size=\"14.00\" fill=\"#000000\">=</text>\n</g>\n<!-- S84 -->\n<g id=\"node5\" class=\"node\">\n<title>S84</title>\n<ellipse fill=\"none\" stroke=\"#000000\" cx=\"104.9977\" cy=\"-140.9931\" rx=\"25.9957\" ry=\"25.9957\"/>\n<ellipse fill=\"none\" stroke=\"#000000\" cx=\"104.9977\" cy=\"-140.9931\" rx=\"29.9954\" ry=\"29.9954\"/>\n<text text-anchor=\"middle\" x=\"104.9977\" y=\"-137.2931\" font-family=\"Times,serif\" font-size=\"14.00\" fill=\"#000000\">S84</text>\n</g>\n<!-- S83&#45;&gt;S84 -->\n<g id=\"edge3\" class=\"edge\">\n<title>S83&#45;&gt;S84</title>\n<path fill=\"none\" stroke=\"#000000\" d=\"M74.6126,-222.292C79.1141,-210.2477 85.2436,-193.8473 90.8187,-178.9307\"/>\n<polygon fill=\"#000000\" stroke=\"#000000\" points=\"94.157,-179.9958 94.3795,-169.4033 87.6,-177.5451 94.157,-179.9958\"/>\n<text text-anchor=\"middle\" x=\"130.9977\" y=\"-192.7908\" font-family=\"Times,serif\" font-size=\"14.00\" fill=\"#000000\">lista_fim_token</text>\n</g>\n<!-- S90 -->\n<g id=\"node6\" class=\"node\">\n<title>S90</title>\n<ellipse fill=\"none\" stroke=\"#000000\" cx=\"29.9977\" cy=\"-29.9977\" rx=\"25.9957\" ry=\"25.9957\"/>\n<ellipse fill=\"none\" stroke=\"#000000\" cx=\"29.9977\" cy=\"-29.9977\" rx=\"29.9954\" ry=\"29.9954\"/>\n<text text-anchor=\"middle\" x=\"29.9977\" y=\"-26.2977\" font-family=\"Times,serif\" font-size=\"14.00\" fill=\"#000000\">S90</text>\n</g>\n<!-- S89&#45;&gt;S90 -->\n<g id=\"edge5\" class=\"edge\">\n<title>S89&#45;&gt;S90</title>\n<path fill=\"none\" stroke=\"#000000\" d=\"M29.9977,-122.6644C29.9977,-108.4582 29.9977,-88.2383 29.9977,-70.3092\"/>\n<polygon fill=\"#000000\" stroke=\"#000000\" points=\"33.4978,-70.0803 29.9977,-60.0804 26.4978,-70.0804 33.4978,-70.0803\"/>\n<text text-anchor=\"middle\" x=\"74.9977\" y=\"-81.7954\" font-family=\"Times,serif\" font-size=\"14.00\" fill=\"#000000\">lista_fim_token</text>\n</g>\n</g>\n</svg>\n"
          },
          "metadata": {},
          "execution_count": 37
        }
      ]
    },
    {
      "cell_type": "code",
      "metadata": {
        "colab": {
          "base_uri": "https://localhost:8080/",
          "height": 589
        },
        "id": "zmuAwcDF-F21",
        "outputId": "045df135-1d0b-40db-8372-666f9d8413c0"
      },
      "source": [
        "#AFD sinal menor e menor igual\n",
        "alfabeto = ['<','=','lista_fim_token']\n",
        "estado_inicial = 'S0'\n",
        "estados_finais = ['S86','S88']\n",
        "transicao = {\n",
        "               'S0':{\n",
        "                    '<':'S85'\n",
        "                   },\n",
        "              'S85':{\n",
        "                    'lista_fim_token':'S86',\n",
        "                     '=':'S87'\n",
        "                    },\n",
        "             'S87':{\n",
        "                    'lista_fim_token':'S88'\n",
        "                    },\n",
        "              'S86':{},\n",
        "              'S88':{}\n",
        "\n",
        "             \n",
        "            }\n",
        "M1 = AFD(alfabeto,estado_inicial,estados_finais,transicao)\n",
        "M1.desenhar()"
      ],
      "execution_count": 39,
      "outputs": [
        {
          "output_type": "execute_result",
          "data": {
            "text/plain": [
              "<graphviz.dot.Digraph at 0x7fb58d180bd0>"
            ],
            "image/svg+xml": "<?xml version=\"1.0\" encoding=\"UTF-8\" standalone=\"no\"?>\n<!DOCTYPE svg PUBLIC \"-//W3C//DTD SVG 1.1//EN\"\n \"http://www.w3.org/Graphics/SVG/1.1/DTD/svg11.dtd\">\n<!-- Generated by graphviz version 2.40.1 (20161225.0304)\n -->\n<!-- Title: G Pages: 1 -->\n<svg width=\"184pt\" height=\"426pt\"\n viewBox=\"0.00 0.00 184.00 425.99\" xmlns=\"http://www.w3.org/2000/svg\" xmlns:xlink=\"http://www.w3.org/1999/xlink\">\n<g id=\"graph0\" class=\"graph\" transform=\"scale(1 1) rotate(0) translate(4 421.9908)\">\n<title>G</title>\n<polygon fill=\"#ffffff\" stroke=\"transparent\" points=\"-4,4 -4,-421.9908 179.9977,-421.9908 179.9977,4 -4,4\"/>\n<!-- start -->\n<g id=\"node1\" class=\"node\">\n<title>start</title>\n<text text-anchor=\"middle\" x=\"67.9977\" y=\"-396.2908\" font-family=\"Times,serif\" font-size=\"14.00\" fill=\"#000000\">start</text>\n</g>\n<!-- S0 -->\n<g id=\"node2\" class=\"node\">\n<title>S0</title>\n<ellipse fill=\"none\" stroke=\"#000000\" cx=\"67.9977\" cy=\"-326.9908\" rx=\"27\" ry=\"18\"/>\n<text text-anchor=\"middle\" x=\"67.9977\" y=\"-323.2908\" font-family=\"Times,serif\" font-size=\"14.00\" fill=\"#000000\">S0</text>\n</g>\n<!-- start&#45;&gt;S0 -->\n<g id=\"edge1\" class=\"edge\">\n<title>start&#45;&gt;S0</title>\n<path fill=\"none\" stroke=\"#000000\" d=\"M67.9977,-381.9458C67.9977,-373.8736 67.9977,-364.1671 67.9977,-355.1725\"/>\n<polygon fill=\"#000000\" stroke=\"#000000\" points=\"71.4978,-355.0811 67.9977,-345.0811 64.4978,-355.0812 71.4978,-355.0811\"/>\n</g>\n<!-- S85 -->\n<g id=\"node3\" class=\"node\">\n<title>S85</title>\n<ellipse fill=\"none\" stroke=\"#000000\" cx=\"67.9977\" cy=\"-239.9908\" rx=\"27\" ry=\"18\"/>\n<text text-anchor=\"middle\" x=\"67.9977\" y=\"-236.2908\" font-family=\"Times,serif\" font-size=\"14.00\" fill=\"#000000\">S85</text>\n</g>\n<!-- S0&#45;&gt;S85 -->\n<g id=\"edge2\" class=\"edge\">\n<title>S0&#45;&gt;S85</title>\n<path fill=\"none\" stroke=\"#000000\" d=\"M67.9977,-308.9643C67.9977,-297.1825 67.9977,-281.5514 67.9977,-268.1488\"/>\n<polygon fill=\"#000000\" stroke=\"#000000\" points=\"71.4978,-267.9941 67.9977,-257.9941 64.4978,-267.9942 71.4978,-267.9941\"/>\n<text text-anchor=\"middle\" x=\"72.4977\" y=\"-279.7908\" font-family=\"Times,serif\" font-size=\"14.00\" fill=\"#000000\">&lt;</text>\n</g>\n<!-- S87 -->\n<g id=\"node4\" class=\"node\">\n<title>S87</title>\n<ellipse fill=\"none\" stroke=\"#000000\" cx=\"29.9977\" cy=\"-140.9931\" rx=\"27\" ry=\"18\"/>\n<text text-anchor=\"middle\" x=\"29.9977\" y=\"-137.2931\" font-family=\"Times,serif\" font-size=\"14.00\" fill=\"#000000\">S87</text>\n</g>\n<!-- S85&#45;&gt;S87 -->\n<g id=\"edge4\" class=\"edge\">\n<title>S85&#45;&gt;S87</title>\n<path fill=\"none\" stroke=\"#000000\" d=\"M61.2041,-222.292C55.4221,-207.2288 47.0248,-185.3522 40.3971,-168.0858\"/>\n<polygon fill=\"#000000\" stroke=\"#000000\" points=\"43.5837,-166.6203 36.7325,-158.5387 37.0486,-169.1288 43.5837,-166.6203\"/>\n<text text-anchor=\"middle\" x=\"58.4977\" y=\"-192.7908\" font-family=\"Times,serif\" font-size=\"14.00\" fill=\"#000000\">=</text>\n</g>\n<!-- S86 -->\n<g id=\"node5\" class=\"node\">\n<title>S86</title>\n<ellipse fill=\"none\" stroke=\"#000000\" cx=\"104.9977\" cy=\"-140.9931\" rx=\"25.9957\" ry=\"25.9957\"/>\n<ellipse fill=\"none\" stroke=\"#000000\" cx=\"104.9977\" cy=\"-140.9931\" rx=\"29.9954\" ry=\"29.9954\"/>\n<text text-anchor=\"middle\" x=\"104.9977\" y=\"-137.2931\" font-family=\"Times,serif\" font-size=\"14.00\" fill=\"#000000\">S86</text>\n</g>\n<!-- S85&#45;&gt;S86 -->\n<g id=\"edge3\" class=\"edge\">\n<title>S85&#45;&gt;S86</title>\n<path fill=\"none\" stroke=\"#000000\" d=\"M74.6126,-222.292C79.1141,-210.2477 85.2436,-193.8473 90.8187,-178.9307\"/>\n<polygon fill=\"#000000\" stroke=\"#000000\" points=\"94.157,-179.9958 94.3795,-169.4033 87.6,-177.5451 94.157,-179.9958\"/>\n<text text-anchor=\"middle\" x=\"130.9977\" y=\"-192.7908\" font-family=\"Times,serif\" font-size=\"14.00\" fill=\"#000000\">lista_fim_token</text>\n</g>\n<!-- S88 -->\n<g id=\"node6\" class=\"node\">\n<title>S88</title>\n<ellipse fill=\"none\" stroke=\"#000000\" cx=\"29.9977\" cy=\"-29.9977\" rx=\"25.9957\" ry=\"25.9957\"/>\n<ellipse fill=\"none\" stroke=\"#000000\" cx=\"29.9977\" cy=\"-29.9977\" rx=\"29.9954\" ry=\"29.9954\"/>\n<text text-anchor=\"middle\" x=\"29.9977\" y=\"-26.2977\" font-family=\"Times,serif\" font-size=\"14.00\" fill=\"#000000\">S88</text>\n</g>\n<!-- S87&#45;&gt;S88 -->\n<g id=\"edge5\" class=\"edge\">\n<title>S87&#45;&gt;S88</title>\n<path fill=\"none\" stroke=\"#000000\" d=\"M29.9977,-122.6644C29.9977,-108.4582 29.9977,-88.2383 29.9977,-70.3092\"/>\n<polygon fill=\"#000000\" stroke=\"#000000\" points=\"33.4978,-70.0803 29.9977,-60.0804 26.4978,-70.0804 33.4978,-70.0803\"/>\n<text text-anchor=\"middle\" x=\"74.9977\" y=\"-81.7954\" font-family=\"Times,serif\" font-size=\"14.00\" fill=\"#000000\">lista_fim_token</text>\n</g>\n</g>\n</svg>\n"
          },
          "metadata": {},
          "execution_count": 39
        }
      ]
    },
    {
      "cell_type": "code",
      "metadata": {
        "colab": {
          "base_uri": "https://localhost:8080/",
          "height": 557
        },
        "id": "tsFCrCaH-fL9",
        "outputId": "ca16ca38-6e8f-447e-e7c3-a9e32c2c06b7"
      },
      "source": [
        "#AFD OR\n",
        "alfabeto = ['|','lista_fim_token']\n",
        "estado_inicial = 'S0'\n",
        "estados_finais = ['S93']\n",
        "transicao = {\n",
        "               'S0':{\n",
        "                    '|':'S91'\n",
        "                   },\n",
        "              'S91':{\n",
        "                    '|':'S92'\n",
        "                    },\n",
        "             'S92':{\n",
        "                    'lista_fim_token':'S93'\n",
        "                   },\n",
        "             'S93':{}\n",
        "             \n",
        "\n",
        "             \n",
        "            }\n",
        "M1 = AFD(alfabeto,estado_inicial,estados_finais,transicao)\n",
        "M1.desenhar()"
      ],
      "execution_count": 40,
      "outputs": [
        {
          "output_type": "execute_result",
          "data": {
            "text/plain": [
              "<graphviz.dot.Digraph at 0x7fb58d13e6d0>"
            ],
            "image/svg+xml": "<?xml version=\"1.0\" encoding=\"UTF-8\" standalone=\"no\"?>\n<!DOCTYPE svg PUBLIC \"-//W3C//DTD SVG 1.1//EN\"\n \"http://www.w3.org/Graphics/SVG/1.1/DTD/svg11.dtd\">\n<!-- Generated by graphviz version 2.40.1 (20161225.0304)\n -->\n<!-- Title: G Pages: 1 -->\n<svg width=\"128pt\" height=\"402pt\"\n viewBox=\"0.00 0.00 128.00 402.00\" xmlns=\"http://www.w3.org/2000/svg\" xmlns:xlink=\"http://www.w3.org/1999/xlink\">\n<g id=\"graph0\" class=\"graph\" transform=\"scale(1 1) rotate(0) translate(4 397.9954)\">\n<title>G</title>\n<polygon fill=\"#ffffff\" stroke=\"transparent\" points=\"-4,4 -4,-397.9954 123.9977,-397.9954 123.9977,4 -4,4\"/>\n<!-- start -->\n<g id=\"node1\" class=\"node\">\n<title>start</title>\n<text text-anchor=\"middle\" x=\"29.9977\" y=\"-372.2954\" font-family=\"Times,serif\" font-size=\"14.00\" fill=\"#000000\">start</text>\n</g>\n<!-- S0 -->\n<g id=\"node2\" class=\"node\">\n<title>S0</title>\n<ellipse fill=\"none\" stroke=\"#000000\" cx=\"29.9977\" cy=\"-302.9954\" rx=\"27\" ry=\"18\"/>\n<text text-anchor=\"middle\" x=\"29.9977\" y=\"-299.2954\" font-family=\"Times,serif\" font-size=\"14.00\" fill=\"#000000\">S0</text>\n</g>\n<!-- start&#45;&gt;S0 -->\n<g id=\"edge1\" class=\"edge\">\n<title>start&#45;&gt;S0</title>\n<path fill=\"none\" stroke=\"#000000\" d=\"M29.9977,-357.9504C29.9977,-349.8782 29.9977,-340.1718 29.9977,-331.1771\"/>\n<polygon fill=\"#000000\" stroke=\"#000000\" points=\"33.4978,-331.0857 29.9977,-321.0857 26.4978,-331.0858 33.4978,-331.0857\"/>\n</g>\n<!-- S91 -->\n<g id=\"node3\" class=\"node\">\n<title>S91</title>\n<ellipse fill=\"none\" stroke=\"#000000\" cx=\"29.9977\" cy=\"-215.9954\" rx=\"27\" ry=\"18\"/>\n<text text-anchor=\"middle\" x=\"29.9977\" y=\"-212.2954\" font-family=\"Times,serif\" font-size=\"14.00\" fill=\"#000000\">S91</text>\n</g>\n<!-- S0&#45;&gt;S91 -->\n<g id=\"edge2\" class=\"edge\">\n<title>S0&#45;&gt;S91</title>\n<path fill=\"none\" stroke=\"#000000\" d=\"M29.9977,-284.9689C29.9977,-273.1872 29.9977,-257.556 29.9977,-244.1535\"/>\n<polygon fill=\"#000000\" stroke=\"#000000\" points=\"33.4978,-243.9987 29.9977,-233.9987 26.4978,-243.9988 33.4978,-243.9987\"/>\n<text text-anchor=\"middle\" x=\"31.9977\" y=\"-255.7954\" font-family=\"Times,serif\" font-size=\"14.00\" fill=\"#000000\">|</text>\n</g>\n<!-- S92 -->\n<g id=\"node4\" class=\"node\">\n<title>S92</title>\n<ellipse fill=\"none\" stroke=\"#000000\" cx=\"29.9977\" cy=\"-128.9954\" rx=\"27\" ry=\"18\"/>\n<text text-anchor=\"middle\" x=\"29.9977\" y=\"-125.2954\" font-family=\"Times,serif\" font-size=\"14.00\" fill=\"#000000\">S92</text>\n</g>\n<!-- S91&#45;&gt;S92 -->\n<g id=\"edge3\" class=\"edge\">\n<title>S91&#45;&gt;S92</title>\n<path fill=\"none\" stroke=\"#000000\" d=\"M29.9977,-197.9689C29.9977,-186.1872 29.9977,-170.556 29.9977,-157.1535\"/>\n<polygon fill=\"#000000\" stroke=\"#000000\" points=\"33.4978,-156.9987 29.9977,-146.9987 26.4978,-156.9988 33.4978,-156.9987\"/>\n<text text-anchor=\"middle\" x=\"31.9977\" y=\"-168.7954\" font-family=\"Times,serif\" font-size=\"14.00\" fill=\"#000000\">|</text>\n</g>\n<!-- S93 -->\n<g id=\"node5\" class=\"node\">\n<title>S93</title>\n<ellipse fill=\"none\" stroke=\"#000000\" cx=\"29.9977\" cy=\"-29.9977\" rx=\"25.9957\" ry=\"25.9957\"/>\n<ellipse fill=\"none\" stroke=\"#000000\" cx=\"29.9977\" cy=\"-29.9977\" rx=\"29.9954\" ry=\"29.9954\"/>\n<text text-anchor=\"middle\" x=\"29.9977\" y=\"-26.2977\" font-family=\"Times,serif\" font-size=\"14.00\" fill=\"#000000\">S93</text>\n</g>\n<!-- S92&#45;&gt;S93 -->\n<g id=\"edge4\" class=\"edge\">\n<title>S92&#45;&gt;S93</title>\n<path fill=\"none\" stroke=\"#000000\" d=\"M29.9977,-110.8377C29.9977,-99.4286 29.9977,-84.2458 29.9977,-70.1204\"/>\n<polygon fill=\"#000000\" stroke=\"#000000\" points=\"33.4978,-70.0908 29.9977,-60.0909 26.4978,-70.0909 33.4978,-70.0908\"/>\n<text text-anchor=\"middle\" x=\"74.9977\" y=\"-81.7954\" font-family=\"Times,serif\" font-size=\"14.00\" fill=\"#000000\">lista_fim_token</text>\n</g>\n</g>\n</svg>\n"
          },
          "metadata": {},
          "execution_count": 40
        }
      ]
    },
    {
      "cell_type": "code",
      "metadata": {
        "colab": {
          "base_uri": "https://localhost:8080/",
          "height": 557
        },
        "id": "VRGoalZu-2n3",
        "outputId": "86861a2d-a2cb-425a-9b5e-6c03d3907fb3"
      },
      "source": [
        "#AFD OR\n",
        "alfabeto = ['&','lista_fim_token']\n",
        "estado_inicial = 'S0'\n",
        "estados_finais = ['S96']\n",
        "transicao = {\n",
        "               'S0':{\n",
        "                    '&':'S94'\n",
        "                   },\n",
        "              'S94':{\n",
        "                    '&':'S95'\n",
        "                    },\n",
        "             'S95':{\n",
        "                    'lista_fim_token':'S96'\n",
        "                   },\n",
        "             'S96':{}\n",
        "             \n",
        "\n",
        "             \n",
        "            }\n",
        "M1 = AFD(alfabeto,estado_inicial,estados_finais,transicao)\n",
        "M1.desenhar()"
      ],
      "execution_count": 41,
      "outputs": [
        {
          "output_type": "execute_result",
          "data": {
            "text/plain": [
              "<graphviz.dot.Digraph at 0x7fb58d153890>"
            ],
            "image/svg+xml": "<?xml version=\"1.0\" encoding=\"UTF-8\" standalone=\"no\"?>\n<!DOCTYPE svg PUBLIC \"-//W3C//DTD SVG 1.1//EN\"\n \"http://www.w3.org/Graphics/SVG/1.1/DTD/svg11.dtd\">\n<!-- Generated by graphviz version 2.40.1 (20161225.0304)\n -->\n<!-- Title: G Pages: 1 -->\n<svg width=\"128pt\" height=\"402pt\"\n viewBox=\"0.00 0.00 128.00 402.00\" xmlns=\"http://www.w3.org/2000/svg\" xmlns:xlink=\"http://www.w3.org/1999/xlink\">\n<g id=\"graph0\" class=\"graph\" transform=\"scale(1 1) rotate(0) translate(4 397.9954)\">\n<title>G</title>\n<polygon fill=\"#ffffff\" stroke=\"transparent\" points=\"-4,4 -4,-397.9954 123.9977,-397.9954 123.9977,4 -4,4\"/>\n<!-- start -->\n<g id=\"node1\" class=\"node\">\n<title>start</title>\n<text text-anchor=\"middle\" x=\"29.9977\" y=\"-372.2954\" font-family=\"Times,serif\" font-size=\"14.00\" fill=\"#000000\">start</text>\n</g>\n<!-- S0 -->\n<g id=\"node2\" class=\"node\">\n<title>S0</title>\n<ellipse fill=\"none\" stroke=\"#000000\" cx=\"29.9977\" cy=\"-302.9954\" rx=\"27\" ry=\"18\"/>\n<text text-anchor=\"middle\" x=\"29.9977\" y=\"-299.2954\" font-family=\"Times,serif\" font-size=\"14.00\" fill=\"#000000\">S0</text>\n</g>\n<!-- start&#45;&gt;S0 -->\n<g id=\"edge1\" class=\"edge\">\n<title>start&#45;&gt;S0</title>\n<path fill=\"none\" stroke=\"#000000\" d=\"M29.9977,-357.9504C29.9977,-349.8782 29.9977,-340.1718 29.9977,-331.1771\"/>\n<polygon fill=\"#000000\" stroke=\"#000000\" points=\"33.4978,-331.0857 29.9977,-321.0857 26.4978,-331.0858 33.4978,-331.0857\"/>\n</g>\n<!-- S94 -->\n<g id=\"node3\" class=\"node\">\n<title>S94</title>\n<ellipse fill=\"none\" stroke=\"#000000\" cx=\"29.9977\" cy=\"-215.9954\" rx=\"27\" ry=\"18\"/>\n<text text-anchor=\"middle\" x=\"29.9977\" y=\"-212.2954\" font-family=\"Times,serif\" font-size=\"14.00\" fill=\"#000000\">S94</text>\n</g>\n<!-- S0&#45;&gt;S94 -->\n<g id=\"edge2\" class=\"edge\">\n<title>S0&#45;&gt;S94</title>\n<path fill=\"none\" stroke=\"#000000\" d=\"M29.9977,-284.9689C29.9977,-273.1872 29.9977,-257.556 29.9977,-244.1535\"/>\n<polygon fill=\"#000000\" stroke=\"#000000\" points=\"33.4978,-243.9987 29.9977,-233.9987 26.4978,-243.9988 33.4978,-243.9987\"/>\n<text text-anchor=\"middle\" x=\"35.9977\" y=\"-255.7954\" font-family=\"Times,serif\" font-size=\"14.00\" fill=\"#000000\">&amp;</text>\n</g>\n<!-- S95 -->\n<g id=\"node4\" class=\"node\">\n<title>S95</title>\n<ellipse fill=\"none\" stroke=\"#000000\" cx=\"29.9977\" cy=\"-128.9954\" rx=\"27\" ry=\"18\"/>\n<text text-anchor=\"middle\" x=\"29.9977\" y=\"-125.2954\" font-family=\"Times,serif\" font-size=\"14.00\" fill=\"#000000\">S95</text>\n</g>\n<!-- S94&#45;&gt;S95 -->\n<g id=\"edge3\" class=\"edge\">\n<title>S94&#45;&gt;S95</title>\n<path fill=\"none\" stroke=\"#000000\" d=\"M29.9977,-197.9689C29.9977,-186.1872 29.9977,-170.556 29.9977,-157.1535\"/>\n<polygon fill=\"#000000\" stroke=\"#000000\" points=\"33.4978,-156.9987 29.9977,-146.9987 26.4978,-156.9988 33.4978,-156.9987\"/>\n<text text-anchor=\"middle\" x=\"35.9977\" y=\"-168.7954\" font-family=\"Times,serif\" font-size=\"14.00\" fill=\"#000000\">&amp;</text>\n</g>\n<!-- S96 -->\n<g id=\"node5\" class=\"node\">\n<title>S96</title>\n<ellipse fill=\"none\" stroke=\"#000000\" cx=\"29.9977\" cy=\"-29.9977\" rx=\"25.9957\" ry=\"25.9957\"/>\n<ellipse fill=\"none\" stroke=\"#000000\" cx=\"29.9977\" cy=\"-29.9977\" rx=\"29.9954\" ry=\"29.9954\"/>\n<text text-anchor=\"middle\" x=\"29.9977\" y=\"-26.2977\" font-family=\"Times,serif\" font-size=\"14.00\" fill=\"#000000\">S96</text>\n</g>\n<!-- S95&#45;&gt;S96 -->\n<g id=\"edge4\" class=\"edge\">\n<title>S95&#45;&gt;S96</title>\n<path fill=\"none\" stroke=\"#000000\" d=\"M29.9977,-110.8377C29.9977,-99.4286 29.9977,-84.2458 29.9977,-70.1204\"/>\n<polygon fill=\"#000000\" stroke=\"#000000\" points=\"33.4978,-70.0908 29.9977,-60.0909 26.4978,-70.0909 33.4978,-70.0908\"/>\n<text text-anchor=\"middle\" x=\"74.9977\" y=\"-81.7954\" font-family=\"Times,serif\" font-size=\"14.00\" fill=\"#000000\">lista_fim_token</text>\n</g>\n</g>\n</svg>\n"
          },
          "metadata": {},
          "execution_count": 41
        }
      ]
    }
  ]
}